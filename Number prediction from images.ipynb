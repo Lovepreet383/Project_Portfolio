{
 "cells": [
  {
   "cell_type": "markdown",
   "metadata": {
    "id": "7SAknM4ffK7Y"
   },
   "source": [
    "# Machine Learning model for predicting numbers from images"
   ]
  },
  {
   "cell_type": "code",
   "execution_count": 1,
   "metadata": {
    "id": "U972w_xe8bhX"
   },
   "outputs": [],
   "source": [
    "# Importing libraries\n",
    "import numpy as np\n",
    "import pandas as pd \n",
    "import matplotlib.pyplot as plt \n",
    "%matplotlib inline \n",
    "import seaborn as sns\n",
    "import warnings\n",
    "warnings.filterwarnings(\"ignore\")\n",
    "from sklearn.datasets import load_digits\n",
    "digits = load_digits()"
   ]
  },
  {
   "cell_type": "code",
   "execution_count": 2,
   "metadata": {
    "colab": {
     "base_uri": "https://localhost:8080/"
    },
    "id": "eblXoxPe8cOy",
    "outputId": "cd8eafd7-e378-4e7f-ffb9-d9eb0e09f5bc"
   },
   "outputs": [
    {
     "name": "stdout",
     "output_type": "stream",
     "text": [
      "Image Data Shape (1797, 64)\n",
      "Label Data Shape (1797,)\n"
     ]
    }
   ],
   "source": [
    "# Determing the total number of image and labels\n",
    "print(\"Image Data Shape\", digits.data.shape)\n",
    "print(\"Label Data Shape\", digits.target.shape)"
   ]
  },
  {
   "cell_type": "code",
   "execution_count": 3,
   "metadata": {
    "colab": {
     "base_uri": "https://localhost:8080/",
     "height": 169
    },
    "id": "o9A8bHbW8cRx",
    "outputId": "37a3728a-5aed-4f53-f878-114aaf2be381"
   },
   "outputs": [
    {
     "data": {
      "image/png": "[encoded data removed]",
      "text/plain": [
       "<Figure size 1440x288 with 11 Axes>"
      ]
     },
     "metadata": {
      "needs_background": "light"
     },
     "output_type": "display_data"
    }
   ],
   "source": [
    "# displaying the images\n",
    "plt.figure(figsize = (20, 4))\n",
    "for index, (image, label) in enumerate(zip(digits.data[0:11], digits.target[0:11])):\n",
    "  plt.subplot(1, 11, index + 1)\n",
    "  plt.imshow(np.reshape(image, (8,8)), cmap = plt.cm.gray)\n",
    "  plt.title(\"Training: %i\\n\"% label, fontsize = 15)"
   ]
  },
  {
   "cell_type": "code",
   "execution_count": 4,
   "metadata": {
    "id": "3XhLe7fv8cUV"
   },
   "outputs": [],
   "source": [
    "from sklearn.model_selection import train_test_split"
   ]
  },
  {
   "cell_type": "code",
   "execution_count": 5,
   "metadata": {
    "id": "bxyTGKS-8cZe"
   },
   "outputs": [],
   "source": [
    "# Train test and splitting the data\n",
    "X_train, X_test, Y_train, Y_test = train_test_split(digits.data, digits.target, test_size=0.23, random_state=2)"
   ]
  },
  {
   "cell_type": "code",
   "execution_count": 6,
   "metadata": {
    "colab": {
     "base_uri": "https://localhost:8080/"
    },
    "id": "bWTTAAYeBvb_",
    "outputId": "0e28c585-47fe-4e6a-b1a5-f9a7129ee2de"
   },
   "outputs": [
    {
     "name": "stdout",
     "output_type": "stream",
     "text": [
      "(1383, 64)\n"
     ]
    }
   ],
   "source": [
    "# Trining data which is around 77% of the whole data\n",
    "print(X_train.shape)"
   ]
  },
  {
   "cell_type": "code",
   "execution_count": 7,
   "metadata": {
    "colab": {
     "base_uri": "https://localhost:8080/"
    },
    "id": "n-ZLX7cBBvk3",
    "outputId": "dc9d0a46-a670-4b42-b6e0-5f1738513f0b"
   },
   "outputs": [
    {
     "name": "stdout",
     "output_type": "stream",
     "text": [
      "(1383,)\n"
     ]
    }
   ],
   "source": [
    "print(Y_train.shape)"
   ]
  },
  {
   "cell_type": "code",
   "execution_count": 8,
   "metadata": {
    "colab": {
     "base_uri": "https://localhost:8080/"
    },
    "id": "OfM-6_ItBvnx",
    "outputId": "4dff72ec-218b-4648-e3f4-dd877d950f32"
   },
   "outputs": [
    {
     "name": "stdout",
     "output_type": "stream",
     "text": [
      "(414, 64)\n"
     ]
    }
   ],
   "source": [
    "# Test data which is 23% of the whole data\n",
    "print(X_test.shape)"
   ]
  },
  {
   "cell_type": "code",
   "execution_count": 9,
   "metadata": {
    "colab": {
     "base_uri": "https://localhost:8080/"
    },
    "id": "6vELh5vUBvqj",
    "outputId": "172d0ffa-4d0f-42ea-fb7d-fdbf2e76858a"
   },
   "outputs": [
    {
     "name": "stdout",
     "output_type": "stream",
     "text": [
      "(414,)\n"
     ]
    }
   ],
   "source": [
    "print(Y_test.shape)"
   ]
  },
  {
   "cell_type": "code",
   "execution_count": 10,
   "metadata": {
    "id": "mI1qDY9TBvtS"
   },
   "outputs": [],
   "source": [
    "# Importing Logistic Regression library\n",
    "from sklearn.linear_model import LogisticRegression"
   ]
  },
  {
   "cell_type": "code",
   "execution_count": 11,
   "metadata": {
    "id": "-rAUR3-qBvw0"
   },
   "outputs": [],
   "source": [
    "LogisticRegr = LogisticRegression()"
   ]
  },
  {
   "cell_type": "code",
   "execution_count": 12,
   "metadata": {
    "colab": {
     "base_uri": "https://localhost:8080/"
    },
    "id": "frPIEhZcBvzN",
    "outputId": "4c99396b-e69e-4523-9b15-94282442256a"
   },
   "outputs": [
    {
     "data": {
      "text/plain": [
       "LogisticRegression()"
      ]
     },
     "execution_count": 12,
     "metadata": {},
     "output_type": "execute_result"
    }
   ],
   "source": [
    "LogisticRegr.fit(X_train, Y_train)"
   ]
  },
  {
   "cell_type": "code",
   "execution_count": 13,
   "metadata": {
    "colab": {
     "base_uri": "https://localhost:8080/"
    },
    "id": "AtpJ2ceTBv2Z",
    "outputId": "68daf0f9-8014-4484-9c5b-c84f2df76fc2"
   },
   "outputs": [
    {
     "name": "stdout",
     "output_type": "stream",
     "text": [
      "[0]\n"
     ]
    }
   ],
   "source": [
    "# Predicting for one observation or image here \n",
    "\n",
    "print(LogisticRegr.predict(X_test[1].reshape(1, -1)))"
   ]
  },
  {
   "cell_type": "code",
   "execution_count": 14,
   "metadata": {
    "colab": {
     "base_uri": "https://localhost:8080/"
    },
    "id": "n0uStxwqBv4P",
    "outputId": "a2488323-20ca-4182-b1af-132effb8d7ed"
   },
   "outputs": [
    {
     "data": {
      "text/plain": [
       "array([4, 0, 9, 1, 8, 7, 1, 5, 1, 6])"
      ]
     },
     "execution_count": 14,
     "metadata": {},
     "output_type": "execute_result"
    }
   ],
   "source": [
    "LogisticRegr.predict(X_test[0:10])"
   ]
  },
  {
   "cell_type": "code",
   "execution_count": 15,
   "metadata": {
    "id": "qFDyfxDABv7N"
   },
   "outputs": [],
   "source": [
    "# Predicting for the whole test data\n",
    "y_predict = LogisticRegr.predict(X_test)"
   ]
  },
  {
   "cell_type": "code",
   "execution_count": 16,
   "metadata": {
    "colab": {
     "base_uri": "https://localhost:8080/"
    },
    "id": "hC5yoIc4Bv95",
    "outputId": "1a16b299-507e-4af1-c76e-18deb868ba3b"
   },
   "outputs": [
    {
     "data": {
      "text/plain": [
       "array([4, 0, 9, 1, 8, 7, 1, 5, 1, 6, 6, 7, 6, 1, 5, 5, 8, 6, 2, 7, 4, 6,\n",
       "       4, 1, 5, 2, 9, 5, 4, 6, 5, 6, 3, 4, 0, 9, 9, 8, 4, 6, 8, 8, 5, 7,\n",
       "       9, 8, 9, 6, 1, 7, 0, 1, 9, 7, 3, 3, 1, 8, 8, 8, 9, 8, 5, 8, 4, 8,\n",
       "       3, 5, 8, 4, 3, 9, 3, 8, 7, 3, 3, 0, 8, 7, 2, 8, 5, 3, 8, 7, 6, 4,\n",
       "       6, 2, 2, 0, 1, 1, 5, 3, 5, 7, 1, 8, 2, 2, 6, 4, 6, 7, 3, 7, 3, 9,\n",
       "       4, 7, 0, 3, 5, 8, 5, 0, 3, 9, 2, 7, 3, 2, 0, 8, 1, 9, 2, 1, 5, 1,\n",
       "       0, 3, 4, 3, 0, 8, 3, 2, 2, 7, 3, 1, 6, 7, 2, 8, 3, 1, 1, 6, 4, 8,\n",
       "       2, 1, 8, 4, 1, 3, 1, 1, 9, 5, 4, 8, 7, 4, 8, 9, 5, 7, 6, 9, 4, 0,\n",
       "       4, 0, 0, 9, 0, 6, 5, 8, 8, 3, 7, 9, 2, 0, 3, 2, 7, 3, 0, 2, 1, 5,\n",
       "       2, 7, 0, 6, 9, 3, 3, 1, 3, 5, 2, 8, 5, 2, 1, 2, 9, 4, 6, 5, 5, 5,\n",
       "       9, 7, 1, 5, 9, 6, 3, 7, 1, 7, 5, 1, 7, 2, 7, 5, 5, 4, 8, 6, 6, 2,\n",
       "       8, 7, 3, 7, 8, 0, 3, 5, 7, 4, 3, 4, 1, 0, 3, 3, 5, 4, 1, 3, 1, 2,\n",
       "       5, 1, 4, 0, 3, 1, 5, 5, 7, 4, 0, 1, 0, 9, 5, 5, 5, 4, 0, 1, 8, 6,\n",
       "       2, 1, 1, 1, 7, 9, 6, 7, 9, 7, 0, 4, 9, 6, 9, 2, 7, 2, 1, 0, 8, 2,\n",
       "       8, 6, 5, 7, 8, 4, 5, 7, 8, 6, 4, 2, 6, 9, 3, 0, 0, 8, 0, 6, 6, 7,\n",
       "       1, 4, 5, 6, 9, 7, 2, 8, 5, 1, 2, 4, 1, 8, 8, 7, 6, 0, 8, 0, 6, 1,\n",
       "       5, 7, 8, 0, 4, 1, 4, 5, 9, 2, 2, 3, 9, 1, 3, 9, 3, 2, 8, 0, 6, 5,\n",
       "       6, 2, 5, 2, 3, 2, 6, 1, 0, 7, 6, 0, 6, 2, 7, 0, 3, 2, 4, 2, 3, 6,\n",
       "       9, 7, 7, 0, 3, 5, 4, 1, 2, 2, 1, 2, 7, 7, 0, 4, 9, 8])"
      ]
     },
     "execution_count": 16,
     "metadata": {},
     "output_type": "execute_result"
    }
   ],
   "source": [
    "y_predict "
   ]
  },
  {
   "cell_type": "code",
   "execution_count": 17,
   "metadata": {
    "colab": {
     "base_uri": "https://localhost:8080/"
    },
    "id": "zYTASDnzBwC3",
    "outputId": "490bb9fa-30f7-413b-b891-08345068c765"
   },
   "outputs": [
    {
     "data": {
      "text/plain": [
       "95.16908212560386"
      ]
     },
     "execution_count": 17,
     "metadata": {},
     "output_type": "execute_result"
    }
   ],
   "source": [
    "# Checking the accuracy of the model\n",
    "score = LogisticRegr.score(X_test, Y_test)\n",
    "score = score*100\n",
    "score"
   ]
  },
  {
   "cell_type": "code",
   "execution_count": 18,
   "metadata": {
    "colab": {
     "base_uri": "https://localhost:8080/"
    },
    "id": "nExNy7wiBwFr",
    "outputId": "9b90c793-cdce-468b-aa81-01bed0724b97"
   },
   "outputs": [
    {
     "data": {
      "text/plain": [
       "array([[37,  0,  0,  0,  1,  0,  0,  0,  0,  0],\n",
       "       [ 0, 45,  0,  1,  0,  0,  0,  0,  1,  1],\n",
       "       [ 0,  0, 43,  0,  0,  0,  0,  0,  0,  0],\n",
       "       [ 0,  0,  0, 40,  0,  0,  0,  1,  1,  0],\n",
       "       [ 0,  0,  0,  0, 34,  0,  0,  0,  3,  1],\n",
       "       [ 0,  1,  0,  0,  1, 44,  0,  0,  0,  0],\n",
       "       [ 0,  1,  0,  0,  0,  0, 39,  0,  1,  0],\n",
       "       [ 0,  0,  0,  0,  0,  0,  0, 45,  1,  0],\n",
       "       [ 0,  0,  0,  0,  0,  0,  0,  0, 37,  1],\n",
       "       [ 0,  0,  0,  2,  0,  1,  0,  0,  1, 30]], dtype=int64)"
      ]
     },
     "execution_count": 18,
     "metadata": {},
     "output_type": "execute_result"
    }
   ],
   "source": [
    "# Representing the confusion matrix\n",
    "from sklearn import metrics\n",
    "cm = metrics.confusion_matrix(Y_test, y_predict)\n",
    "cm"
   ]
  },
  {
   "cell_type": "code",
   "execution_count": 19,
   "metadata": {
    "colab": {
     "base_uri": "https://localhost:8080/",
     "height": 358
    },
    "id": "5oaBtihOBwIi",
    "outputId": "ae36cfdc-dd94-4574-f179-649bcd488910"
   },
   "outputs": [
    {
     "data": {
      "image/png": "[encoded data removed]",
      "text/plain": [
       "<Figure size 720x360 with 2 Axes>"
      ]
     },
     "metadata": {
      "needs_background": "light"
     },
     "output_type": "display_data"
    }
   ],
   "source": [
    "# Representing the confusion matrix on heatmap \n",
    "plt.figure(figsize = (10, 5))\n",
    "sns.heatmap(cm, annot = True, cmap = \"Blues_r\")\n",
    "plt.title(\"Accuracy Score: {}\".format(score), fontsize = 20)\n",
    "plt.xlabel(\"Predicted label\", fontsize = 12)\n",
    "plt.ylabel(\"Actual label\", fontsize = 12)\n",
    "plt.show()"
   ]
  },
  {
   "cell_type": "code",
   "execution_count": 20,
   "metadata": {
    "colab": {
     "base_uri": "https://localhost:8080/",
     "height": 232
    },
    "id": "80XqALjQBwLI",
    "outputId": "732ee3c1-848f-4ef4-a21c-e351d7d2b8ab",
    "scrolled": true
   },
   "outputs": [
    {
     "data": {
      "image/png": "[encoded data removed]",
      "text/plain": [
       "<Figure size 1440x216 with 4 Axes>"
      ]
     },
     "metadata": {
      "needs_background": "light"
     },
     "output_type": "display_data"
    }
   ],
   "source": [
    "index = 0\n",
    "classifiedIndex = []\n",
    "for predict, actual in zip(y_predict, Y_test):\n",
    "  if predict == actual:\n",
    "    classifiedIndex.append(index)\n",
    "  index += 1\n",
    "plt.figure(figsize = (20, 3))\n",
    "for plotIndex, wrong in enumerate(classifiedIndex[0:4]):\n",
    "  plt.subplot(1, 4, plotIndex + 1)\n",
    "  plt.imshow(np.reshape(X_test[wrong], (8,8)), cmap = plt.cm.gray)\n",
    "  plt.title(\"Predicted: {}, Actual: {}\".format(y_predict[wrong], Y_test[wrong]), fontsize = 20)"
   ]
  },
  {
   "cell_type": "markdown",
   "metadata": {},
   "source": [
    "# Summary \n",
    "    \n",
    "    - The model is able to predict the numbers from the image data with 95.16% accuracy.\n",
    "    - 77% of the data is trained to test on 23% of the data. "
   ]
  }
 ],
 "metadata": {
  "colab": {
   "collapsed_sections": [],
   "name": "Logistic Regression on image dataset.ipynb",
   "provenance": []
  },
  "kernelspec": {
   "display_name": "Python 3 (ipykernel)",
   "language": "python",
   "name": "python3"
  },
  "language_info": {
   "codemirror_mode": {
    "name": "ipython",
    "version": 3
   },
   "file_extension": ".py",
   "mimetype": "text/x-python",
   "name": "python",
   "nbconvert_exporter": "python",
   "pygments_lexer": "ipython3",
   "version": "3.9.12"
  }
 },
 "nbformat": 4,
 "nbformat_minor": 1
}
