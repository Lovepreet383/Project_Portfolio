{
 "cells": [
  {
   "cell_type": "markdown",
   "id": "549faef2",
   "metadata": {},
   "source": [
    "# US Accidents Exploratory Data Analysis"
   ]
  },
  {
   "cell_type": "markdown",
   "id": "e47feb70",
   "metadata": {},
   "source": [
    "TODO - All about the dataset (source, what it contains, how it will be useful)\n",
    "\n",
    "    -- Kaggle\n",
    "    \n",
    "    -- Information about accidents\n",
    "    \n",
    "    -- Can be useful to prevent accidents "
   ]
  },
  {
   "cell_type": "code",
   "execution_count": null,
   "id": "7030deaa",
   "metadata": {},
   "outputs": [],
   "source": [
    "pip install opendatasets --upgrade --quiet"
   ]
  },
  {
   "cell_type": "code",
   "execution_count": null,
   "id": "b18f63ae",
   "metadata": {},
   "outputs": [],
   "source": [
    "import opendatasets as od\n",
    "\n",
    "download_url = \"https://www.kaggle.com/sobhanmoosavi/us-accidents\"\n",
    "\n",
    "od.download(download_url)"
   ]
  },
  {
   "cell_type": "code",
   "execution_count": null,
   "id": "0bf78518",
   "metadata": {},
   "outputs": [],
   "source": [
    "data_filename = \"./us-accidents/US_Accidents_Dec20_updated.csv\""
   ]
  },
  {
   "cell_type": "markdown",
   "id": "7636302e",
   "metadata": {},
   "source": [
    "## Data Preparation and Cleaning\n",
    "1) Load the file using Pandas\n",
    "\n",
    "2) Look at some information about the date and the columns\n",
    "\n",
    "3) Fix any missing or incorrect values"
   ]
  },
  {
   "cell_type": "code",
   "execution_count": null,
   "id": "e6775637",
   "metadata": {},
   "outputs": [],
   "source": [
    "import pandas as pd\n",
    "import numpy as np\n",
    "import matplotlib.pyplot as plt\n",
    "%matplotlib inline\n",
    "import seaborn as sns\n",
    "sns.set_style(\"darkgrid\")\n",
    "import warnings\n",
    "warnings.filterwarnings(\"ignore\")"
   ]
  },
  {
   "cell_type": "code",
   "execution_count": null,
   "id": "1691aa7c",
   "metadata": {},
   "outputs": [],
   "source": [
    "df = pd.read_csv(data_filename)\n",
    "df.head()"
   ]
  },
  {
   "cell_type": "code",
   "execution_count": null,
   "id": "b68a799b",
   "metadata": {},
   "outputs": [],
   "source": [
    "df.shape"
   ]
  },
  {
   "cell_type": "code",
   "execution_count": null,
   "id": "91ac5c4d",
   "metadata": {},
   "outputs": [],
   "source": [
    "df.describe()"
   ]
  },
  {
   "cell_type": "code",
   "execution_count": null,
   "id": "f3780560",
   "metadata": {},
   "outputs": [],
   "source": [
    "# Finding the number of numeric columns in this dataset\n",
    "\n",
    "numerics = [\"int16\", \"int32\", \"int64\", \"float16\", \"float32\", \"float64\"]\n",
    "\n",
    "numeric_df = df.select_dtypes(include = numerics)\n",
    "\n",
    "len(numeric_df.columns)"
   ]
  },
  {
   "cell_type": "code",
   "execution_count": null,
   "id": "a4345501",
   "metadata": {},
   "outputs": [],
   "source": [
    "# Percentage of missing values per column\n",
    "\n",
    "missing_percentages = round(100*df.isna().sum().sort_values(ascending = False)/len(df), 2)\n",
    "\n",
    "missing_percentages"
   ]
  },
  {
   "cell_type": "code",
   "execution_count": null,
   "id": "d3729f31",
   "metadata": {},
   "outputs": [],
   "source": [
    "missing_percentages[missing_percentages != 0].plot.barh()\n",
    "plt.show()"
   ]
  },
  {
   "cell_type": "markdown",
   "id": "da00803e",
   "metadata": {},
   "source": [
    "## Exploratory Analysis and Visualization\n",
    "\n",
    "Columns which are analyzed below:\n",
    "\n",
    "1) City\n",
    "\n",
    "2) Start Time\n",
    "\n",
    "3) Start Lat, Start Lng\n"
   ]
  },
  {
   "cell_type": "code",
   "execution_count": null,
   "id": "ebf53125",
   "metadata": {},
   "outputs": [],
   "source": [
    "df.columns"
   ]
  },
  {
   "cell_type": "markdown",
   "id": "ffd62021",
   "metadata": {},
   "source": [
    "### Cities"
   ]
  },
  {
   "cell_type": "code",
   "execution_count": null,
   "id": "723d8df2",
   "metadata": {},
   "outputs": [],
   "source": [
    "# Finding the number of unique cities \n",
    "\n",
    "cities = df.City.unique()\n",
    "len(cities)"
   ]
  },
  {
   "cell_type": "code",
   "execution_count": null,
   "id": "257ad5aa",
   "metadata": {},
   "outputs": [],
   "source": [
    "# Number of cities where accident happened\n",
    "\n",
    "cities_by_accident = df.City.value_counts()\n",
    "cities_by_accident.head()"
   ]
  },
  {
   "cell_type": "code",
   "execution_count": null,
   "id": "2c7a73dc",
   "metadata": {},
   "outputs": [],
   "source": [
    "# Top 20 cities in which accidnets happened\n",
    "\n",
    "cities_by_accident[:20].plot.barh()\n",
    "plt.show()"
   ]
  },
  {
   "cell_type": "code",
   "execution_count": null,
   "id": "0d205254",
   "metadata": {},
   "outputs": [],
   "source": [
    "sns.distplot(cities_by_accident)\n",
    "plt.show()\n",
    "\n",
    "# This displot shows that most of the cities have less than 2000 accidents. "
   ]
  },
  {
   "cell_type": "code",
   "execution_count": null,
   "id": "5ba57686",
   "metadata": {},
   "outputs": [],
   "source": [
    "sns.histplot(cities_by_accident, log_scale= True)\n",
    "plt.show()"
   ]
  },
  {
   "cell_type": "code",
   "execution_count": null,
   "id": "9b37d3d1",
   "metadata": {},
   "outputs": [],
   "source": [
    "cities_by_accident[cities_by_accident == 1]"
   ]
  },
  {
   "cell_type": "code",
   "execution_count": null,
   "id": "957d9428",
   "metadata": {},
   "outputs": [],
   "source": [
    "# Creating the buckets for the number of accidents\n",
    "\n",
    "high_accident_cities = cities_by_accident[cities_by_accident >= 1000]\n",
    "low_accident_cities = cities_by_accident[cities_by_accident < 1000]"
   ]
  },
  {
   "cell_type": "code",
   "execution_count": null,
   "id": "a72b11cb",
   "metadata": {},
   "outputs": [],
   "source": [
    "len(high_accident_cities)"
   ]
  },
  {
   "cell_type": "code",
   "execution_count": null,
   "id": "493d753e",
   "metadata": {},
   "outputs": [],
   "source": [
    "100 * len(high_accident_cities) / len(cities)"
   ]
  },
  {
   "cell_type": "code",
   "execution_count": null,
   "id": "f682c27f",
   "metadata": {},
   "outputs": [],
   "source": [
    "sns.distplot(high_accident_cities)\n",
    "plt.show()"
   ]
  },
  {
   "cell_type": "code",
   "execution_count": null,
   "id": "74af0831",
   "metadata": {},
   "outputs": [],
   "source": [
    "sns.distplot(low_accident_cities)\n",
    "plt.show()"
   ]
  },
  {
   "cell_type": "markdown",
   "id": "4434bfd8",
   "metadata": {},
   "source": [
    "### Start Time"
   ]
  },
  {
   "cell_type": "code",
   "execution_count": null,
   "id": "ac20e2c0",
   "metadata": {},
   "outputs": [],
   "source": [
    "df.Start_Time"
   ]
  },
  {
   "cell_type": "code",
   "execution_count": null,
   "id": "27a9084e",
   "metadata": {},
   "outputs": [],
   "source": [
    "df.Start_Time = pd.to_datetime(df.Start_Time)"
   ]
  },
  {
   "cell_type": "code",
   "execution_count": null,
   "id": "45914a3e",
   "metadata": {},
   "outputs": [],
   "source": [
    "df.Start_Time[0]"
   ]
  },
  {
   "cell_type": "code",
   "execution_count": null,
   "id": "d5171509",
   "metadata": {},
   "outputs": [],
   "source": [
    "sns.distplot(df.Start_Time.dt.hour, bins = 24, kde = False, norm_hist = True)\n",
    "plt.show()\n",
    "\n",
    "# A high percentage of accidents occur between 3 pm to 6 pm (probably people are in hurry to come back home from work). "
   ]
  },
  {
   "cell_type": "code",
   "execution_count": null,
   "id": "b25bd333",
   "metadata": {},
   "outputs": [],
   "source": [
    "# Checking on days of the week\n",
    "\n",
    "sns.distplot(df.Start_Time.dt.dayofweek, bins = 7, kde = False, norm_hist = True)\n",
    "plt.show()"
   ]
  },
  {
   "cell_type": "markdown",
   "id": "c5a5389d",
   "metadata": {},
   "source": [
    "#### Is the distribution of accidents by hour the same on weekends as on weekdays?"
   ]
  },
  {
   "cell_type": "code",
   "execution_count": null,
   "id": "0ef34999",
   "metadata": {},
   "outputs": [],
   "source": [
    "Sunday_Start_Time = df.Start_Time[df.Start_Time.dt.dayofweek == 6]\n",
    "\n",
    "sns.distplot(Sunday_Start_Time.dt.hour, bins = 24, kde = False, norm_hist = True)\n",
    "plt.show()\n",
    "\n",
    "# On Sundays, The peak occurs in the evening between 4 PM and 12 AM. "
   ]
  },
  {
   "cell_type": "code",
   "execution_count": null,
   "id": "0606272b",
   "metadata": {},
   "outputs": [],
   "source": [
    "# Checking for the months\n",
    "\n",
    "sns.distplot(df.Start_Time.dt.month, bins = 12, kde = False, norm_hist = True)\n",
    "plt.show()\n",
    "\n",
    "# It seems that lowest accidents occur in summer season and highest in the winter season. \n",
    "# This might be due to the low visibility on the roads due to fog or may be slippery roads due to snow. "
   ]
  },
  {
   "cell_type": "code",
   "execution_count": null,
   "id": "7ae7c1da",
   "metadata": {},
   "outputs": [],
   "source": [
    "# Checking for invidual years just to inspect the above distplot.\n",
    "\n",
    "df_2019 = df[df.Start_Time.dt.year == 2019]\n",
    "sns.distplot(df_2019.Start_Time.dt.month, bins = 12, kde = False, norm_hist = True)\n",
    "plt.show()"
   ]
  },
  {
   "cell_type": "code",
   "execution_count": null,
   "id": "c61a4e18",
   "metadata": {},
   "outputs": [],
   "source": [
    "df_2017 = df[df.Start_Time.dt.year == 2017]\n",
    "sns.distplot(df_2017.Start_Time.dt.month, bins = 12, kde = False, norm_hist = True)\n",
    "plt.show()"
   ]
  },
  {
   "cell_type": "code",
   "execution_count": null,
   "id": "dac7c702",
   "metadata": {},
   "outputs": [],
   "source": [
    "df_2016 = df[df.Start_Time.dt.year == 2016]\n",
    "sns.distplot(df_2016.Start_Time.dt.month, bins = 12, kde = False, norm_hist = True)\n",
    "plt.show()\n",
    "\n",
    "# As we see here that the data is missing in the year 2016, which could the be reason of getting inaccurate plot. "
   ]
  },
  {
   "cell_type": "markdown",
   "id": "d9aad9fe",
   "metadata": {},
   "source": [
    "### Start Latitude & Longitude"
   ]
  },
  {
   "cell_type": "code",
   "execution_count": null,
   "id": "8a73c53f",
   "metadata": {},
   "outputs": [],
   "source": [
    "df.Start_Lat.head()"
   ]
  },
  {
   "cell_type": "code",
   "execution_count": null,
   "id": "8fc03a56",
   "metadata": {},
   "outputs": [],
   "source": [
    "df.Start_Lng.head()"
   ]
  },
  {
   "cell_type": "code",
   "execution_count": null,
   "id": "61ad3910",
   "metadata": {},
   "outputs": [],
   "source": [
    "sns.scatterplot(x = df.Start_Lng, y = df.Start_Lat)\n",
    "plt.show()"
   ]
  },
  {
   "cell_type": "code",
   "execution_count": null,
   "id": "65282ae1",
   "metadata": {},
   "outputs": [],
   "source": [
    "import folium\n",
    "from folium.plugins import HeatMap"
   ]
  },
  {
   "cell_type": "code",
   "execution_count": null,
   "id": "671cc315",
   "metadata": {},
   "outputs": [],
   "source": [
    "# Displaying on heatmap\n",
    "import ipynbcompress\n",
    "map = folium.Map()\n",
    "\n",
    "HeatMap(zip(list(df.Start_Lat), list(df.Start_Lng))).add_to(map)\n",
    "map"
   ]
  },
  {
   "cell_type": "markdown",
   "id": "3fc74bc0",
   "metadata": {},
   "source": [
    "### Ask & answer questions\n",
    "𝟏) 𝐀𝐫𝐞 𝐭𝐡𝐞𝐫𝐞 𝐦𝐨𝐫𝐞 𝐚𝐜𝐜𝐢𝐝𝐞𝐧𝐭𝐬 𝐢𝐧 𝐰𝐚𝐫𝐦𝐞𝐫 𝐨𝐫 𝐜𝐨𝐥𝐝𝐞𝐫 𝐦𝐨𝐧𝐭𝐡𝐬?\n",
    "\n",
    "Answer: There are more accidents in colder months, This might be due to snow or low visibility due to fog. \n",
    "\n",
    "𝟐) 𝐃𝐨𝐞𝐬 𝐍𝐞𝐰 𝐘𝐨𝐫𝐤 𝐬𝐡𝐨𝐰 𝐮𝐩 𝐢𝐧 𝐭𝐡𝐞 𝐝𝐚𝐭𝐚? 𝐈𝐟 𝐲𝐞𝐬, 𝐰𝐡𝐲 𝐢𝐬 𝐭𝐡𝐞 𝐜𝐨𝐮𝐧𝐭 𝐥𝐨𝐰𝐞𝐫 𝐢𝐟 𝐭𝐡𝐢𝐬 𝐢𝐬 𝐭𝐡𝐞 𝐦𝐨𝐬𝐭 𝐩𝐨𝐩𝐮𝐥𝐚𝐭𝐞𝐝 𝐜𝐢𝐭𝐲. \n",
    "\n",
    "Answer: No, New York is not available in the data.\n",
    "\n",
    "𝟑) 𝐖𝐡𝐚𝐭 𝐭𝐢𝐦𝐞 𝐨𝐟 𝐭𝐡𝐞 𝐝𝐚𝐲 𝐚𝐫𝐞 𝐚𝐜𝐜𝐢𝐝𝐞𝐧𝐭𝐬 𝐦𝐨𝐫𝐞 𝐟𝐫𝐞𝐪𝐮𝐞𝐧𝐭 𝐢𝐧?\n",
    "\n",
    "Answer: A high percentage of accidents occur between 3 pm to 6 pm (probably people are in hurry to come back home from work).\n",
    "\n",
    "𝟒) 𝐖𝐡𝐢𝐜𝐡 𝐝𝐚𝐲𝐬 𝐨𝐟 𝐭𝐡𝐞 𝐰𝐞𝐞𝐤 𝐡𝐚𝐯𝐞 𝐭𝐡𝐞 𝐦𝐨𝐬𝐭 𝐚𝐜𝐜𝐢𝐝𝐞𝐧𝐭𝐬 ?\n",
    "\n",
    "Answer: Most accidents are happening on weekdays only. The reason could be same as people go on their work on weekdays,\n",
    "so there are high chances of accidents in traffic. \n",
    "\n",
    "𝟓) 𝐖𝐡𝐢𝐜𝐡 𝐦𝐨𝐧𝐭𝐡𝐬 𝐡𝐚𝐯𝐞 𝐭𝐡𝐞 𝐦𝐨𝐬𝐭 𝐚𝐜𝐜𝐢𝐝𝐞𝐧𝐭𝐬?\n",
    "\n",
    "Answer: November and December months have the most accidents, and the reason could be the low visibility due to peak\n",
    "winters or snow fall. \n",
    "\n",
    "\n",
    "\n",
    "𝐍𝐨𝐭𝐞: There is high scope of finding many more things in this data. This is not limited only to these findings. We can look for weather conditions, Temperature and many other columns. "
   ]
  },
  {
   "cell_type": "markdown",
   "id": "c1dd5f38",
   "metadata": {},
   "source": [
    "### Summary and Conclusion\n",
    "\n",
    "Insights:\n",
    "    \n",
    "1) No data from New York\n",
    "\n",
    "2) The number of accidents per city decreases exponentially. \n",
    "\n",
    "2) Less than 3% cities have more than 1000 yearly accidents. \n",
    "\n",
    "3) Over 1100 cities have reported just one accident (need to investigate more).\n",
    "\n",
    "4) Los Angeles is at the top in terms of number of accidents. "
   ]
  },
  {
   "cell_type": "code",
   "execution_count": null,
   "id": "1495d942",
   "metadata": {},
   "outputs": [],
   "source": []
  },
  {
   "cell_type": "code",
   "execution_count": null,
   "id": "c5ad0d91",
   "metadata": {},
   "outputs": [],
   "source": []
  },
  {
   "cell_type": "code",
   "execution_count": null,
   "id": "69b8c131",
   "metadata": {},
   "outputs": [],
   "source": []
  },
  {
   "cell_type": "code",
   "execution_count": null,
   "id": "b3c1048c",
   "metadata": {},
   "outputs": [],
   "source": []
  },
  {
   "cell_type": "code",
   "execution_count": null,
   "id": "1fbbf625",
   "metadata": {},
   "outputs": [],
   "source": []
  },
  {
   "cell_type": "code",
   "execution_count": null,
   "id": "75a6bd1e",
   "metadata": {},
   "outputs": [],
   "source": []
  },
  {
   "cell_type": "code",
   "execution_count": null,
   "id": "5292cb2d",
   "metadata": {},
   "outputs": [],
   "source": []
  },
  {
   "cell_type": "code",
   "execution_count": null,
   "id": "66496cf7",
   "metadata": {},
   "outputs": [],
   "source": []
  },
  {
   "cell_type": "code",
   "execution_count": null,
   "id": "61a67674",
   "metadata": {},
   "outputs": [],
   "source": []
  },
  {
   "cell_type": "code",
   "execution_count": null,
   "id": "e60a4961",
   "metadata": {},
   "outputs": [],
   "source": []
  },
  {
   "cell_type": "code",
   "execution_count": null,
   "id": "6435c477",
   "metadata": {},
   "outputs": [],
   "source": []
  },
  {
   "cell_type": "code",
   "execution_count": null,
   "id": "786f5cc1",
   "metadata": {},
   "outputs": [],
   "source": []
  },
  {
   "cell_type": "code",
   "execution_count": null,
   "id": "2697a1e9",
   "metadata": {},
   "outputs": [],
   "source": []
  },
  {
   "cell_type": "code",
   "execution_count": null,
   "id": "cf722029",
   "metadata": {},
   "outputs": [],
   "source": []
  },
  {
   "cell_type": "code",
   "execution_count": null,
   "id": "5ec7a014",
   "metadata": {},
   "outputs": [],
   "source": [
    "\n"
   ]
  }
 ],
 "metadata": {
  "kernelspec": {
   "display_name": "Python 3",
   "language": "python",
   "name": "python3"
  },
  "language_info": {
   "codemirror_mode": {
    "name": "ipython",
    "version": 3
   },
   "file_extension": ".py",
   "mimetype": "text/x-python",
   "name": "python",
   "nbconvert_exporter": "python",
   "pygments_lexer": "ipython3",
   "version": "3.8.8"
  }
 },
 "nbformat": 4,
 "nbformat_minor": 5
}
