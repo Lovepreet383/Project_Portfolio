{
 "cells": [
  {
   "cell_type": "markdown",
   "id": "92852ee4",
   "metadata": {},
   "source": [
    "# Impact of Russian tweets in the US Presidential elections 2016\n",
    "\n",
    "TO DO List\n",
    "\n",
    "    - Finding the missing values    \n",
    "    - Understanding the trend of data\n",
    "    - Preparing data for analysis \n",
    "    - Analysing whether tweets impacts the US elections or not\n",
    "    - Analysing the percent change in tweet counts\n",
    "    - Removing re-tweets mentioned in the data\n",
    "    - Removing the hyper-links from the data\n",
    "    - Removing the hashtags from the data \n",
    "    - Removing the user- mentions from the data \n",
    "    - Extracting user-mentions from the data \n",
    "    - Extracting hashtags from the data "
   ]
  },
  {
   "cell_type": "markdown",
   "id": "7abe2575",
   "metadata": {},
   "source": [
    "## Importing the libraries and data "
   ]
  },
  {
   "cell_type": "code",
   "execution_count": 1,
   "id": "2634390b",
   "metadata": {},
   "outputs": [],
   "source": [
    "import numpy as np \n",
    "import pandas as pd \n",
    "import matplotlib.pyplot as plt \n",
    "import seaborn as sns \n",
    "%matplotlib inline \n",
    "import warnings \n",
    "warnings.filterwarnings(\"ignore\")"
   ]
  },
  {
   "cell_type": "code",
   "execution_count": 2,
   "id": "99436ef4",
   "metadata": {},
   "outputs": [],
   "source": [
    "df = pd.read_csv(r\"C:\\Users\\lovep\\Downloads\\Lessons\\Projects/tweets.csv\")"
   ]
  },
  {
   "cell_type": "code",
   "execution_count": 3,
   "id": "182cafcb",
   "metadata": {},
   "outputs": [
    {
     "data": {
      "text/html": [
       "<div>\n",
       "<style scoped>\n",
       "    .dataframe tbody tr th:only-of-type {\n",
       "        vertical-align: middle;\n",
       "    }\n",
       "\n",
       "    .dataframe tbody tr th {\n",
       "        vertical-align: top;\n",
       "    }\n",
       "\n",
       "    .dataframe thead th {\n",
       "        text-align: right;\n",
       "    }\n",
       "</style>\n",
       "<table border=\"1\" class=\"dataframe\">\n",
       "  <thead>\n",
       "    <tr style=\"text-align: right;\">\n",
       "      <th></th>\n",
       "      <th>user_id</th>\n",
       "      <th>user_key</th>\n",
       "      <th>created_at</th>\n",
       "      <th>created_str</th>\n",
       "      <th>retweet_count</th>\n",
       "      <th>retweeted</th>\n",
       "      <th>favorite_count</th>\n",
       "      <th>text</th>\n",
       "      <th>tweet_id</th>\n",
       "      <th>source</th>\n",
       "      <th>hashtags</th>\n",
       "      <th>expanded_urls</th>\n",
       "      <th>posted</th>\n",
       "      <th>mentions</th>\n",
       "      <th>retweeted_status_id</th>\n",
       "      <th>in_reply_to_status_id</th>\n",
       "    </tr>\n",
       "  </thead>\n",
       "  <tbody>\n",
       "    <tr>\n",
       "      <th>0</th>\n",
       "      <td>1.868981e+09</td>\n",
       "      <td>ryanmaxwell_1</td>\n",
       "      <td>1.458672e+12</td>\n",
       "      <td>2016-03-22 18:31:42</td>\n",
       "      <td>NaN</td>\n",
       "      <td>NaN</td>\n",
       "      <td>NaN</td>\n",
       "      <td>#IslamKills Are you trying to say that there w...</td>\n",
       "      <td>7.123460e+17</td>\n",
       "      <td>NaN</td>\n",
       "      <td>[\"IslamKills\"]</td>\n",
       "      <td>[]</td>\n",
       "      <td>POSTED</td>\n",
       "      <td>[]</td>\n",
       "      <td>NaN</td>\n",
       "      <td>NaN</td>\n",
       "    </tr>\n",
       "    <tr>\n",
       "      <th>1</th>\n",
       "      <td>2.571870e+09</td>\n",
       "      <td>detroitdailynew</td>\n",
       "      <td>1.476133e+12</td>\n",
       "      <td>2016-10-10 20:57:00</td>\n",
       "      <td>0.0</td>\n",
       "      <td>False</td>\n",
       "      <td>0.0</td>\n",
       "      <td>Clinton: Trump should’ve apologized more, atta...</td>\n",
       "      <td>7.855849e+17</td>\n",
       "      <td>&lt;a href=\"http://twitterfeed.com\" rel=\"nofollow...</td>\n",
       "      <td>[]</td>\n",
       "      <td>[\"http://detne.ws/2e172jF\"]</td>\n",
       "      <td>POSTED</td>\n",
       "      <td>[]</td>\n",
       "      <td>NaN</td>\n",
       "      <td>NaN</td>\n",
       "    </tr>\n",
       "    <tr>\n",
       "      <th>2</th>\n",
       "      <td>1.710805e+09</td>\n",
       "      <td>cookncooks</td>\n",
       "      <td>1.487767e+12</td>\n",
       "      <td>2017-02-22 12:43:43</td>\n",
       "      <td>NaN</td>\n",
       "      <td>NaN</td>\n",
       "      <td>NaN</td>\n",
       "      <td>RT @ltapoll: Who was/is the best president of ...</td>\n",
       "      <td>8.343832e+17</td>\n",
       "      <td>NaN</td>\n",
       "      <td>[]</td>\n",
       "      <td>[]</td>\n",
       "      <td>POSTED</td>\n",
       "      <td>[]</td>\n",
       "      <td>NaN</td>\n",
       "      <td>NaN</td>\n",
       "    </tr>\n",
       "    <tr>\n",
       "      <th>3</th>\n",
       "      <td>2.584153e+09</td>\n",
       "      <td>queenofthewo</td>\n",
       "      <td>1.482765e+12</td>\n",
       "      <td>2016-12-26 15:06:41</td>\n",
       "      <td>NaN</td>\n",
       "      <td>NaN</td>\n",
       "      <td>NaN</td>\n",
       "      <td>RT @jww372: I don't have to guess your religio...</td>\n",
       "      <td>8.134006e+17</td>\n",
       "      <td>NaN</td>\n",
       "      <td>[\"ChristmasAftermath\"]</td>\n",
       "      <td>[]</td>\n",
       "      <td>POSTED</td>\n",
       "      <td>[]</td>\n",
       "      <td>NaN</td>\n",
       "      <td>NaN</td>\n",
       "    </tr>\n",
       "    <tr>\n",
       "      <th>4</th>\n",
       "      <td>1.768260e+09</td>\n",
       "      <td>mrclydepratt</td>\n",
       "      <td>1.501987e+12</td>\n",
       "      <td>2017-08-06 02:36:24</td>\n",
       "      <td>NaN</td>\n",
       "      <td>NaN</td>\n",
       "      <td>NaN</td>\n",
       "      <td>RT @Shareblue: Pence and his lawyers decided w...</td>\n",
       "      <td>8.940243e+17</td>\n",
       "      <td>NaN</td>\n",
       "      <td>[]</td>\n",
       "      <td>[]</td>\n",
       "      <td>POSTED</td>\n",
       "      <td>[]</td>\n",
       "      <td>NaN</td>\n",
       "      <td>NaN</td>\n",
       "    </tr>\n",
       "  </tbody>\n",
       "</table>\n",
       "</div>"
      ],
      "text/plain": [
       "        user_id         user_key    created_at          created_str  \\\n",
       "0  1.868981e+09    ryanmaxwell_1  1.458672e+12  2016-03-22 18:31:42   \n",
       "1  2.571870e+09  detroitdailynew  1.476133e+12  2016-10-10 20:57:00   \n",
       "2  1.710805e+09       cookncooks  1.487767e+12  2017-02-22 12:43:43   \n",
       "3  2.584153e+09     queenofthewo  1.482765e+12  2016-12-26 15:06:41   \n",
       "4  1.768260e+09     mrclydepratt  1.501987e+12  2017-08-06 02:36:24   \n",
       "\n",
       "   retweet_count retweeted  favorite_count  \\\n",
       "0            NaN       NaN             NaN   \n",
       "1            0.0     False             0.0   \n",
       "2            NaN       NaN             NaN   \n",
       "3            NaN       NaN             NaN   \n",
       "4            NaN       NaN             NaN   \n",
       "\n",
       "                                                text      tweet_id  \\\n",
       "0  #IslamKills Are you trying to say that there w...  7.123460e+17   \n",
       "1  Clinton: Trump should’ve apologized more, atta...  7.855849e+17   \n",
       "2  RT @ltapoll: Who was/is the best president of ...  8.343832e+17   \n",
       "3  RT @jww372: I don't have to guess your religio...  8.134006e+17   \n",
       "4  RT @Shareblue: Pence and his lawyers decided w...  8.940243e+17   \n",
       "\n",
       "                                              source                hashtags  \\\n",
       "0                                                NaN          [\"IslamKills\"]   \n",
       "1  <a href=\"http://twitterfeed.com\" rel=\"nofollow...                      []   \n",
       "2                                                NaN                      []   \n",
       "3                                                NaN  [\"ChristmasAftermath\"]   \n",
       "4                                                NaN                      []   \n",
       "\n",
       "                 expanded_urls  posted mentions  retweeted_status_id  \\\n",
       "0                           []  POSTED       []                  NaN   \n",
       "1  [\"http://detne.ws/2e172jF\"]  POSTED       []                  NaN   \n",
       "2                           []  POSTED       []                  NaN   \n",
       "3                           []  POSTED       []                  NaN   \n",
       "4                           []  POSTED       []                  NaN   \n",
       "\n",
       "   in_reply_to_status_id  \n",
       "0                    NaN  \n",
       "1                    NaN  \n",
       "2                    NaN  \n",
       "3                    NaN  \n",
       "4                    NaN  "
      ]
     },
     "execution_count": 3,
     "metadata": {},
     "output_type": "execute_result"
    }
   ],
   "source": [
    "df.head()"
   ]
  },
  {
   "cell_type": "code",
   "execution_count": 4,
   "id": "22d40c97",
   "metadata": {},
   "outputs": [
    {
     "data": {
      "text/plain": [
       "(203482, 16)"
      ]
     },
     "execution_count": 4,
     "metadata": {},
     "output_type": "execute_result"
    }
   ],
   "source": [
    "df.shape"
   ]
  },
  {
   "cell_type": "markdown",
   "id": "f7a4d249",
   "metadata": {},
   "source": [
    "## Finding the missing values "
   ]
  },
  {
   "cell_type": "code",
   "execution_count": 5,
   "id": "dc66f180",
   "metadata": {},
   "outputs": [
    {
     "data": {
      "text/plain": [
       "in_reply_to_status_id    202923\n",
       "retweeted_status_id      163831\n",
       "retweet_count            145399\n",
       "retweeted                145399\n",
       "favorite_count           145399\n",
       "source                   145398\n",
       "user_id                    8065\n",
       "tweet_id                   2314\n",
       "created_at                   21\n",
       "created_str                  21\n",
       "text                         21\n",
       "user_key                      0\n",
       "hashtags                      0\n",
       "expanded_urls                 0\n",
       "posted                        0\n",
       "mentions                      0\n",
       "dtype: int64"
      ]
     },
     "execution_count": 5,
     "metadata": {},
     "output_type": "execute_result"
    }
   ],
   "source": [
    "df.isnull().sum().sort_values(ascending = False)"
   ]
  },
  {
   "cell_type": "code",
   "execution_count": 6,
   "id": "6eb693a1",
   "metadata": {
    "scrolled": false
   },
   "outputs": [
    {
     "data": {
      "text/plain": [
       "user_id                  float64\n",
       "user_key                  object\n",
       "created_at               float64\n",
       "created_str               object\n",
       "retweet_count            float64\n",
       "retweeted                 object\n",
       "favorite_count           float64\n",
       "text                      object\n",
       "tweet_id                 float64\n",
       "source                    object\n",
       "hashtags                  object\n",
       "expanded_urls             object\n",
       "posted                    object\n",
       "mentions                  object\n",
       "retweeted_status_id      float64\n",
       "in_reply_to_status_id    float64\n",
       "dtype: object"
      ]
     },
     "execution_count": 6,
     "metadata": {},
     "output_type": "execute_result"
    }
   ],
   "source": [
    "df.dtypes"
   ]
  },
  {
   "cell_type": "markdown",
   "id": "20e4c3f0",
   "metadata": {},
   "source": [
    "## Exploratory Analysis and Visualization"
   ]
  },
  {
   "cell_type": "code",
   "execution_count": 7,
   "id": "8e856d45",
   "metadata": {},
   "outputs": [],
   "source": [
    "# Converting created_str column's data type into DateTime\n",
    "\n",
    "df[\"created_str\"] = pd.to_datetime(df[\"created_str\"])"
   ]
  },
  {
   "cell_type": "code",
   "execution_count": 8,
   "id": "aa692854",
   "metadata": {},
   "outputs": [
    {
     "data": {
      "text/plain": [
       "dtype('<M8[ns]')"
      ]
     },
     "execution_count": 8,
     "metadata": {},
     "output_type": "execute_result"
    }
   ],
   "source": [
    "df[\"created_str\"].dtypes"
   ]
  },
  {
   "cell_type": "code",
   "execution_count": 9,
   "id": "13eb105c",
   "metadata": {},
   "outputs": [
    {
     "data": {
      "text/plain": [
       "Timestamp('2014-07-14 18:04:55')"
      ]
     },
     "execution_count": 9,
     "metadata": {},
     "output_type": "execute_result"
    }
   ],
   "source": [
    "# Minimum time\n",
    "df[\"created_str\"].min()"
   ]
  },
  {
   "cell_type": "code",
   "execution_count": 10,
   "id": "4968259e",
   "metadata": {},
   "outputs": [
    {
     "data": {
      "text/plain": [
       "Timestamp('2017-09-26 09:05:32')"
      ]
     },
     "execution_count": 10,
     "metadata": {},
     "output_type": "execute_result"
    }
   ],
   "source": [
    "# Maximum time\n",
    "\n",
    "df[\"created_str\"].max()"
   ]
  },
  {
   "cell_type": "markdown",
   "id": "1d17265a",
   "metadata": {},
   "source": [
    "### Tweets trend by date"
   ]
  },
  {
   "cell_type": "code",
   "execution_count": 11,
   "id": "2db83cd5",
   "metadata": {},
   "outputs": [],
   "source": [
    "df[\"created_str_date\"] = df[\"created_str\"].dt.date"
   ]
  },
  {
   "cell_type": "code",
   "execution_count": 12,
   "id": "23ba0239",
   "metadata": {
    "scrolled": false
   },
   "outputs": [
    {
     "data": {
      "text/plain": [
       "0         2016-03-22\n",
       "1         2016-10-10\n",
       "2         2017-02-22\n",
       "3         2016-12-26\n",
       "4         2017-08-06\n",
       "             ...    \n",
       "203477    2016-11-01\n",
       "203478    2015-06-18\n",
       "203479    2017-01-10\n",
       "203480    2016-11-20\n",
       "203481    2016-12-19\n",
       "Name: created_str_date, Length: 203482, dtype: object"
      ]
     },
     "execution_count": 12,
     "metadata": {},
     "output_type": "execute_result"
    }
   ],
   "source": [
    "df[\"created_str_date\"]"
   ]
  },
  {
   "cell_type": "code",
   "execution_count": 13,
   "id": "521fdb36",
   "metadata": {},
   "outputs": [],
   "source": [
    "tweet_trend = pd.value_counts(df[\"created_str_date\"]).to_frame()"
   ]
  },
  {
   "cell_type": "code",
   "execution_count": 14,
   "id": "b8dd2019",
   "metadata": {},
   "outputs": [],
   "source": [
    "tweet_trend.columns = [\"tweets_count\"]"
   ]
  },
  {
   "cell_type": "code",
   "execution_count": 15,
   "id": "da422813",
   "metadata": {},
   "outputs": [],
   "source": [
    "tweet_trend.sort_index(ascending = True, inplace = True)"
   ]
  },
  {
   "cell_type": "code",
   "execution_count": 16,
   "id": "44b2d476",
   "metadata": {},
   "outputs": [
    {
     "data": {
      "text/html": [
       "<div>\n",
       "<style scoped>\n",
       "    .dataframe tbody tr th:only-of-type {\n",
       "        vertical-align: middle;\n",
       "    }\n",
       "\n",
       "    .dataframe tbody tr th {\n",
       "        vertical-align: top;\n",
       "    }\n",
       "\n",
       "    .dataframe thead th {\n",
       "        text-align: right;\n",
       "    }\n",
       "</style>\n",
       "<table border=\"1\" class=\"dataframe\">\n",
       "  <thead>\n",
       "    <tr style=\"text-align: right;\">\n",
       "      <th></th>\n",
       "      <th>tweets_count</th>\n",
       "    </tr>\n",
       "  </thead>\n",
       "  <tbody>\n",
       "    <tr>\n",
       "      <th>2014-07-14</th>\n",
       "      <td>1</td>\n",
       "    </tr>\n",
       "    <tr>\n",
       "      <th>2014-07-17</th>\n",
       "      <td>1</td>\n",
       "    </tr>\n",
       "    <tr>\n",
       "      <th>2014-07-20</th>\n",
       "      <td>2</td>\n",
       "    </tr>\n",
       "    <tr>\n",
       "      <th>2014-07-22</th>\n",
       "      <td>3</td>\n",
       "    </tr>\n",
       "    <tr>\n",
       "      <th>2014-07-23</th>\n",
       "      <td>1</td>\n",
       "    </tr>\n",
       "    <tr>\n",
       "      <th>...</th>\n",
       "      <td>...</td>\n",
       "    </tr>\n",
       "    <tr>\n",
       "      <th>2017-09-10</th>\n",
       "      <td>7</td>\n",
       "    </tr>\n",
       "    <tr>\n",
       "      <th>2017-09-16</th>\n",
       "      <td>6</td>\n",
       "    </tr>\n",
       "    <tr>\n",
       "      <th>2017-09-19</th>\n",
       "      <td>1</td>\n",
       "    </tr>\n",
       "    <tr>\n",
       "      <th>2017-09-24</th>\n",
       "      <td>1</td>\n",
       "    </tr>\n",
       "    <tr>\n",
       "      <th>2017-09-26</th>\n",
       "      <td>3</td>\n",
       "    </tr>\n",
       "  </tbody>\n",
       "</table>\n",
       "<p>930 rows × 1 columns</p>\n",
       "</div>"
      ],
      "text/plain": [
       "            tweets_count\n",
       "2014-07-14             1\n",
       "2014-07-17             1\n",
       "2014-07-20             2\n",
       "2014-07-22             3\n",
       "2014-07-23             1\n",
       "...                  ...\n",
       "2017-09-10             7\n",
       "2017-09-16             6\n",
       "2017-09-19             1\n",
       "2017-09-24             1\n",
       "2017-09-26             3\n",
       "\n",
       "[930 rows x 1 columns]"
      ]
     },
     "execution_count": 16,
     "metadata": {},
     "output_type": "execute_result"
    }
   ],
   "source": [
    "tweet_trend"
   ]
  },
  {
   "cell_type": "code",
   "execution_count": 17,
   "id": "8458e3ae",
   "metadata": {
    "scrolled": false
   },
   "outputs": [
    {
     "data": {
      "image/png": "[encoded data removed]",
      "text/plain": [
       "<Figure size 864x576 with 1 Axes>"
      ]
     },
     "metadata": {
      "needs_background": "light"
     },
     "output_type": "display_data"
    }
   ],
   "source": [
    "tweet_trend.plot(figsize = (12, 8))\n",
    "plt.title(\"Tweets Counts by Date               Fig. 1\", size = 20)\n",
    "plt.xlabel(\"Date\")\n",
    "plt.ylabel(\"Tweet Count\")\n",
    "plt.show()"
   ]
  },
  {
   "cell_type": "markdown",
   "id": "965ca1d6",
   "metadata": {},
   "source": [
    "### Important dates "
   ]
  },
  {
   "cell_type": "code",
   "execution_count": 18,
   "id": "e64e8408",
   "metadata": {},
   "outputs": [
    {
     "data": {
      "text/plain": [
       "0     2015-06-16\n",
       "1     2015-12-07\n",
       "2     2016-02-01\n",
       "3     2016-03-01\n",
       "4     2016-03-03\n",
       "5     2016-03-11\n",
       "6     2016-05-03\n",
       "7     2016-05-26\n",
       "8     2016-06-20\n",
       "9     2016-07-15\n",
       "10    2016-07-21\n",
       "11    2016-08-17\n",
       "12    2016-09-01\n",
       "13    2016-10-07\n",
       "14    2016-11-08\n",
       "dtype: object"
      ]
     },
     "execution_count": 18,
     "metadata": {},
     "output_type": "execute_result"
    }
   ],
   "source": [
    "# These are the important dates or timelines in which the major events happened during the election period. \n",
    "\n",
    "dates_list = ['2015-06-16', '2015-12-07', '2016-02-01', \n",
    "             '2016-03-01', '2016-03-03', '2016-03-11', \n",
    "             '2016-05-03', '2016-05-26', '2016-06-20', \n",
    "             '2016-07-15', '2016-07-21', '2016-08-17', \n",
    "             '2016-09-01', '2016-10-07', '2016-11-08']\n",
    "\n",
    "important_dates = pd.Series(dates_list)\n",
    "important_dates"
   ]
  },
  {
   "cell_type": "code",
   "execution_count": 19,
   "id": "a82b8afb",
   "metadata": {},
   "outputs": [],
   "source": [
    "# Copying the tweet_trend data \n",
    "\n",
    "data = tweet_trend.copy()"
   ]
  },
  {
   "cell_type": "code",
   "execution_count": 20,
   "id": "fbabae34",
   "metadata": {},
   "outputs": [
    {
     "data": {
      "text/html": [
       "<div>\n",
       "<style scoped>\n",
       "    .dataframe tbody tr th:only-of-type {\n",
       "        vertical-align: middle;\n",
       "    }\n",
       "\n",
       "    .dataframe tbody tr th {\n",
       "        vertical-align: top;\n",
       "    }\n",
       "\n",
       "    .dataframe thead th {\n",
       "        text-align: right;\n",
       "    }\n",
       "</style>\n",
       "<table border=\"1\" class=\"dataframe\">\n",
       "  <thead>\n",
       "    <tr style=\"text-align: right;\">\n",
       "      <th></th>\n",
       "      <th>tweets_count</th>\n",
       "    </tr>\n",
       "  </thead>\n",
       "  <tbody>\n",
       "    <tr>\n",
       "      <th>2014-07-14</th>\n",
       "      <td>1</td>\n",
       "    </tr>\n",
       "    <tr>\n",
       "      <th>2014-07-17</th>\n",
       "      <td>1</td>\n",
       "    </tr>\n",
       "    <tr>\n",
       "      <th>2014-07-20</th>\n",
       "      <td>2</td>\n",
       "    </tr>\n",
       "    <tr>\n",
       "      <th>2014-07-22</th>\n",
       "      <td>3</td>\n",
       "    </tr>\n",
       "    <tr>\n",
       "      <th>2014-07-23</th>\n",
       "      <td>1</td>\n",
       "    </tr>\n",
       "    <tr>\n",
       "      <th>...</th>\n",
       "      <td>...</td>\n",
       "    </tr>\n",
       "    <tr>\n",
       "      <th>2017-09-10</th>\n",
       "      <td>7</td>\n",
       "    </tr>\n",
       "    <tr>\n",
       "      <th>2017-09-16</th>\n",
       "      <td>6</td>\n",
       "    </tr>\n",
       "    <tr>\n",
       "      <th>2017-09-19</th>\n",
       "      <td>1</td>\n",
       "    </tr>\n",
       "    <tr>\n",
       "      <th>2017-09-24</th>\n",
       "      <td>1</td>\n",
       "    </tr>\n",
       "    <tr>\n",
       "      <th>2017-09-26</th>\n",
       "      <td>3</td>\n",
       "    </tr>\n",
       "  </tbody>\n",
       "</table>\n",
       "<p>930 rows × 1 columns</p>\n",
       "</div>"
      ],
      "text/plain": [
       "            tweets_count\n",
       "2014-07-14             1\n",
       "2014-07-17             1\n",
       "2014-07-20             2\n",
       "2014-07-22             3\n",
       "2014-07-23             1\n",
       "...                  ...\n",
       "2017-09-10             7\n",
       "2017-09-16             6\n",
       "2017-09-19             1\n",
       "2017-09-24             1\n",
       "2017-09-26             3\n",
       "\n",
       "[930 rows x 1 columns]"
      ]
     },
     "execution_count": 20,
     "metadata": {},
     "output_type": "execute_result"
    }
   ],
   "source": [
    "data"
   ]
  },
  {
   "cell_type": "code",
   "execution_count": 21,
   "id": "be5b02d0",
   "metadata": {},
   "outputs": [],
   "source": [
    "data[\"Important Events\"] = False"
   ]
  },
  {
   "cell_type": "code",
   "execution_count": 22,
   "id": "34a19fad",
   "metadata": {},
   "outputs": [
    {
     "data": {
      "text/html": [
       "<div>\n",
       "<style scoped>\n",
       "    .dataframe tbody tr th:only-of-type {\n",
       "        vertical-align: middle;\n",
       "    }\n",
       "\n",
       "    .dataframe tbody tr th {\n",
       "        vertical-align: top;\n",
       "    }\n",
       "\n",
       "    .dataframe thead th {\n",
       "        text-align: right;\n",
       "    }\n",
       "</style>\n",
       "<table border=\"1\" class=\"dataframe\">\n",
       "  <thead>\n",
       "    <tr style=\"text-align: right;\">\n",
       "      <th></th>\n",
       "      <th>tweets_count</th>\n",
       "      <th>Important Events</th>\n",
       "    </tr>\n",
       "  </thead>\n",
       "  <tbody>\n",
       "    <tr>\n",
       "      <th>2014-07-14</th>\n",
       "      <td>1</td>\n",
       "      <td>False</td>\n",
       "    </tr>\n",
       "    <tr>\n",
       "      <th>2014-07-17</th>\n",
       "      <td>1</td>\n",
       "      <td>False</td>\n",
       "    </tr>\n",
       "    <tr>\n",
       "      <th>2014-07-20</th>\n",
       "      <td>2</td>\n",
       "      <td>False</td>\n",
       "    </tr>\n",
       "    <tr>\n",
       "      <th>2014-07-22</th>\n",
       "      <td>3</td>\n",
       "      <td>False</td>\n",
       "    </tr>\n",
       "    <tr>\n",
       "      <th>2014-07-23</th>\n",
       "      <td>1</td>\n",
       "      <td>False</td>\n",
       "    </tr>\n",
       "    <tr>\n",
       "      <th>...</th>\n",
       "      <td>...</td>\n",
       "      <td>...</td>\n",
       "    </tr>\n",
       "    <tr>\n",
       "      <th>2017-09-10</th>\n",
       "      <td>7</td>\n",
       "      <td>False</td>\n",
       "    </tr>\n",
       "    <tr>\n",
       "      <th>2017-09-16</th>\n",
       "      <td>6</td>\n",
       "      <td>False</td>\n",
       "    </tr>\n",
       "    <tr>\n",
       "      <th>2017-09-19</th>\n",
       "      <td>1</td>\n",
       "      <td>False</td>\n",
       "    </tr>\n",
       "    <tr>\n",
       "      <th>2017-09-24</th>\n",
       "      <td>1</td>\n",
       "      <td>False</td>\n",
       "    </tr>\n",
       "    <tr>\n",
       "      <th>2017-09-26</th>\n",
       "      <td>3</td>\n",
       "      <td>False</td>\n",
       "    </tr>\n",
       "  </tbody>\n",
       "</table>\n",
       "<p>930 rows × 2 columns</p>\n",
       "</div>"
      ],
      "text/plain": [
       "            tweets_count  Important Events\n",
       "2014-07-14             1             False\n",
       "2014-07-17             1             False\n",
       "2014-07-20             2             False\n",
       "2014-07-22             3             False\n",
       "2014-07-23             1             False\n",
       "...                  ...               ...\n",
       "2017-09-10             7             False\n",
       "2017-09-16             6             False\n",
       "2017-09-19             1             False\n",
       "2017-09-24             1             False\n",
       "2017-09-26             3             False\n",
       "\n",
       "[930 rows x 2 columns]"
      ]
     },
     "execution_count": 22,
     "metadata": {},
     "output_type": "execute_result"
    }
   ],
   "source": [
    "data"
   ]
  },
  {
   "cell_type": "code",
   "execution_count": 23,
   "id": "d9e8de17",
   "metadata": {},
   "outputs": [],
   "source": [
    "data = data.reset_index().rename(columns = {\"index\" : \"date\"})"
   ]
  },
  {
   "cell_type": "code",
   "execution_count": 24,
   "id": "75d46755",
   "metadata": {},
   "outputs": [
    {
     "data": {
      "text/html": [
       "<div>\n",
       "<style scoped>\n",
       "    .dataframe tbody tr th:only-of-type {\n",
       "        vertical-align: middle;\n",
       "    }\n",
       "\n",
       "    .dataframe tbody tr th {\n",
       "        vertical-align: top;\n",
       "    }\n",
       "\n",
       "    .dataframe thead th {\n",
       "        text-align: right;\n",
       "    }\n",
       "</style>\n",
       "<table border=\"1\" class=\"dataframe\">\n",
       "  <thead>\n",
       "    <tr style=\"text-align: right;\">\n",
       "      <th></th>\n",
       "      <th>date</th>\n",
       "      <th>tweets_count</th>\n",
       "      <th>Important Events</th>\n",
       "    </tr>\n",
       "  </thead>\n",
       "  <tbody>\n",
       "    <tr>\n",
       "      <th>0</th>\n",
       "      <td>2014-07-14</td>\n",
       "      <td>1</td>\n",
       "      <td>False</td>\n",
       "    </tr>\n",
       "    <tr>\n",
       "      <th>1</th>\n",
       "      <td>2014-07-17</td>\n",
       "      <td>1</td>\n",
       "      <td>False</td>\n",
       "    </tr>\n",
       "    <tr>\n",
       "      <th>2</th>\n",
       "      <td>2014-07-20</td>\n",
       "      <td>2</td>\n",
       "      <td>False</td>\n",
       "    </tr>\n",
       "    <tr>\n",
       "      <th>3</th>\n",
       "      <td>2014-07-22</td>\n",
       "      <td>3</td>\n",
       "      <td>False</td>\n",
       "    </tr>\n",
       "    <tr>\n",
       "      <th>4</th>\n",
       "      <td>2014-07-23</td>\n",
       "      <td>1</td>\n",
       "      <td>False</td>\n",
       "    </tr>\n",
       "    <tr>\n",
       "      <th>...</th>\n",
       "      <td>...</td>\n",
       "      <td>...</td>\n",
       "      <td>...</td>\n",
       "    </tr>\n",
       "    <tr>\n",
       "      <th>925</th>\n",
       "      <td>2017-09-10</td>\n",
       "      <td>7</td>\n",
       "      <td>False</td>\n",
       "    </tr>\n",
       "    <tr>\n",
       "      <th>926</th>\n",
       "      <td>2017-09-16</td>\n",
       "      <td>6</td>\n",
       "      <td>False</td>\n",
       "    </tr>\n",
       "    <tr>\n",
       "      <th>927</th>\n",
       "      <td>2017-09-19</td>\n",
       "      <td>1</td>\n",
       "      <td>False</td>\n",
       "    </tr>\n",
       "    <tr>\n",
       "      <th>928</th>\n",
       "      <td>2017-09-24</td>\n",
       "      <td>1</td>\n",
       "      <td>False</td>\n",
       "    </tr>\n",
       "    <tr>\n",
       "      <th>929</th>\n",
       "      <td>2017-09-26</td>\n",
       "      <td>3</td>\n",
       "      <td>False</td>\n",
       "    </tr>\n",
       "  </tbody>\n",
       "</table>\n",
       "<p>930 rows × 3 columns</p>\n",
       "</div>"
      ],
      "text/plain": [
       "           date  tweets_count  Important Events\n",
       "0    2014-07-14             1             False\n",
       "1    2014-07-17             1             False\n",
       "2    2014-07-20             2             False\n",
       "3    2014-07-22             3             False\n",
       "4    2014-07-23             1             False\n",
       "..          ...           ...               ...\n",
       "925  2017-09-10             7             False\n",
       "926  2017-09-16             6             False\n",
       "927  2017-09-19             1             False\n",
       "928  2017-09-24             1             False\n",
       "929  2017-09-26             3             False\n",
       "\n",
       "[930 rows x 3 columns]"
      ]
     },
     "execution_count": 24,
     "metadata": {},
     "output_type": "execute_result"
    }
   ],
   "source": [
    "data"
   ]
  },
  {
   "cell_type": "code",
   "execution_count": 25,
   "id": "5b6c0b8e",
   "metadata": {
    "scrolled": false
   },
   "outputs": [
    {
     "data": {
      "text/plain": [
       "0      False\n",
       "1      False\n",
       "2      False\n",
       "3      False\n",
       "4      False\n",
       "       ...  \n",
       "925    False\n",
       "926    False\n",
       "927    False\n",
       "928    False\n",
       "929    False\n",
       "Name: date, Length: 930, dtype: bool"
      ]
     },
     "execution_count": 25,
     "metadata": {},
     "output_type": "execute_result"
    }
   ],
   "source": [
    "# We need to check if there is any date lies in important dates.\n",
    "\n",
    "data[\"date\"].isin(important_dates)"
   ]
  },
  {
   "cell_type": "code",
   "execution_count": 26,
   "id": "2635aba4",
   "metadata": {},
   "outputs": [],
   "source": [
    "# We are getting only false which means there is no such date lies in important dates \n",
    "# or data types are different of date column and the important dates. "
   ]
  },
  {
   "cell_type": "code",
   "execution_count": 27,
   "id": "468f2fd7",
   "metadata": {},
   "outputs": [
    {
     "data": {
      "text/plain": [
       "str"
      ]
     },
     "execution_count": 27,
     "metadata": {},
     "output_type": "execute_result"
    }
   ],
   "source": [
    "type(important_dates[0])"
   ]
  },
  {
   "cell_type": "code",
   "execution_count": 28,
   "id": "a542cef0",
   "metadata": {},
   "outputs": [
    {
     "data": {
      "text/plain": [
       "datetime.date"
      ]
     },
     "execution_count": 28,
     "metadata": {},
     "output_type": "execute_result"
    }
   ],
   "source": [
    "type(data[\"date\"][0])"
   ]
  },
  {
   "cell_type": "code",
   "execution_count": 29,
   "id": "1cc1280e",
   "metadata": {},
   "outputs": [],
   "source": [
    "# Changing the data types of date column of from the data.\n",
    "\n",
    "data[\"date\"] = data[\"date\"].apply(lambda x:x.strftime(\"%Y-%m-%d\"))"
   ]
  },
  {
   "cell_type": "code",
   "execution_count": 30,
   "id": "f2266e79",
   "metadata": {},
   "outputs": [
    {
     "data": {
      "text/plain": [
       "str"
      ]
     },
     "execution_count": 30,
     "metadata": {},
     "output_type": "execute_result"
    }
   ],
   "source": [
    "type(data[\"date\"][0])"
   ]
  },
  {
   "cell_type": "code",
   "execution_count": 31,
   "id": "47220d35",
   "metadata": {},
   "outputs": [
    {
     "data": {
      "text/plain": [
       "False    915\n",
       "True      15\n",
       "Name: date, dtype: int64"
      ]
     },
     "execution_count": 31,
     "metadata": {},
     "output_type": "execute_result"
    }
   ],
   "source": [
    "# Checking how many values of important dates lies in date column.\n",
    "\n",
    "data[\"date\"].isin(important_dates).value_counts()"
   ]
  },
  {
   "cell_type": "code",
   "execution_count": 32,
   "id": "2b607a8f",
   "metadata": {},
   "outputs": [
    {
     "data": {
      "text/html": [
       "<div>\n",
       "<style scoped>\n",
       "    .dataframe tbody tr th:only-of-type {\n",
       "        vertical-align: middle;\n",
       "    }\n",
       "\n",
       "    .dataframe tbody tr th {\n",
       "        vertical-align: top;\n",
       "    }\n",
       "\n",
       "    .dataframe thead th {\n",
       "        text-align: right;\n",
       "    }\n",
       "</style>\n",
       "<table border=\"1\" class=\"dataframe\">\n",
       "  <thead>\n",
       "    <tr style=\"text-align: right;\">\n",
       "      <th></th>\n",
       "      <th>date</th>\n",
       "      <th>tweets_count</th>\n",
       "      <th>Important Events</th>\n",
       "    </tr>\n",
       "  </thead>\n",
       "  <tbody>\n",
       "    <tr>\n",
       "      <th>170</th>\n",
       "      <td>2015-06-16</td>\n",
       "      <td>3</td>\n",
       "      <td>False</td>\n",
       "    </tr>\n",
       "    <tr>\n",
       "      <th>331</th>\n",
       "      <td>2015-12-07</td>\n",
       "      <td>219</td>\n",
       "      <td>False</td>\n",
       "    </tr>\n",
       "    <tr>\n",
       "      <th>382</th>\n",
       "      <td>2016-02-01</td>\n",
       "      <td>18</td>\n",
       "      <td>False</td>\n",
       "    </tr>\n",
       "    <tr>\n",
       "      <th>409</th>\n",
       "      <td>2016-03-01</td>\n",
       "      <td>143</td>\n",
       "      <td>False</td>\n",
       "    </tr>\n",
       "    <tr>\n",
       "      <th>411</th>\n",
       "      <td>2016-03-03</td>\n",
       "      <td>6</td>\n",
       "      <td>False</td>\n",
       "    </tr>\n",
       "    <tr>\n",
       "      <th>419</th>\n",
       "      <td>2016-03-11</td>\n",
       "      <td>64</td>\n",
       "      <td>False</td>\n",
       "    </tr>\n",
       "    <tr>\n",
       "      <th>467</th>\n",
       "      <td>2016-05-03</td>\n",
       "      <td>38</td>\n",
       "      <td>False</td>\n",
       "    </tr>\n",
       "    <tr>\n",
       "      <th>487</th>\n",
       "      <td>2016-05-26</td>\n",
       "      <td>6</td>\n",
       "      <td>False</td>\n",
       "    </tr>\n",
       "    <tr>\n",
       "      <th>511</th>\n",
       "      <td>2016-06-20</td>\n",
       "      <td>201</td>\n",
       "      <td>False</td>\n",
       "    </tr>\n",
       "    <tr>\n",
       "      <th>536</th>\n",
       "      <td>2016-07-15</td>\n",
       "      <td>47</td>\n",
       "      <td>False</td>\n",
       "    </tr>\n",
       "    <tr>\n",
       "      <th>542</th>\n",
       "      <td>2016-07-21</td>\n",
       "      <td>1327</td>\n",
       "      <td>False</td>\n",
       "    </tr>\n",
       "    <tr>\n",
       "      <th>569</th>\n",
       "      <td>2016-08-17</td>\n",
       "      <td>534</td>\n",
       "      <td>False</td>\n",
       "    </tr>\n",
       "    <tr>\n",
       "      <th>584</th>\n",
       "      <td>2016-09-01</td>\n",
       "      <td>337</td>\n",
       "      <td>False</td>\n",
       "    </tr>\n",
       "    <tr>\n",
       "      <th>620</th>\n",
       "      <td>2016-10-07</td>\n",
       "      <td>2222</td>\n",
       "      <td>False</td>\n",
       "    </tr>\n",
       "    <tr>\n",
       "      <th>652</th>\n",
       "      <td>2016-11-08</td>\n",
       "      <td>2867</td>\n",
       "      <td>False</td>\n",
       "    </tr>\n",
       "  </tbody>\n",
       "</table>\n",
       "</div>"
      ],
      "text/plain": [
       "           date  tweets_count  Important Events\n",
       "170  2015-06-16             3             False\n",
       "331  2015-12-07           219             False\n",
       "382  2016-02-01            18             False\n",
       "409  2016-03-01           143             False\n",
       "411  2016-03-03             6             False\n",
       "419  2016-03-11            64             False\n",
       "467  2016-05-03            38             False\n",
       "487  2016-05-26             6             False\n",
       "511  2016-06-20           201             False\n",
       "536  2016-07-15            47             False\n",
       "542  2016-07-21          1327             False\n",
       "569  2016-08-17           534             False\n",
       "584  2016-09-01           337             False\n",
       "620  2016-10-07          2222             False\n",
       "652  2016-11-08          2867             False"
      ]
     },
     "execution_count": 32,
     "metadata": {},
     "output_type": "execute_result"
    }
   ],
   "source": [
    "# These are the values of Important Events columns which needs to be true\n",
    "\n",
    "data[data[\"date\"].isin(important_dates)]"
   ]
  },
  {
   "cell_type": "code",
   "execution_count": 33,
   "id": "0853be3d",
   "metadata": {},
   "outputs": [],
   "source": [
    "# Converting them into true\n",
    "\n",
    "data[\"Important Events\"] = np.where(data[\"date\"].isin(important_dates), True, False)"
   ]
  },
  {
   "cell_type": "code",
   "execution_count": 34,
   "id": "8f8602d8",
   "metadata": {},
   "outputs": [
    {
     "data": {
      "text/html": [
       "<div>\n",
       "<style scoped>\n",
       "    .dataframe tbody tr th:only-of-type {\n",
       "        vertical-align: middle;\n",
       "    }\n",
       "\n",
       "    .dataframe tbody tr th {\n",
       "        vertical-align: top;\n",
       "    }\n",
       "\n",
       "    .dataframe thead th {\n",
       "        text-align: right;\n",
       "    }\n",
       "</style>\n",
       "<table border=\"1\" class=\"dataframe\">\n",
       "  <thead>\n",
       "    <tr style=\"text-align: right;\">\n",
       "      <th></th>\n",
       "      <th>date</th>\n",
       "      <th>tweets_count</th>\n",
       "      <th>Important Events</th>\n",
       "    </tr>\n",
       "  </thead>\n",
       "  <tbody>\n",
       "    <tr>\n",
       "      <th>170</th>\n",
       "      <td>2015-06-16</td>\n",
       "      <td>3</td>\n",
       "      <td>True</td>\n",
       "    </tr>\n",
       "    <tr>\n",
       "      <th>331</th>\n",
       "      <td>2015-12-07</td>\n",
       "      <td>219</td>\n",
       "      <td>True</td>\n",
       "    </tr>\n",
       "    <tr>\n",
       "      <th>382</th>\n",
       "      <td>2016-02-01</td>\n",
       "      <td>18</td>\n",
       "      <td>True</td>\n",
       "    </tr>\n",
       "    <tr>\n",
       "      <th>409</th>\n",
       "      <td>2016-03-01</td>\n",
       "      <td>143</td>\n",
       "      <td>True</td>\n",
       "    </tr>\n",
       "    <tr>\n",
       "      <th>411</th>\n",
       "      <td>2016-03-03</td>\n",
       "      <td>6</td>\n",
       "      <td>True</td>\n",
       "    </tr>\n",
       "    <tr>\n",
       "      <th>419</th>\n",
       "      <td>2016-03-11</td>\n",
       "      <td>64</td>\n",
       "      <td>True</td>\n",
       "    </tr>\n",
       "    <tr>\n",
       "      <th>467</th>\n",
       "      <td>2016-05-03</td>\n",
       "      <td>38</td>\n",
       "      <td>True</td>\n",
       "    </tr>\n",
       "    <tr>\n",
       "      <th>487</th>\n",
       "      <td>2016-05-26</td>\n",
       "      <td>6</td>\n",
       "      <td>True</td>\n",
       "    </tr>\n",
       "    <tr>\n",
       "      <th>511</th>\n",
       "      <td>2016-06-20</td>\n",
       "      <td>201</td>\n",
       "      <td>True</td>\n",
       "    </tr>\n",
       "    <tr>\n",
       "      <th>536</th>\n",
       "      <td>2016-07-15</td>\n",
       "      <td>47</td>\n",
       "      <td>True</td>\n",
       "    </tr>\n",
       "    <tr>\n",
       "      <th>542</th>\n",
       "      <td>2016-07-21</td>\n",
       "      <td>1327</td>\n",
       "      <td>True</td>\n",
       "    </tr>\n",
       "    <tr>\n",
       "      <th>569</th>\n",
       "      <td>2016-08-17</td>\n",
       "      <td>534</td>\n",
       "      <td>True</td>\n",
       "    </tr>\n",
       "    <tr>\n",
       "      <th>584</th>\n",
       "      <td>2016-09-01</td>\n",
       "      <td>337</td>\n",
       "      <td>True</td>\n",
       "    </tr>\n",
       "    <tr>\n",
       "      <th>620</th>\n",
       "      <td>2016-10-07</td>\n",
       "      <td>2222</td>\n",
       "      <td>True</td>\n",
       "    </tr>\n",
       "    <tr>\n",
       "      <th>652</th>\n",
       "      <td>2016-11-08</td>\n",
       "      <td>2867</td>\n",
       "      <td>True</td>\n",
       "    </tr>\n",
       "  </tbody>\n",
       "</table>\n",
       "</div>"
      ],
      "text/plain": [
       "           date  tweets_count  Important Events\n",
       "170  2015-06-16             3              True\n",
       "331  2015-12-07           219              True\n",
       "382  2016-02-01            18              True\n",
       "409  2016-03-01           143              True\n",
       "411  2016-03-03             6              True\n",
       "419  2016-03-11            64              True\n",
       "467  2016-05-03            38              True\n",
       "487  2016-05-26             6              True\n",
       "511  2016-06-20           201              True\n",
       "536  2016-07-15            47              True\n",
       "542  2016-07-21          1327              True\n",
       "569  2016-08-17           534              True\n",
       "584  2016-09-01           337              True\n",
       "620  2016-10-07          2222              True\n",
       "652  2016-11-08          2867              True"
      ]
     },
     "execution_count": 34,
     "metadata": {},
     "output_type": "execute_result"
    }
   ],
   "source": [
    "data[data[\"Important Events\"] == True]"
   ]
  },
  {
   "cell_type": "code",
   "execution_count": 35,
   "id": "b7a62173",
   "metadata": {},
   "outputs": [],
   "source": [
    "# Giving values to True and False. True as 1 and False as 0. \n",
    "\n",
    "data[\"values\"] = np.where(data[\"date\"].isin(important_dates), 1, 0)"
   ]
  },
  {
   "cell_type": "code",
   "execution_count": 36,
   "id": "22b65961",
   "metadata": {},
   "outputs": [
    {
     "data": {
      "text/html": [
       "<div>\n",
       "<style scoped>\n",
       "    .dataframe tbody tr th:only-of-type {\n",
       "        vertical-align: middle;\n",
       "    }\n",
       "\n",
       "    .dataframe tbody tr th {\n",
       "        vertical-align: top;\n",
       "    }\n",
       "\n",
       "    .dataframe thead th {\n",
       "        text-align: right;\n",
       "    }\n",
       "</style>\n",
       "<table border=\"1\" class=\"dataframe\">\n",
       "  <thead>\n",
       "    <tr style=\"text-align: right;\">\n",
       "      <th></th>\n",
       "      <th>date</th>\n",
       "      <th>tweets_count</th>\n",
       "      <th>Important Events</th>\n",
       "      <th>values</th>\n",
       "    </tr>\n",
       "  </thead>\n",
       "  <tbody>\n",
       "    <tr>\n",
       "      <th>0</th>\n",
       "      <td>2014-07-14</td>\n",
       "      <td>1</td>\n",
       "      <td>False</td>\n",
       "      <td>0</td>\n",
       "    </tr>\n",
       "    <tr>\n",
       "      <th>1</th>\n",
       "      <td>2014-07-17</td>\n",
       "      <td>1</td>\n",
       "      <td>False</td>\n",
       "      <td>0</td>\n",
       "    </tr>\n",
       "    <tr>\n",
       "      <th>2</th>\n",
       "      <td>2014-07-20</td>\n",
       "      <td>2</td>\n",
       "      <td>False</td>\n",
       "      <td>0</td>\n",
       "    </tr>\n",
       "    <tr>\n",
       "      <th>3</th>\n",
       "      <td>2014-07-22</td>\n",
       "      <td>3</td>\n",
       "      <td>False</td>\n",
       "      <td>0</td>\n",
       "    </tr>\n",
       "    <tr>\n",
       "      <th>4</th>\n",
       "      <td>2014-07-23</td>\n",
       "      <td>1</td>\n",
       "      <td>False</td>\n",
       "      <td>0</td>\n",
       "    </tr>\n",
       "  </tbody>\n",
       "</table>\n",
       "</div>"
      ],
      "text/plain": [
       "         date  tweets_count  Important Events  values\n",
       "0  2014-07-14             1             False       0\n",
       "1  2014-07-17             1             False       0\n",
       "2  2014-07-20             2             False       0\n",
       "3  2014-07-22             3             False       0\n",
       "4  2014-07-23             1             False       0"
      ]
     },
     "execution_count": 36,
     "metadata": {},
     "output_type": "execute_result"
    }
   ],
   "source": [
    "data.head()"
   ]
  },
  {
   "cell_type": "code",
   "execution_count": 37,
   "id": "7434b142",
   "metadata": {},
   "outputs": [],
   "source": [
    "filt = data[\"Important Events\"] == True"
   ]
  },
  {
   "cell_type": "code",
   "execution_count": 38,
   "id": "c0c45496",
   "metadata": {},
   "outputs": [
    {
     "data": {
      "text/plain": [
       "0      False\n",
       "1      False\n",
       "2      False\n",
       "3      False\n",
       "4      False\n",
       "       ...  \n",
       "925    False\n",
       "926    False\n",
       "927    False\n",
       "928    False\n",
       "929    False\n",
       "Name: Important Events, Length: 930, dtype: bool"
      ]
     },
     "execution_count": 38,
     "metadata": {},
     "output_type": "execute_result"
    }
   ],
   "source": [
    "filt"
   ]
  },
  {
   "cell_type": "code",
   "execution_count": 39,
   "id": "29a59587",
   "metadata": {},
   "outputs": [
    {
     "data": {
      "text/html": [
       "<div>\n",
       "<style scoped>\n",
       "    .dataframe tbody tr th:only-of-type {\n",
       "        vertical-align: middle;\n",
       "    }\n",
       "\n",
       "    .dataframe tbody tr th {\n",
       "        vertical-align: top;\n",
       "    }\n",
       "\n",
       "    .dataframe thead th {\n",
       "        text-align: right;\n",
       "    }\n",
       "</style>\n",
       "<table border=\"1\" class=\"dataframe\">\n",
       "  <thead>\n",
       "    <tr style=\"text-align: right;\">\n",
       "      <th></th>\n",
       "      <th>date</th>\n",
       "      <th>tweets_count</th>\n",
       "      <th>Important Events</th>\n",
       "      <th>values</th>\n",
       "    </tr>\n",
       "  </thead>\n",
       "  <tbody>\n",
       "    <tr>\n",
       "      <th>170</th>\n",
       "      <td>2015-06-16</td>\n",
       "      <td>3</td>\n",
       "      <td>True</td>\n",
       "      <td>1</td>\n",
       "    </tr>\n",
       "    <tr>\n",
       "      <th>331</th>\n",
       "      <td>2015-12-07</td>\n",
       "      <td>219</td>\n",
       "      <td>True</td>\n",
       "      <td>1</td>\n",
       "    </tr>\n",
       "    <tr>\n",
       "      <th>382</th>\n",
       "      <td>2016-02-01</td>\n",
       "      <td>18</td>\n",
       "      <td>True</td>\n",
       "      <td>1</td>\n",
       "    </tr>\n",
       "    <tr>\n",
       "      <th>409</th>\n",
       "      <td>2016-03-01</td>\n",
       "      <td>143</td>\n",
       "      <td>True</td>\n",
       "      <td>1</td>\n",
       "    </tr>\n",
       "    <tr>\n",
       "      <th>411</th>\n",
       "      <td>2016-03-03</td>\n",
       "      <td>6</td>\n",
       "      <td>True</td>\n",
       "      <td>1</td>\n",
       "    </tr>\n",
       "    <tr>\n",
       "      <th>419</th>\n",
       "      <td>2016-03-11</td>\n",
       "      <td>64</td>\n",
       "      <td>True</td>\n",
       "      <td>1</td>\n",
       "    </tr>\n",
       "    <tr>\n",
       "      <th>467</th>\n",
       "      <td>2016-05-03</td>\n",
       "      <td>38</td>\n",
       "      <td>True</td>\n",
       "      <td>1</td>\n",
       "    </tr>\n",
       "    <tr>\n",
       "      <th>487</th>\n",
       "      <td>2016-05-26</td>\n",
       "      <td>6</td>\n",
       "      <td>True</td>\n",
       "      <td>1</td>\n",
       "    </tr>\n",
       "    <tr>\n",
       "      <th>511</th>\n",
       "      <td>2016-06-20</td>\n",
       "      <td>201</td>\n",
       "      <td>True</td>\n",
       "      <td>1</td>\n",
       "    </tr>\n",
       "    <tr>\n",
       "      <th>536</th>\n",
       "      <td>2016-07-15</td>\n",
       "      <td>47</td>\n",
       "      <td>True</td>\n",
       "      <td>1</td>\n",
       "    </tr>\n",
       "    <tr>\n",
       "      <th>542</th>\n",
       "      <td>2016-07-21</td>\n",
       "      <td>1327</td>\n",
       "      <td>True</td>\n",
       "      <td>1</td>\n",
       "    </tr>\n",
       "    <tr>\n",
       "      <th>569</th>\n",
       "      <td>2016-08-17</td>\n",
       "      <td>534</td>\n",
       "      <td>True</td>\n",
       "      <td>1</td>\n",
       "    </tr>\n",
       "    <tr>\n",
       "      <th>584</th>\n",
       "      <td>2016-09-01</td>\n",
       "      <td>337</td>\n",
       "      <td>True</td>\n",
       "      <td>1</td>\n",
       "    </tr>\n",
       "    <tr>\n",
       "      <th>620</th>\n",
       "      <td>2016-10-07</td>\n",
       "      <td>2222</td>\n",
       "      <td>True</td>\n",
       "      <td>1</td>\n",
       "    </tr>\n",
       "    <tr>\n",
       "      <th>652</th>\n",
       "      <td>2016-11-08</td>\n",
       "      <td>2867</td>\n",
       "      <td>True</td>\n",
       "      <td>1</td>\n",
       "    </tr>\n",
       "  </tbody>\n",
       "</table>\n",
       "</div>"
      ],
      "text/plain": [
       "           date  tweets_count  Important Events  values\n",
       "170  2015-06-16             3              True       1\n",
       "331  2015-12-07           219              True       1\n",
       "382  2016-02-01            18              True       1\n",
       "409  2016-03-01           143              True       1\n",
       "411  2016-03-03             6              True       1\n",
       "419  2016-03-11            64              True       1\n",
       "467  2016-05-03            38              True       1\n",
       "487  2016-05-26             6              True       1\n",
       "511  2016-06-20           201              True       1\n",
       "536  2016-07-15            47              True       1\n",
       "542  2016-07-21          1327              True       1\n",
       "569  2016-08-17           534              True       1\n",
       "584  2016-09-01           337              True       1\n",
       "620  2016-10-07          2222              True       1\n",
       "652  2016-11-08          2867              True       1"
      ]
     },
     "execution_count": 39,
     "metadata": {},
     "output_type": "execute_result"
    }
   ],
   "source": [
    "data[filt]"
   ]
  },
  {
   "cell_type": "code",
   "execution_count": 40,
   "id": "e97b6804",
   "metadata": {},
   "outputs": [
    {
     "data": {
      "image/png": "[encoded data removed]",
      "text/plain": [
       "<Figure size 1008x576 with 1 Axes>"
      ]
     },
     "metadata": {
      "needs_background": "light"
     },
     "output_type": "display_data"
    }
   ],
   "source": [
    "plt.figure(figsize = (14, 8))\n",
    "plt.plot(tweet_trend, linestyle = \"dashed\", label = \"Tweet_Count\")\n",
    "\n",
    "plt.plot(tweet_trend.rolling(window = 30, min_periods = 10).mean(), color = \"Red\", label = \"Moving_Average\")\n",
    "\n",
    "plt.plot(pd.to_datetime(data[filt][\"date\"]), data[filt][\"values\"], marker = \"o\", color = \"Green\", linestyle = \"none\", label = \"imp dates in camp\")\n",
    "plt.title(\"Fig.2\", size = 20)\n",
    "plt.legend()\n",
    "plt.show()"
   ]
  },
  {
   "cell_type": "code",
   "execution_count": 41,
   "id": "cb63e199",
   "metadata": {},
   "outputs": [],
   "source": [
    "# Percentage change in tweet counts between subsequent dates and then see if an important date relates with a spike or not. \n",
    "\n",
    "data[\"pct_change\"] = data[\"tweets_count\"].pct_change()*100"
   ]
  },
  {
   "cell_type": "code",
   "execution_count": 42,
   "id": "0b474111",
   "metadata": {
    "scrolled": true
   },
   "outputs": [
    {
     "data": {
      "text/html": [
       "<div>\n",
       "<style scoped>\n",
       "    .dataframe tbody tr th:only-of-type {\n",
       "        vertical-align: middle;\n",
       "    }\n",
       "\n",
       "    .dataframe tbody tr th {\n",
       "        vertical-align: top;\n",
       "    }\n",
       "\n",
       "    .dataframe thead th {\n",
       "        text-align: right;\n",
       "    }\n",
       "</style>\n",
       "<table border=\"1\" class=\"dataframe\">\n",
       "  <thead>\n",
       "    <tr style=\"text-align: right;\">\n",
       "      <th></th>\n",
       "      <th>date</th>\n",
       "      <th>tweets_count</th>\n",
       "      <th>Important Events</th>\n",
       "      <th>values</th>\n",
       "      <th>pct_change</th>\n",
       "    </tr>\n",
       "  </thead>\n",
       "  <tbody>\n",
       "    <tr>\n",
       "      <th>0</th>\n",
       "      <td>2014-07-14</td>\n",
       "      <td>1</td>\n",
       "      <td>False</td>\n",
       "      <td>0</td>\n",
       "      <td>NaN</td>\n",
       "    </tr>\n",
       "    <tr>\n",
       "      <th>1</th>\n",
       "      <td>2014-07-17</td>\n",
       "      <td>1</td>\n",
       "      <td>False</td>\n",
       "      <td>0</td>\n",
       "      <td>0.000000</td>\n",
       "    </tr>\n",
       "    <tr>\n",
       "      <th>2</th>\n",
       "      <td>2014-07-20</td>\n",
       "      <td>2</td>\n",
       "      <td>False</td>\n",
       "      <td>0</td>\n",
       "      <td>100.000000</td>\n",
       "    </tr>\n",
       "    <tr>\n",
       "      <th>3</th>\n",
       "      <td>2014-07-22</td>\n",
       "      <td>3</td>\n",
       "      <td>False</td>\n",
       "      <td>0</td>\n",
       "      <td>50.000000</td>\n",
       "    </tr>\n",
       "    <tr>\n",
       "      <th>4</th>\n",
       "      <td>2014-07-23</td>\n",
       "      <td>1</td>\n",
       "      <td>False</td>\n",
       "      <td>0</td>\n",
       "      <td>-66.666667</td>\n",
       "    </tr>\n",
       "  </tbody>\n",
       "</table>\n",
       "</div>"
      ],
      "text/plain": [
       "         date  tweets_count  Important Events  values  pct_change\n",
       "0  2014-07-14             1             False       0         NaN\n",
       "1  2014-07-17             1             False       0    0.000000\n",
       "2  2014-07-20             2             False       0  100.000000\n",
       "3  2014-07-22             3             False       0   50.000000\n",
       "4  2014-07-23             1             False       0  -66.666667"
      ]
     },
     "execution_count": 42,
     "metadata": {},
     "output_type": "execute_result"
    }
   ],
   "source": [
    "data.head()"
   ]
  },
  {
   "cell_type": "code",
   "execution_count": 43,
   "id": "286bd26a",
   "metadata": {},
   "outputs": [
    {
     "data": {
      "text/plain": [
       "date                 object\n",
       "tweets_count          int64\n",
       "Important Events       bool\n",
       "values                int32\n",
       "pct_change          float64\n",
       "dtype: object"
      ]
     },
     "execution_count": 43,
     "metadata": {},
     "output_type": "execute_result"
    }
   ],
   "source": [
    "data.dtypes"
   ]
  },
  {
   "cell_type": "code",
   "execution_count": 44,
   "id": "0e2731f2",
   "metadata": {},
   "outputs": [],
   "source": [
    "data[\"date\"] = pd.to_datetime(data[\"date\"])"
   ]
  },
  {
   "cell_type": "code",
   "execution_count": 45,
   "id": "889e88b1",
   "metadata": {},
   "outputs": [
    {
     "data": {
      "text/plain": [
       "<matplotlib.legend.Legend at 0x17185fb7550>"
      ]
     },
     "execution_count": 45,
     "metadata": {},
     "output_type": "execute_result"
    },
    {
     "data": {
      "image/png": "[encoded data removed]",
      "text/plain": [
       "<Figure size 864x432 with 1 Axes>"
      ]
     },
     "metadata": {
      "needs_background": "light"
     },
     "output_type": "display_data"
    }
   ],
   "source": [
    "plt.figure(figsize = (12, 6))\n",
    "data.set_index(\"date\")[\"pct_change\"].plot()\n",
    "\n",
    "plt.plot(pd.to_datetime(data[filt][\"date\"].values), data[filt][\"values\"].values, marker = \"o\", color = \"Green\", linestyle = \"none\", label = \"imp dates in camp\")\n",
    "plt.title(\"Fig.3\", size = 20)\n",
    "\n",
    "plt.legend()\n",
    "\n",
    "# At the time of US elctions, we have seen certain types of tweet spikes. "
   ]
  },
  {
   "cell_type": "markdown",
   "id": "7485d465",
   "metadata": {},
   "source": [
    "## Cleaning the Text column"
   ]
  },
  {
   "cell_type": "code",
   "execution_count": 46,
   "id": "f77ac0a3",
   "metadata": {},
   "outputs": [
    {
     "data": {
      "text/html": [
       "<div>\n",
       "<style scoped>\n",
       "    .dataframe tbody tr th:only-of-type {\n",
       "        vertical-align: middle;\n",
       "    }\n",
       "\n",
       "    .dataframe tbody tr th {\n",
       "        vertical-align: top;\n",
       "    }\n",
       "\n",
       "    .dataframe thead th {\n",
       "        text-align: right;\n",
       "    }\n",
       "</style>\n",
       "<table border=\"1\" class=\"dataframe\">\n",
       "  <thead>\n",
       "    <tr style=\"text-align: right;\">\n",
       "      <th></th>\n",
       "      <th>user_id</th>\n",
       "      <th>user_key</th>\n",
       "      <th>created_at</th>\n",
       "      <th>created_str</th>\n",
       "      <th>retweet_count</th>\n",
       "      <th>retweeted</th>\n",
       "      <th>favorite_count</th>\n",
       "      <th>text</th>\n",
       "      <th>tweet_id</th>\n",
       "      <th>source</th>\n",
       "      <th>hashtags</th>\n",
       "      <th>expanded_urls</th>\n",
       "      <th>posted</th>\n",
       "      <th>mentions</th>\n",
       "      <th>retweeted_status_id</th>\n",
       "      <th>in_reply_to_status_id</th>\n",
       "      <th>created_str_date</th>\n",
       "    </tr>\n",
       "  </thead>\n",
       "  <tbody>\n",
       "    <tr>\n",
       "      <th>0</th>\n",
       "      <td>1.868981e+09</td>\n",
       "      <td>ryanmaxwell_1</td>\n",
       "      <td>1.458672e+12</td>\n",
       "      <td>2016-03-22 18:31:42</td>\n",
       "      <td>NaN</td>\n",
       "      <td>NaN</td>\n",
       "      <td>NaN</td>\n",
       "      <td>#IslamKills Are you trying to say that there w...</td>\n",
       "      <td>7.123460e+17</td>\n",
       "      <td>NaN</td>\n",
       "      <td>[\"IslamKills\"]</td>\n",
       "      <td>[]</td>\n",
       "      <td>POSTED</td>\n",
       "      <td>[]</td>\n",
       "      <td>NaN</td>\n",
       "      <td>NaN</td>\n",
       "      <td>2016-03-22</td>\n",
       "    </tr>\n",
       "    <tr>\n",
       "      <th>1</th>\n",
       "      <td>2.571870e+09</td>\n",
       "      <td>detroitdailynew</td>\n",
       "      <td>1.476133e+12</td>\n",
       "      <td>2016-10-10 20:57:00</td>\n",
       "      <td>0.0</td>\n",
       "      <td>False</td>\n",
       "      <td>0.0</td>\n",
       "      <td>Clinton: Trump should’ve apologized more, atta...</td>\n",
       "      <td>7.855849e+17</td>\n",
       "      <td>&lt;a href=\"http://twitterfeed.com\" rel=\"nofollow...</td>\n",
       "      <td>[]</td>\n",
       "      <td>[\"http://detne.ws/2e172jF\"]</td>\n",
       "      <td>POSTED</td>\n",
       "      <td>[]</td>\n",
       "      <td>NaN</td>\n",
       "      <td>NaN</td>\n",
       "      <td>2016-10-10</td>\n",
       "    </tr>\n",
       "    <tr>\n",
       "      <th>2</th>\n",
       "      <td>1.710805e+09</td>\n",
       "      <td>cookncooks</td>\n",
       "      <td>1.487767e+12</td>\n",
       "      <td>2017-02-22 12:43:43</td>\n",
       "      <td>NaN</td>\n",
       "      <td>NaN</td>\n",
       "      <td>NaN</td>\n",
       "      <td>RT @ltapoll: Who was/is the best president of ...</td>\n",
       "      <td>8.343832e+17</td>\n",
       "      <td>NaN</td>\n",
       "      <td>[]</td>\n",
       "      <td>[]</td>\n",
       "      <td>POSTED</td>\n",
       "      <td>[]</td>\n",
       "      <td>NaN</td>\n",
       "      <td>NaN</td>\n",
       "      <td>2017-02-22</td>\n",
       "    </tr>\n",
       "  </tbody>\n",
       "</table>\n",
       "</div>"
      ],
      "text/plain": [
       "        user_id         user_key    created_at         created_str  \\\n",
       "0  1.868981e+09    ryanmaxwell_1  1.458672e+12 2016-03-22 18:31:42   \n",
       "1  2.571870e+09  detroitdailynew  1.476133e+12 2016-10-10 20:57:00   \n",
       "2  1.710805e+09       cookncooks  1.487767e+12 2017-02-22 12:43:43   \n",
       "\n",
       "   retweet_count retweeted  favorite_count  \\\n",
       "0            NaN       NaN             NaN   \n",
       "1            0.0     False             0.0   \n",
       "2            NaN       NaN             NaN   \n",
       "\n",
       "                                                text      tweet_id  \\\n",
       "0  #IslamKills Are you trying to say that there w...  7.123460e+17   \n",
       "1  Clinton: Trump should’ve apologized more, atta...  7.855849e+17   \n",
       "2  RT @ltapoll: Who was/is the best president of ...  8.343832e+17   \n",
       "\n",
       "                                              source        hashtags  \\\n",
       "0                                                NaN  [\"IslamKills\"]   \n",
       "1  <a href=\"http://twitterfeed.com\" rel=\"nofollow...              []   \n",
       "2                                                NaN              []   \n",
       "\n",
       "                 expanded_urls  posted mentions  retweeted_status_id  \\\n",
       "0                           []  POSTED       []                  NaN   \n",
       "1  [\"http://detne.ws/2e172jF\"]  POSTED       []                  NaN   \n",
       "2                           []  POSTED       []                  NaN   \n",
       "\n",
       "   in_reply_to_status_id created_str_date  \n",
       "0                    NaN       2016-03-22  \n",
       "1                    NaN       2016-10-10  \n",
       "2                    NaN       2017-02-22  "
      ]
     },
     "execution_count": 46,
     "metadata": {},
     "output_type": "execute_result"
    }
   ],
   "source": [
    "df.head(3)"
   ]
  },
  {
   "cell_type": "code",
   "execution_count": 47,
   "id": "7a5ea099",
   "metadata": {},
   "outputs": [
    {
     "data": {
      "text/plain": [
       "0         #IslamKills Are you trying to say that there w...\n",
       "1         Clinton: Trump should’ve apologized more, atta...\n",
       "2         RT @ltapoll: Who was/is the best president of ...\n",
       "3         RT @jww372: I don't have to guess your religio...\n",
       "4         RT @Shareblue: Pence and his lawyers decided w...\n",
       "                                ...                        \n",
       "203477    RT @AndreaChalupa: In intel circles, the story...\n",
       "203478    RT @KansasCityDNews: Tonganoxie police: Middle...\n",
       "203479    RT @signsinyork: Getting the right #company lo...\n",
       "203480    The Latest: Obama affirms continuity of ties w...\n",
       "203481    RT @futureguru100: U cant just Upload a CD onl...\n",
       "Name: text, Length: 203482, dtype: object"
      ]
     },
     "execution_count": 47,
     "metadata": {},
     "output_type": "execute_result"
    }
   ],
   "source": [
    "df.text"
   ]
  },
  {
   "cell_type": "code",
   "execution_count": 48,
   "id": "9ceaa0ce",
   "metadata": {},
   "outputs": [
    {
     "data": {
      "text/plain": [
       "'#IslamKills Are you trying to say that there were no terrorist attacks in Europe before refugees were let in?'"
      ]
     },
     "execution_count": 48,
     "metadata": {},
     "output_type": "execute_result"
    }
   ],
   "source": [
    "df.text[0]"
   ]
  },
  {
   "cell_type": "code",
   "execution_count": 49,
   "id": "1002066b",
   "metadata": {},
   "outputs": [
    {
     "data": {
      "text/plain": [
       "21"
      ]
     },
     "execution_count": 49,
     "metadata": {},
     "output_type": "execute_result"
    }
   ],
   "source": [
    "# Missing values in text column\n",
    "\n",
    "df.text.isnull().sum()"
   ]
  },
  {
   "cell_type": "code",
   "execution_count": 50,
   "id": "08ddc148",
   "metadata": {},
   "outputs": [],
   "source": [
    "# Dropping the missing values\n",
    "\n",
    "df.dropna(subset = [\"text\"], inplace = True)"
   ]
  },
  {
   "cell_type": "code",
   "execution_count": 51,
   "id": "46813941",
   "metadata": {},
   "outputs": [
    {
     "data": {
      "text/plain": [
       "0"
      ]
     },
     "execution_count": 51,
     "metadata": {},
     "output_type": "execute_result"
    }
   ],
   "source": [
    "df.text.isnull().sum()"
   ]
  },
  {
   "cell_type": "code",
   "execution_count": 52,
   "id": "71660071",
   "metadata": {},
   "outputs": [
    {
     "data": {
      "text/plain": [
       "\"RT @ElPenguinito: #myfarewellwordswouldbe I've buried my fortune in the park under a giant...\""
      ]
     },
     "execution_count": 52,
     "metadata": {},
     "output_type": "execute_result"
    }
   ],
   "source": [
    "df[\"text\"][10]"
   ]
  },
  {
   "cell_type": "markdown",
   "id": "dd1e85ea",
   "metadata": {},
   "source": [
    "### Remove re-tweet mentions from data (RT with the text means re-tweet (RT))"
   ]
  },
  {
   "cell_type": "code",
   "execution_count": 53,
   "id": "cb11320a",
   "metadata": {},
   "outputs": [
    {
     "data": {
      "text/plain": [
       "0         False\n",
       "1         False\n",
       "2          True\n",
       "3          True\n",
       "4          True\n",
       "          ...  \n",
       "203477     True\n",
       "203478     True\n",
       "203479     True\n",
       "203480    False\n",
       "203481     True\n",
       "Name: text, Length: 203461, dtype: bool"
      ]
     },
     "execution_count": 53,
     "metadata": {},
     "output_type": "execute_result"
    }
   ],
   "source": [
    "df[\"text\"].str.contains(\"RT\")"
   ]
  },
  {
   "cell_type": "code",
   "execution_count": 54,
   "id": "381200a4",
   "metadata": {},
   "outputs": [
    {
     "data": {
      "text/plain": [
       "'RT @ltapoll: Who was/is the best president of the past 25 years? (Vote &amp; Retweet)'"
      ]
     },
     "execution_count": 54,
     "metadata": {},
     "output_type": "execute_result"
    }
   ],
   "source": [
    "df[\"text\"][2]"
   ]
  },
  {
   "cell_type": "code",
   "execution_count": 55,
   "id": "1d6f3276",
   "metadata": {},
   "outputs": [],
   "source": [
    "# I will be using regular expression (re) to replace RT of re-tweets with blank space."
   ]
  },
  {
   "cell_type": "code",
   "execution_count": 56,
   "id": "a4e4268c",
   "metadata": {},
   "outputs": [],
   "source": [
    "import re"
   ]
  },
  {
   "cell_type": "code",
   "execution_count": 57,
   "id": "50a9332d",
   "metadata": {},
   "outputs": [
    {
     "data": {
      "text/plain": [
       "' @ltapoll: Who was/is the best president of the past 25 years? (Vote &amp; Retweet)'"
      ]
     },
     "execution_count": 57,
     "metadata": {},
     "output_type": "execute_result"
    }
   ],
   "source": [
    "re.sub(\"RT.*?\", \"\", df[\"text\"][2])"
   ]
  },
  {
   "cell_type": "code",
   "execution_count": 58,
   "id": "0152811e",
   "metadata": {},
   "outputs": [],
   "source": [
    "# we need to exclude some unnecessary things attached with the string\n",
    "\n",
    "text = re.sub(\"RT.*?:\", \"\", df[\"text\"][4])"
   ]
  },
  {
   "cell_type": "code",
   "execution_count": 59,
   "id": "df35ef45",
   "metadata": {},
   "outputs": [
    {
     "data": {
      "text/plain": [
       "' Pence and his lawyers decided which of his official emails the public could see\\r\\n\\r\\nhttps://t.co/HjhPguBK1Y by @alisonrose711'"
      ]
     },
     "execution_count": 59,
     "metadata": {},
     "output_type": "execute_result"
    }
   ],
   "source": [
    "text"
   ]
  },
  {
   "cell_type": "code",
   "execution_count": 60,
   "id": "9532957a",
   "metadata": {},
   "outputs": [],
   "source": [
    "obj = re.match(\".*\", text)"
   ]
  },
  {
   "cell_type": "code",
   "execution_count": 61,
   "id": "fd6d4f40",
   "metadata": {},
   "outputs": [
    {
     "data": {
      "text/plain": [
       "<re.Match object; span=(0, 81), match=' Pence and his lawyers decided which of his offic>"
      ]
     },
     "execution_count": 61,
     "metadata": {},
     "output_type": "execute_result"
    }
   ],
   "source": [
    "obj"
   ]
  },
  {
   "cell_type": "code",
   "execution_count": 62,
   "id": "e273ffa0",
   "metadata": {},
   "outputs": [
    {
     "data": {
      "text/plain": [
       "' Pence and his lawyers decided which of his official emails the public could see\\r'"
      ]
     },
     "execution_count": 62,
     "metadata": {},
     "output_type": "execute_result"
    }
   ],
   "source": [
    "obj.group()"
   ]
  },
  {
   "cell_type": "code",
   "execution_count": 63,
   "id": "990ce0b6",
   "metadata": {},
   "outputs": [
    {
     "data": {
      "text/plain": [
       "'Pence and his lawyers decided which of his official emails the public could see'"
      ]
     },
     "execution_count": 63,
     "metadata": {},
     "output_type": "execute_result"
    }
   ],
   "source": [
    "obj.group().strip()"
   ]
  },
  {
   "cell_type": "code",
   "execution_count": 64,
   "id": "a474fce1",
   "metadata": {},
   "outputs": [],
   "source": [
    "# Creating the function to replacing RT of the whole text column. \n",
    "\n",
    "def remove_retweet(tweet):\n",
    "    text = re.sub(\"RT.*?:\", \"\", tweet)\n",
    "    obj = re.match(\".*\", text)\n",
    "    return obj.group().strip()"
   ]
  },
  {
   "cell_type": "code",
   "execution_count": 65,
   "id": "07a63f64",
   "metadata": {},
   "outputs": [
    {
     "data": {
      "text/plain": [
       "'Pence and his lawyers decided which of his official emails the public could see'"
      ]
     },
     "execution_count": 65,
     "metadata": {},
     "output_type": "execute_result"
    }
   ],
   "source": [
    "remove_retweet(df[\"text\"][4])"
   ]
  },
  {
   "cell_type": "code",
   "execution_count": 66,
   "id": "b7d761a7",
   "metadata": {},
   "outputs": [],
   "source": [
    "text_only = df[\"text\"].apply(remove_retweet)"
   ]
  },
  {
   "cell_type": "code",
   "execution_count": 67,
   "id": "00c614c2",
   "metadata": {},
   "outputs": [
    {
     "data": {
      "text/plain": [
       "0         #IslamKills Are you trying to say that there w...\n",
       "1         Clinton: Trump should’ve apologized more, atta...\n",
       "2         Who was/is the best president of the past 25 y...\n",
       "3         I don't have to guess your religion! #Christma...\n",
       "4         Pence and his lawyers decided which of his off...\n",
       "                                ...                        \n",
       "203477    In intel circles, the story goes FSB filmed Tr...\n",
       "203478    Tonganoxie police: Middle school girl sexually...\n",
       "203479    Getting the right #company logo: How #business...\n",
       "203480    The Latest: Obama affirms continuity of ties w...\n",
       "203481    U cant just Upload a CD online &amp; thats it....\n",
       "Name: text, Length: 203461, dtype: object"
      ]
     },
     "execution_count": 67,
     "metadata": {},
     "output_type": "execute_result"
    }
   ],
   "source": [
    "text_only"
   ]
  },
  {
   "cell_type": "markdown",
   "id": "8db4d2e4",
   "metadata": {},
   "source": [
    "### Removing the hyperkinks "
   ]
  },
  {
   "cell_type": "code",
   "execution_count": 68,
   "id": "e91298cb",
   "metadata": {},
   "outputs": [
    {
     "data": {
      "text/plain": [
       "0         False\n",
       "1          True\n",
       "2         False\n",
       "3         False\n",
       "4         False\n",
       "          ...  \n",
       "203477    False\n",
       "203478    False\n",
       "203479     True\n",
       "203480     True\n",
       "203481    False\n",
       "Name: text, Length: 203461, dtype: bool"
      ]
     },
     "execution_count": 68,
     "metadata": {},
     "output_type": "execute_result"
    }
   ],
   "source": [
    "text_only.str.contains(\"http\")"
   ]
  },
  {
   "cell_type": "code",
   "execution_count": 69,
   "id": "1682fc03",
   "metadata": {},
   "outputs": [
    {
     "data": {
      "text/plain": [
       "1         Clinton: Trump should’ve apologized more, atta...\n",
       "6         You’ll never guess who tweeted something false...\n",
       "7         New post: WATCH: DIAMOND AND SILK Rip On John ...\n",
       "8         3 Women Face Charges After Being Caught Steali...\n",
       "13        Dave Chappelle: \"Black Lives Matter\" is the wo...\n",
       "                                ...                        \n",
       "203473    Theresa A. Dear's \"Let's Get to Work\" @WVON169...\n",
       "203474    This 22-year-old got out of an awkward convo w...\n",
       "203475    #tcot #news #variety New Facebook tool allows ...\n",
       "203479    Getting the right #company logo: How #business...\n",
       "203480    The Latest: Obama affirms continuity of ties w...\n",
       "Name: text, Length: 95394, dtype: object"
      ]
     },
     "execution_count": 69,
     "metadata": {},
     "output_type": "execute_result"
    }
   ],
   "source": [
    "text_only[text_only.str.contains(\"http\")]"
   ]
  },
  {
   "cell_type": "code",
   "execution_count": 70,
   "id": "6dfacc94",
   "metadata": {},
   "outputs": [
    {
     "data": {
      "text/plain": [
       "'Clinton: Trump should’ve apologized more, attacked less https://t.co/eJampkoHFZ'"
      ]
     },
     "execution_count": 70,
     "metadata": {},
     "output_type": "execute_result"
    }
   ],
   "source": [
    "text_only[1]"
   ]
  },
  {
   "cell_type": "code",
   "execution_count": 71,
   "id": "24cecbcb",
   "metadata": {},
   "outputs": [
    {
     "data": {
      "text/plain": [
       "'Clinton: Trump should’ve apologized more, attacked less '"
      ]
     },
     "execution_count": 71,
     "metadata": {},
     "output_type": "execute_result"
    }
   ],
   "source": [
    "re.sub(\"http.?:.*\", \"\", text_only[1])"
   ]
  },
  {
   "cell_type": "code",
   "execution_count": 72,
   "id": "f2d40013",
   "metadata": {},
   "outputs": [],
   "source": [
    "def remove_links(tweet):\n",
    "    return re.sub(\"http.?:.*\", \"\", tweet)"
   ]
  },
  {
   "cell_type": "code",
   "execution_count": 73,
   "id": "ddf9f98c",
   "metadata": {},
   "outputs": [],
   "source": [
    "text_no_links = text_only.apply(remove_links)"
   ]
  },
  {
   "cell_type": "code",
   "execution_count": 74,
   "id": "9a4a1873",
   "metadata": {},
   "outputs": [
    {
     "data": {
      "text/plain": [
       "0         #IslamKills Are you trying to say that there w...\n",
       "1         Clinton: Trump should’ve apologized more, atta...\n",
       "2         Who was/is the best president of the past 25 y...\n",
       "3         I don't have to guess your religion! #Christma...\n",
       "4         Pence and his lawyers decided which of his off...\n",
       "                                ...                        \n",
       "203477    In intel circles, the story goes FSB filmed Tr...\n",
       "203478    Tonganoxie police: Middle school girl sexually...\n",
       "203479    Getting the right #company logo: How #business...\n",
       "203480    The Latest: Obama affirms continuity of ties w...\n",
       "203481    U cant just Upload a CD online &amp; thats it....\n",
       "Name: text, Length: 203461, dtype: object"
      ]
     },
     "execution_count": 74,
     "metadata": {},
     "output_type": "execute_result"
    }
   ],
   "source": [
    "text_no_links"
   ]
  },
  {
   "cell_type": "markdown",
   "id": "243bf25b",
   "metadata": {},
   "source": [
    "### Removing the hashtags"
   ]
  },
  {
   "cell_type": "code",
   "execution_count": 75,
   "id": "44c3d1d5",
   "metadata": {},
   "outputs": [
    {
     "data": {
      "text/plain": [
       "0          True\n",
       "1         False\n",
       "2         False\n",
       "3          True\n",
       "4         False\n",
       "          ...  \n",
       "203477    False\n",
       "203478     True\n",
       "203479     True\n",
       "203480    False\n",
       "203481    False\n",
       "Name: text, Length: 203461, dtype: bool"
      ]
     },
     "execution_count": 75,
     "metadata": {},
     "output_type": "execute_result"
    }
   ],
   "source": [
    "text_no_links.str.contains(\"#\")"
   ]
  },
  {
   "cell_type": "code",
   "execution_count": 76,
   "id": "66783ed0",
   "metadata": {},
   "outputs": [
    {
     "data": {
      "text/plain": [
       "\"#myfarewellwordswouldbe I've buried my fortune in the park under a giant...\""
      ]
     },
     "execution_count": 76,
     "metadata": {},
     "output_type": "execute_result"
    }
   ],
   "source": [
    "text_no_links[10]"
   ]
  },
  {
   "cell_type": "code",
   "execution_count": 77,
   "id": "621ace86",
   "metadata": {},
   "outputs": [
    {
     "data": {
      "text/plain": [
       "\" I've buried my fortune in the park under a giant...\""
      ]
     },
     "execution_count": 77,
     "metadata": {},
     "output_type": "execute_result"
    }
   ],
   "source": [
    "re.sub(\"#\\S+\", \"\", text_no_links[10])"
   ]
  },
  {
   "cell_type": "code",
   "execution_count": 78,
   "id": "3913a2fe",
   "metadata": {},
   "outputs": [],
   "source": [
    "def remove_hashtags(tweet):\n",
    "    return re.sub(\"#\\S+\", \"\", tweet)"
   ]
  },
  {
   "cell_type": "code",
   "execution_count": 79,
   "id": "3c2a4afe",
   "metadata": {},
   "outputs": [],
   "source": [
    "text_no_hashtags = text_no_links.map(remove_hashtags)"
   ]
  },
  {
   "cell_type": "code",
   "execution_count": 80,
   "id": "c1e3b9ee",
   "metadata": {},
   "outputs": [
    {
     "data": {
      "text/plain": [
       "0          Are you trying to say that there were no terr...\n",
       "1         Clinton: Trump should’ve apologized more, atta...\n",
       "2         Who was/is the best president of the past 25 y...\n",
       "3                     I don't have to guess your religion! \n",
       "4         Pence and his lawyers decided which of his off...\n",
       "                                ...                        \n",
       "203477    In intel circles, the story goes FSB filmed Tr...\n",
       "203478    Tonganoxie police: Middle school girl sexually...\n",
       "203479    Getting the right  logo: How  got their messag...\n",
       "203480    The Latest: Obama affirms continuity of ties w...\n",
       "203481    U cant just Upload a CD online &amp; thats it....\n",
       "Name: text, Length: 203461, dtype: object"
      ]
     },
     "execution_count": 80,
     "metadata": {},
     "output_type": "execute_result"
    }
   ],
   "source": [
    "text_no_hashtags"
   ]
  },
  {
   "cell_type": "code",
   "execution_count": 81,
   "id": "0ce2ea96",
   "metadata": {},
   "outputs": [
    {
     "data": {
      "text/plain": [
       "4190          Go    4 The Worlds Strongest     # AIRFORCE  \n",
       "6763      # WHAT KINDA SHIT IS THIS ? WHERE IS HER MAMA ...\n",
       "10073     Let's get  trending again to fund Michigan! Va...\n",
       "15879                                         Lovin' this #\n",
       "23075     I'd been quoting the 37,500 # stated in this S...\n",
       "26044     # OBAMA HAS INVITED THESE RADICALS INTO THE US...\n",
       "28124     Nebraska Democrats Planted Voter Registration ...\n",
       "30234                            the # bacon is offended!! \n",
       "34087     GM Lied To The Public And To Trump About Where...\n",
       "41239     @FoxNews @Austan_Goolsbee @POTUS The rates at ...\n",
       "49105     \"Someone explain how Putin knew to hack the po...\n",
       "57469     Obama's biggest fault is he made it very clear...\n",
       "60900     ▶@LanceScurv: Alternative Black News Episode #...\n",
       "61607     Music speaks where words.... Don't speak so mu...\n",
       "63469      I'm starting to take this # thing a little to...\n",
       "65307      don't let people twist this, adding BLM to th...\n",
       "67060     # WHILE THEY ARE TALKIN ABOUT VOLLEY BALL PLAY...\n",
       "75975          Go    4 The Worlds Strongest    # AIRFORCE  \n",
       "83470     My name is SPICE GIRL. My Animal ID # is A1106...\n",
       "83496                                      levarTemiTInehW#\n",
       "86341     😳😡. MUST STOP THIS LUNACY, TERRORISM! .@RNRTex...\n",
       "87525                                           # Military \n",
       "88008     \"Chaotic\" in its # of trial balloons, palace i...\n",
       "91474      I'm starting to take this # thing a little to...\n",
       "96162                                            # Trump   \n",
       "109172    # Univision lying about Trump Rally in Miami i...\n",
       "114630      spending entirely too much time tweeting whe...\n",
       "115939    Sudden excruciating pain, and although unrelat...\n",
       "115951    This is my hair I can mess up my hair if I wan...\n",
       "122417                         Cayetano de Arquer Buigas # \n",
       "127166    Apparently  thinks praying for a  counts as a ...\n",
       "130073    # CNN said it was Terrorism not international....\n",
       "136836                                     Team Trump # 1  \n",
       "139291                \"The Real Trump\" Make Veteran's # 1) \n",
       "142791    Absolutely so his lies abt # of jobs he \"creat...\n",
       "149060    @hale_razor @geoff_deweaver People have lost s...\n",
       "152320    @CNN @MSNBC @FoxNews Glad 2 see Fox news is re...\n",
       "153527    @mitchellvii # so many countries have customs ...\n",
       "153837    UPDATE On school teacher in Dallas Tx. Spoke w...\n",
       "154488    @Andromodid @LorenceHud @scottisbell_ @gearmei...\n",
       "159139    Lou Dobbs tweeting a Trump accuser's address/p...\n",
       "163672                              Raw chicken sandwich # \n",
       "169127    I just realized I love this # because prequali...\n",
       "171136    A New # campaign! 'Support my filmmaking/produ...\n",
       "172589    Mitch McConnell has lowest approval of any sit...\n",
       "180854    It's very hard to win a war when you won't adm...\n",
       "182853    UPDATE On school teacher in Dallas Tx. Spoke w...\n",
       "187517    @Stephan99609915 @Avraham5772 @Tex1944 # Not w...\n",
       "188900    Sudden excruciating pain, and although unrelat...\n",
       "191205                           the # bacon is offended!! \n",
       "195657    Music speaks where words.... Don't speak so mu...\n",
       "Name: text, dtype: object"
      ]
     },
     "execution_count": 81,
     "metadata": {},
     "output_type": "execute_result"
    }
   ],
   "source": [
    "# Still there are some columns having hashtags but these are not actually hashtags, \n",
    "#these are just points which are highlighted with hashtags. \n",
    "\n",
    "text_no_hashtags[text_no_hashtags.str.contains(\"#\")]"
   ]
  },
  {
   "cell_type": "code",
   "execution_count": 82,
   "id": "00786402",
   "metadata": {},
   "outputs": [
    {
     "data": {
      "text/plain": [
       "'# WHAT KINDA SHIT IS THIS ? WHERE IS HER MAMA ? JOE BIDEN MUST BE CLOSE AROUND HE IS ALWAYS HORNY FOR  13 YR OLD GI…'"
      ]
     },
     "execution_count": 82,
     "metadata": {},
     "output_type": "execute_result"
    }
   ],
   "source": [
    "text_no_hashtags[text_no_hashtags.str.contains(\"#\")][6763]"
   ]
  },
  {
   "cell_type": "markdown",
   "id": "46623fc3",
   "metadata": {},
   "source": [
    "### Removing user mentions from the data"
   ]
  },
  {
   "cell_type": "code",
   "execution_count": 83,
   "id": "a1f176f6",
   "metadata": {},
   "outputs": [
    {
     "data": {
      "text/plain": [
       "0         False\n",
       "1         False\n",
       "2         False\n",
       "3         False\n",
       "4         False\n",
       "          ...  \n",
       "203477    False\n",
       "203478    False\n",
       "203479     True\n",
       "203480    False\n",
       "203481    False\n",
       "Name: text, Length: 203461, dtype: bool"
      ]
     },
     "execution_count": 83,
     "metadata": {},
     "output_type": "execute_result"
    }
   ],
   "source": [
    "text_no_hashtags.str.contains(\"@\")"
   ]
  },
  {
   "cell_type": "code",
   "execution_count": 84,
   "id": "cf2172e8",
   "metadata": {},
   "outputs": [
    {
     "data": {
      "text/plain": [
       "'Getting the right  logo: How  got their message across @smallbusinessuk '"
      ]
     },
     "execution_count": 84,
     "metadata": {},
     "output_type": "execute_result"
    }
   ],
   "source": [
    "text_no_hashtags[203479]"
   ]
  },
  {
   "cell_type": "code",
   "execution_count": 85,
   "id": "86c10221",
   "metadata": {},
   "outputs": [
    {
     "data": {
      "text/plain": [
       "'Getting the right  logo: How  got their message across  '"
      ]
     },
     "execution_count": 85,
     "metadata": {},
     "output_type": "execute_result"
    }
   ],
   "source": [
    "re.sub(\"@\\S+\", \"\", text_no_hashtags[203479])"
   ]
  },
  {
   "cell_type": "code",
   "execution_count": 86,
   "id": "8ad1277c",
   "metadata": {},
   "outputs": [],
   "source": [
    "def remove_mentions(tweet):\n",
    "    return re.sub(\"@\\S+\", \"\", tweet)"
   ]
  },
  {
   "cell_type": "code",
   "execution_count": 87,
   "id": "70811c62",
   "metadata": {},
   "outputs": [],
   "source": [
    "df[\"tweet_text_only\"] = text_no_hashtags.map(remove_mentions)"
   ]
  },
  {
   "cell_type": "code",
   "execution_count": 88,
   "id": "ab17c254",
   "metadata": {},
   "outputs": [
    {
     "data": {
      "text/html": [
       "<div>\n",
       "<style scoped>\n",
       "    .dataframe tbody tr th:only-of-type {\n",
       "        vertical-align: middle;\n",
       "    }\n",
       "\n",
       "    .dataframe tbody tr th {\n",
       "        vertical-align: top;\n",
       "    }\n",
       "\n",
       "    .dataframe thead th {\n",
       "        text-align: right;\n",
       "    }\n",
       "</style>\n",
       "<table border=\"1\" class=\"dataframe\">\n",
       "  <thead>\n",
       "    <tr style=\"text-align: right;\">\n",
       "      <th></th>\n",
       "      <th>user_id</th>\n",
       "      <th>user_key</th>\n",
       "      <th>created_at</th>\n",
       "      <th>created_str</th>\n",
       "      <th>retweet_count</th>\n",
       "      <th>retweeted</th>\n",
       "      <th>favorite_count</th>\n",
       "      <th>text</th>\n",
       "      <th>tweet_id</th>\n",
       "      <th>source</th>\n",
       "      <th>hashtags</th>\n",
       "      <th>expanded_urls</th>\n",
       "      <th>posted</th>\n",
       "      <th>mentions</th>\n",
       "      <th>retweeted_status_id</th>\n",
       "      <th>in_reply_to_status_id</th>\n",
       "      <th>created_str_date</th>\n",
       "      <th>tweet_text_only</th>\n",
       "    </tr>\n",
       "  </thead>\n",
       "  <tbody>\n",
       "    <tr>\n",
       "      <th>0</th>\n",
       "      <td>1.868981e+09</td>\n",
       "      <td>ryanmaxwell_1</td>\n",
       "      <td>1.458672e+12</td>\n",
       "      <td>2016-03-22 18:31:42</td>\n",
       "      <td>NaN</td>\n",
       "      <td>NaN</td>\n",
       "      <td>NaN</td>\n",
       "      <td>#IslamKills Are you trying to say that there w...</td>\n",
       "      <td>7.123460e+17</td>\n",
       "      <td>NaN</td>\n",
       "      <td>[\"IslamKills\"]</td>\n",
       "      <td>[]</td>\n",
       "      <td>POSTED</td>\n",
       "      <td>[]</td>\n",
       "      <td>NaN</td>\n",
       "      <td>NaN</td>\n",
       "      <td>2016-03-22</td>\n",
       "      <td>Are you trying to say that there were no terr...</td>\n",
       "    </tr>\n",
       "    <tr>\n",
       "      <th>1</th>\n",
       "      <td>2.571870e+09</td>\n",
       "      <td>detroitdailynew</td>\n",
       "      <td>1.476133e+12</td>\n",
       "      <td>2016-10-10 20:57:00</td>\n",
       "      <td>0.0</td>\n",
       "      <td>False</td>\n",
       "      <td>0.0</td>\n",
       "      <td>Clinton: Trump should’ve apologized more, atta...</td>\n",
       "      <td>7.855849e+17</td>\n",
       "      <td>&lt;a href=\"http://twitterfeed.com\" rel=\"nofollow...</td>\n",
       "      <td>[]</td>\n",
       "      <td>[\"http://detne.ws/2e172jF\"]</td>\n",
       "      <td>POSTED</td>\n",
       "      <td>[]</td>\n",
       "      <td>NaN</td>\n",
       "      <td>NaN</td>\n",
       "      <td>2016-10-10</td>\n",
       "      <td>Clinton: Trump should’ve apologized more, atta...</td>\n",
       "    </tr>\n",
       "    <tr>\n",
       "      <th>2</th>\n",
       "      <td>1.710805e+09</td>\n",
       "      <td>cookncooks</td>\n",
       "      <td>1.487767e+12</td>\n",
       "      <td>2017-02-22 12:43:43</td>\n",
       "      <td>NaN</td>\n",
       "      <td>NaN</td>\n",
       "      <td>NaN</td>\n",
       "      <td>RT @ltapoll: Who was/is the best president of ...</td>\n",
       "      <td>8.343832e+17</td>\n",
       "      <td>NaN</td>\n",
       "      <td>[]</td>\n",
       "      <td>[]</td>\n",
       "      <td>POSTED</td>\n",
       "      <td>[]</td>\n",
       "      <td>NaN</td>\n",
       "      <td>NaN</td>\n",
       "      <td>2017-02-22</td>\n",
       "      <td>Who was/is the best president of the past 25 y...</td>\n",
       "    </tr>\n",
       "  </tbody>\n",
       "</table>\n",
       "</div>"
      ],
      "text/plain": [
       "        user_id         user_key    created_at         created_str  \\\n",
       "0  1.868981e+09    ryanmaxwell_1  1.458672e+12 2016-03-22 18:31:42   \n",
       "1  2.571870e+09  detroitdailynew  1.476133e+12 2016-10-10 20:57:00   \n",
       "2  1.710805e+09       cookncooks  1.487767e+12 2017-02-22 12:43:43   \n",
       "\n",
       "   retweet_count retweeted  favorite_count  \\\n",
       "0            NaN       NaN             NaN   \n",
       "1            0.0     False             0.0   \n",
       "2            NaN       NaN             NaN   \n",
       "\n",
       "                                                text      tweet_id  \\\n",
       "0  #IslamKills Are you trying to say that there w...  7.123460e+17   \n",
       "1  Clinton: Trump should’ve apologized more, atta...  7.855849e+17   \n",
       "2  RT @ltapoll: Who was/is the best president of ...  8.343832e+17   \n",
       "\n",
       "                                              source        hashtags  \\\n",
       "0                                                NaN  [\"IslamKills\"]   \n",
       "1  <a href=\"http://twitterfeed.com\" rel=\"nofollow...              []   \n",
       "2                                                NaN              []   \n",
       "\n",
       "                 expanded_urls  posted mentions  retweeted_status_id  \\\n",
       "0                           []  POSTED       []                  NaN   \n",
       "1  [\"http://detne.ws/2e172jF\"]  POSTED       []                  NaN   \n",
       "2                           []  POSTED       []                  NaN   \n",
       "\n",
       "   in_reply_to_status_id created_str_date  \\\n",
       "0                    NaN       2016-03-22   \n",
       "1                    NaN       2016-10-10   \n",
       "2                    NaN       2017-02-22   \n",
       "\n",
       "                                     tweet_text_only  \n",
       "0   Are you trying to say that there were no terr...  \n",
       "1  Clinton: Trump should’ve apologized more, atta...  \n",
       "2  Who was/is the best president of the past 25 y...  "
      ]
     },
     "execution_count": 88,
     "metadata": {},
     "output_type": "execute_result"
    }
   ],
   "source": [
    "df.head(3)"
   ]
  },
  {
   "cell_type": "markdown",
   "id": "8c02ac54",
   "metadata": {},
   "source": [
    "### Extracting the top user_mentions which are extremely used "
   ]
  },
  {
   "cell_type": "code",
   "execution_count": 89,
   "id": "11a83b15",
   "metadata": {},
   "outputs": [
    {
     "data": {
      "text/plain": [
       "0         False\n",
       "1         False\n",
       "2          True\n",
       "3          True\n",
       "4          True\n",
       "          ...  \n",
       "203477     True\n",
       "203478     True\n",
       "203479     True\n",
       "203480    False\n",
       "203481     True\n",
       "Name: text, Length: 203461, dtype: bool"
      ]
     },
     "execution_count": 89,
     "metadata": {},
     "output_type": "execute_result"
    }
   ],
   "source": [
    "df[\"text\"].str.contains(\"@\")"
   ]
  },
  {
   "cell_type": "code",
   "execution_count": 90,
   "id": "97402867",
   "metadata": {},
   "outputs": [
    {
     "data": {
      "text/plain": [
       "'RT @ltapoll: Who was/is the best president of the past 25 years? (Vote &amp; Retweet)'"
      ]
     },
     "execution_count": 90,
     "metadata": {},
     "output_type": "execute_result"
    }
   ],
   "source": [
    "df[\"text\"][2]"
   ]
  },
  {
   "cell_type": "code",
   "execution_count": 91,
   "id": "e0db774c",
   "metadata": {},
   "outputs": [
    {
     "data": {
      "text/plain": [
       "['@ltapoll:']"
      ]
     },
     "execution_count": 91,
     "metadata": {},
     "output_type": "execute_result"
    }
   ],
   "source": [
    "re.findall(\"@\\S+\", df[\"text\"][2])"
   ]
  },
  {
   "cell_type": "code",
   "execution_count": 92,
   "id": "49948f98",
   "metadata": {},
   "outputs": [],
   "source": [
    "def extract_user_mentions(tweet):\n",
    "    user_mentions_only = []\n",
    "    if len(re.findall(\"@\\S+\", tweet)) > 0:\n",
    "        user_mentions_only.append(re.findall(\"@\\S+\", tweet))\n",
    "    else:\n",
    "        user_mentions_only.append([\"0\"])\n",
    "    return user_mentions_only[0]"
   ]
  },
  {
   "cell_type": "code",
   "execution_count": 93,
   "id": "cc4917fe",
   "metadata": {},
   "outputs": [
    {
     "data": {
      "text/plain": [
       "['@ltapoll:']"
      ]
     },
     "execution_count": 93,
     "metadata": {},
     "output_type": "execute_result"
    }
   ],
   "source": [
    "extract_user_mentions(df[\"text\"][2])"
   ]
  },
  {
   "cell_type": "code",
   "execution_count": 94,
   "id": "fbc8379d",
   "metadata": {},
   "outputs": [],
   "source": [
    "df[\"user_mentions\"] = df[\"text\"].apply(extract_user_mentions)"
   ]
  },
  {
   "cell_type": "code",
   "execution_count": 95,
   "id": "c58f6df8",
   "metadata": {},
   "outputs": [
    {
     "data": {
      "text/html": [
       "<div>\n",
       "<style scoped>\n",
       "    .dataframe tbody tr th:only-of-type {\n",
       "        vertical-align: middle;\n",
       "    }\n",
       "\n",
       "    .dataframe tbody tr th {\n",
       "        vertical-align: top;\n",
       "    }\n",
       "\n",
       "    .dataframe thead th {\n",
       "        text-align: right;\n",
       "    }\n",
       "</style>\n",
       "<table border=\"1\" class=\"dataframe\">\n",
       "  <thead>\n",
       "    <tr style=\"text-align: right;\">\n",
       "      <th></th>\n",
       "      <th>user_id</th>\n",
       "      <th>user_key</th>\n",
       "      <th>created_at</th>\n",
       "      <th>created_str</th>\n",
       "      <th>retweet_count</th>\n",
       "      <th>retweeted</th>\n",
       "      <th>favorite_count</th>\n",
       "      <th>text</th>\n",
       "      <th>tweet_id</th>\n",
       "      <th>source</th>\n",
       "      <th>hashtags</th>\n",
       "      <th>expanded_urls</th>\n",
       "      <th>posted</th>\n",
       "      <th>mentions</th>\n",
       "      <th>retweeted_status_id</th>\n",
       "      <th>in_reply_to_status_id</th>\n",
       "      <th>created_str_date</th>\n",
       "      <th>tweet_text_only</th>\n",
       "      <th>user_mentions</th>\n",
       "    </tr>\n",
       "  </thead>\n",
       "  <tbody>\n",
       "    <tr>\n",
       "      <th>0</th>\n",
       "      <td>1.868981e+09</td>\n",
       "      <td>ryanmaxwell_1</td>\n",
       "      <td>1.458672e+12</td>\n",
       "      <td>2016-03-22 18:31:42</td>\n",
       "      <td>NaN</td>\n",
       "      <td>NaN</td>\n",
       "      <td>NaN</td>\n",
       "      <td>#IslamKills Are you trying to say that there w...</td>\n",
       "      <td>7.123460e+17</td>\n",
       "      <td>NaN</td>\n",
       "      <td>[\"IslamKills\"]</td>\n",
       "      <td>[]</td>\n",
       "      <td>POSTED</td>\n",
       "      <td>[]</td>\n",
       "      <td>NaN</td>\n",
       "      <td>NaN</td>\n",
       "      <td>2016-03-22</td>\n",
       "      <td>Are you trying to say that there were no terr...</td>\n",
       "      <td>[0]</td>\n",
       "    </tr>\n",
       "    <tr>\n",
       "      <th>1</th>\n",
       "      <td>2.571870e+09</td>\n",
       "      <td>detroitdailynew</td>\n",
       "      <td>1.476133e+12</td>\n",
       "      <td>2016-10-10 20:57:00</td>\n",
       "      <td>0.0</td>\n",
       "      <td>False</td>\n",
       "      <td>0.0</td>\n",
       "      <td>Clinton: Trump should’ve apologized more, atta...</td>\n",
       "      <td>7.855849e+17</td>\n",
       "      <td>&lt;a href=\"http://twitterfeed.com\" rel=\"nofollow...</td>\n",
       "      <td>[]</td>\n",
       "      <td>[\"http://detne.ws/2e172jF\"]</td>\n",
       "      <td>POSTED</td>\n",
       "      <td>[]</td>\n",
       "      <td>NaN</td>\n",
       "      <td>NaN</td>\n",
       "      <td>2016-10-10</td>\n",
       "      <td>Clinton: Trump should’ve apologized more, atta...</td>\n",
       "      <td>[0]</td>\n",
       "    </tr>\n",
       "    <tr>\n",
       "      <th>2</th>\n",
       "      <td>1.710805e+09</td>\n",
       "      <td>cookncooks</td>\n",
       "      <td>1.487767e+12</td>\n",
       "      <td>2017-02-22 12:43:43</td>\n",
       "      <td>NaN</td>\n",
       "      <td>NaN</td>\n",
       "      <td>NaN</td>\n",
       "      <td>RT @ltapoll: Who was/is the best president of ...</td>\n",
       "      <td>8.343832e+17</td>\n",
       "      <td>NaN</td>\n",
       "      <td>[]</td>\n",
       "      <td>[]</td>\n",
       "      <td>POSTED</td>\n",
       "      <td>[]</td>\n",
       "      <td>NaN</td>\n",
       "      <td>NaN</td>\n",
       "      <td>2017-02-22</td>\n",
       "      <td>Who was/is the best president of the past 25 y...</td>\n",
       "      <td>[@ltapoll:]</td>\n",
       "    </tr>\n",
       "    <tr>\n",
       "      <th>3</th>\n",
       "      <td>2.584153e+09</td>\n",
       "      <td>queenofthewo</td>\n",
       "      <td>1.482765e+12</td>\n",
       "      <td>2016-12-26 15:06:41</td>\n",
       "      <td>NaN</td>\n",
       "      <td>NaN</td>\n",
       "      <td>NaN</td>\n",
       "      <td>RT @jww372: I don't have to guess your religio...</td>\n",
       "      <td>8.134006e+17</td>\n",
       "      <td>NaN</td>\n",
       "      <td>[\"ChristmasAftermath\"]</td>\n",
       "      <td>[]</td>\n",
       "      <td>POSTED</td>\n",
       "      <td>[]</td>\n",
       "      <td>NaN</td>\n",
       "      <td>NaN</td>\n",
       "      <td>2016-12-26</td>\n",
       "      <td>I don't have to guess your religion!</td>\n",
       "      <td>[@jww372:]</td>\n",
       "    </tr>\n",
       "    <tr>\n",
       "      <th>4</th>\n",
       "      <td>1.768260e+09</td>\n",
       "      <td>mrclydepratt</td>\n",
       "      <td>1.501987e+12</td>\n",
       "      <td>2017-08-06 02:36:24</td>\n",
       "      <td>NaN</td>\n",
       "      <td>NaN</td>\n",
       "      <td>NaN</td>\n",
       "      <td>RT @Shareblue: Pence and his lawyers decided w...</td>\n",
       "      <td>8.940243e+17</td>\n",
       "      <td>NaN</td>\n",
       "      <td>[]</td>\n",
       "      <td>[]</td>\n",
       "      <td>POSTED</td>\n",
       "      <td>[]</td>\n",
       "      <td>NaN</td>\n",
       "      <td>NaN</td>\n",
       "      <td>2017-08-06</td>\n",
       "      <td>Pence and his lawyers decided which of his off...</td>\n",
       "      <td>[@Shareblue:, @alisonrose711]</td>\n",
       "    </tr>\n",
       "  </tbody>\n",
       "</table>\n",
       "</div>"
      ],
      "text/plain": [
       "        user_id         user_key    created_at         created_str  \\\n",
       "0  1.868981e+09    ryanmaxwell_1  1.458672e+12 2016-03-22 18:31:42   \n",
       "1  2.571870e+09  detroitdailynew  1.476133e+12 2016-10-10 20:57:00   \n",
       "2  1.710805e+09       cookncooks  1.487767e+12 2017-02-22 12:43:43   \n",
       "3  2.584153e+09     queenofthewo  1.482765e+12 2016-12-26 15:06:41   \n",
       "4  1.768260e+09     mrclydepratt  1.501987e+12 2017-08-06 02:36:24   \n",
       "\n",
       "   retweet_count retweeted  favorite_count  \\\n",
       "0            NaN       NaN             NaN   \n",
       "1            0.0     False             0.0   \n",
       "2            NaN       NaN             NaN   \n",
       "3            NaN       NaN             NaN   \n",
       "4            NaN       NaN             NaN   \n",
       "\n",
       "                                                text      tweet_id  \\\n",
       "0  #IslamKills Are you trying to say that there w...  7.123460e+17   \n",
       "1  Clinton: Trump should’ve apologized more, atta...  7.855849e+17   \n",
       "2  RT @ltapoll: Who was/is the best president of ...  8.343832e+17   \n",
       "3  RT @jww372: I don't have to guess your religio...  8.134006e+17   \n",
       "4  RT @Shareblue: Pence and his lawyers decided w...  8.940243e+17   \n",
       "\n",
       "                                              source                hashtags  \\\n",
       "0                                                NaN          [\"IslamKills\"]   \n",
       "1  <a href=\"http://twitterfeed.com\" rel=\"nofollow...                      []   \n",
       "2                                                NaN                      []   \n",
       "3                                                NaN  [\"ChristmasAftermath\"]   \n",
       "4                                                NaN                      []   \n",
       "\n",
       "                 expanded_urls  posted mentions  retweeted_status_id  \\\n",
       "0                           []  POSTED       []                  NaN   \n",
       "1  [\"http://detne.ws/2e172jF\"]  POSTED       []                  NaN   \n",
       "2                           []  POSTED       []                  NaN   \n",
       "3                           []  POSTED       []                  NaN   \n",
       "4                           []  POSTED       []                  NaN   \n",
       "\n",
       "   in_reply_to_status_id created_str_date  \\\n",
       "0                    NaN       2016-03-22   \n",
       "1                    NaN       2016-10-10   \n",
       "2                    NaN       2017-02-22   \n",
       "3                    NaN       2016-12-26   \n",
       "4                    NaN       2017-08-06   \n",
       "\n",
       "                                     tweet_text_only  \\\n",
       "0   Are you trying to say that there were no terr...   \n",
       "1  Clinton: Trump should’ve apologized more, atta...   \n",
       "2  Who was/is the best president of the past 25 y...   \n",
       "3              I don't have to guess your religion!    \n",
       "4  Pence and his lawyers decided which of his off...   \n",
       "\n",
       "                   user_mentions  \n",
       "0                            [0]  \n",
       "1                            [0]  \n",
       "2                    [@ltapoll:]  \n",
       "3                     [@jww372:]  \n",
       "4  [@Shareblue:, @alisonrose711]  "
      ]
     },
     "execution_count": 95,
     "metadata": {},
     "output_type": "execute_result"
    }
   ],
   "source": [
    "df.head()"
   ]
  },
  {
   "cell_type": "markdown",
   "id": "f31d2f88",
   "metadata": {},
   "source": [
    "### Extracting the hashtags from the data which are extremely used "
   ]
  },
  {
   "cell_type": "code",
   "execution_count": 96,
   "id": "e3ba2f11",
   "metadata": {},
   "outputs": [
    {
     "data": {
      "text/plain": [
       "0          True\n",
       "1         False\n",
       "2         False\n",
       "3          True\n",
       "4         False\n",
       "          ...  \n",
       "203477    False\n",
       "203478     True\n",
       "203479     True\n",
       "203480    False\n",
       "203481    False\n",
       "Name: text, Length: 203461, dtype: bool"
      ]
     },
     "execution_count": 96,
     "metadata": {},
     "output_type": "execute_result"
    }
   ],
   "source": [
    "df[\"text\"].str.contains(\"#\")"
   ]
  },
  {
   "cell_type": "code",
   "execution_count": 97,
   "id": "f977272f",
   "metadata": {},
   "outputs": [
    {
     "data": {
      "text/plain": [
       "\"RT @jww372: I don't have to guess your religion! #ChristmasAftermath\""
      ]
     },
     "execution_count": 97,
     "metadata": {},
     "output_type": "execute_result"
    }
   ],
   "source": [
    "df[\"text\"][3]"
   ]
  },
  {
   "cell_type": "code",
   "execution_count": 98,
   "id": "4c26a46b",
   "metadata": {},
   "outputs": [],
   "source": [
    "text = df[\"text\"][3].split()"
   ]
  },
  {
   "cell_type": "code",
   "execution_count": 99,
   "id": "85ae6cbe",
   "metadata": {},
   "outputs": [
    {
     "data": {
      "text/plain": [
       "['#ChristmasAftermath']"
      ]
     },
     "execution_count": 99,
     "metadata": {},
     "output_type": "execute_result"
    }
   ],
   "source": [
    "list(set([part for part in text if part.startswith(\"#\")]))"
   ]
  },
  {
   "cell_type": "code",
   "execution_count": 100,
   "id": "9f5a53be",
   "metadata": {},
   "outputs": [],
   "source": [
    "def extract_hashtags(text):\n",
    "    return list(set([part for part in text.split() if part.startswith(\"#\")]))"
   ]
  },
  {
   "cell_type": "code",
   "execution_count": 101,
   "id": "a9a510ee",
   "metadata": {},
   "outputs": [
    {
     "data": {
      "text/plain": [
       "['#ChristmasAftermath']"
      ]
     },
     "execution_count": 101,
     "metadata": {},
     "output_type": "execute_result"
    }
   ],
   "source": [
    "extract_hashtags(df[\"text\"][3])"
   ]
  },
  {
   "cell_type": "code",
   "execution_count": 102,
   "id": "fb91c1c6",
   "metadata": {},
   "outputs": [],
   "source": [
    "df[\"tweet_hashtags\"] = df[\"text\"].apply(extract_hashtags)"
   ]
  },
  {
   "cell_type": "code",
   "execution_count": 103,
   "id": "20014979",
   "metadata": {
    "scrolled": false
   },
   "outputs": [
    {
     "data": {
      "text/html": [
       "<div>\n",
       "<style scoped>\n",
       "    .dataframe tbody tr th:only-of-type {\n",
       "        vertical-align: middle;\n",
       "    }\n",
       "\n",
       "    .dataframe tbody tr th {\n",
       "        vertical-align: top;\n",
       "    }\n",
       "\n",
       "    .dataframe thead th {\n",
       "        text-align: right;\n",
       "    }\n",
       "</style>\n",
       "<table border=\"1\" class=\"dataframe\">\n",
       "  <thead>\n",
       "    <tr style=\"text-align: right;\">\n",
       "      <th></th>\n",
       "      <th>user_id</th>\n",
       "      <th>user_key</th>\n",
       "      <th>created_at</th>\n",
       "      <th>created_str</th>\n",
       "      <th>retweet_count</th>\n",
       "      <th>retweeted</th>\n",
       "      <th>favorite_count</th>\n",
       "      <th>text</th>\n",
       "      <th>tweet_id</th>\n",
       "      <th>source</th>\n",
       "      <th>hashtags</th>\n",
       "      <th>expanded_urls</th>\n",
       "      <th>posted</th>\n",
       "      <th>mentions</th>\n",
       "      <th>retweeted_status_id</th>\n",
       "      <th>in_reply_to_status_id</th>\n",
       "      <th>created_str_date</th>\n",
       "      <th>tweet_text_only</th>\n",
       "      <th>user_mentions</th>\n",
       "      <th>tweet_hashtags</th>\n",
       "    </tr>\n",
       "  </thead>\n",
       "  <tbody>\n",
       "    <tr>\n",
       "      <th>0</th>\n",
       "      <td>1.868981e+09</td>\n",
       "      <td>ryanmaxwell_1</td>\n",
       "      <td>1.458672e+12</td>\n",
       "      <td>2016-03-22 18:31:42</td>\n",
       "      <td>NaN</td>\n",
       "      <td>NaN</td>\n",
       "      <td>NaN</td>\n",
       "      <td>#IslamKills Are you trying to say that there w...</td>\n",
       "      <td>7.123460e+17</td>\n",
       "      <td>NaN</td>\n",
       "      <td>[\"IslamKills\"]</td>\n",
       "      <td>[]</td>\n",
       "      <td>POSTED</td>\n",
       "      <td>[]</td>\n",
       "      <td>NaN</td>\n",
       "      <td>NaN</td>\n",
       "      <td>2016-03-22</td>\n",
       "      <td>Are you trying to say that there were no terr...</td>\n",
       "      <td>[0]</td>\n",
       "      <td>[#IslamKills]</td>\n",
       "    </tr>\n",
       "    <tr>\n",
       "      <th>1</th>\n",
       "      <td>2.571870e+09</td>\n",
       "      <td>detroitdailynew</td>\n",
       "      <td>1.476133e+12</td>\n",
       "      <td>2016-10-10 20:57:00</td>\n",
       "      <td>0.0</td>\n",
       "      <td>False</td>\n",
       "      <td>0.0</td>\n",
       "      <td>Clinton: Trump should’ve apologized more, atta...</td>\n",
       "      <td>7.855849e+17</td>\n",
       "      <td>&lt;a href=\"http://twitterfeed.com\" rel=\"nofollow...</td>\n",
       "      <td>[]</td>\n",
       "      <td>[\"http://detne.ws/2e172jF\"]</td>\n",
       "      <td>POSTED</td>\n",
       "      <td>[]</td>\n",
       "      <td>NaN</td>\n",
       "      <td>NaN</td>\n",
       "      <td>2016-10-10</td>\n",
       "      <td>Clinton: Trump should’ve apologized more, atta...</td>\n",
       "      <td>[0]</td>\n",
       "      <td>[]</td>\n",
       "    </tr>\n",
       "    <tr>\n",
       "      <th>2</th>\n",
       "      <td>1.710805e+09</td>\n",
       "      <td>cookncooks</td>\n",
       "      <td>1.487767e+12</td>\n",
       "      <td>2017-02-22 12:43:43</td>\n",
       "      <td>NaN</td>\n",
       "      <td>NaN</td>\n",
       "      <td>NaN</td>\n",
       "      <td>RT @ltapoll: Who was/is the best president of ...</td>\n",
       "      <td>8.343832e+17</td>\n",
       "      <td>NaN</td>\n",
       "      <td>[]</td>\n",
       "      <td>[]</td>\n",
       "      <td>POSTED</td>\n",
       "      <td>[]</td>\n",
       "      <td>NaN</td>\n",
       "      <td>NaN</td>\n",
       "      <td>2017-02-22</td>\n",
       "      <td>Who was/is the best president of the past 25 y...</td>\n",
       "      <td>[@ltapoll:]</td>\n",
       "      <td>[]</td>\n",
       "    </tr>\n",
       "  </tbody>\n",
       "</table>\n",
       "</div>"
      ],
      "text/plain": [
       "        user_id         user_key    created_at         created_str  \\\n",
       "0  1.868981e+09    ryanmaxwell_1  1.458672e+12 2016-03-22 18:31:42   \n",
       "1  2.571870e+09  detroitdailynew  1.476133e+12 2016-10-10 20:57:00   \n",
       "2  1.710805e+09       cookncooks  1.487767e+12 2017-02-22 12:43:43   \n",
       "\n",
       "   retweet_count retweeted  favorite_count  \\\n",
       "0            NaN       NaN             NaN   \n",
       "1            0.0     False             0.0   \n",
       "2            NaN       NaN             NaN   \n",
       "\n",
       "                                                text      tweet_id  \\\n",
       "0  #IslamKills Are you trying to say that there w...  7.123460e+17   \n",
       "1  Clinton: Trump should’ve apologized more, atta...  7.855849e+17   \n",
       "2  RT @ltapoll: Who was/is the best president of ...  8.343832e+17   \n",
       "\n",
       "                                              source        hashtags  \\\n",
       "0                                                NaN  [\"IslamKills\"]   \n",
       "1  <a href=\"http://twitterfeed.com\" rel=\"nofollow...              []   \n",
       "2                                                NaN              []   \n",
       "\n",
       "                 expanded_urls  posted mentions  retweeted_status_id  \\\n",
       "0                           []  POSTED       []                  NaN   \n",
       "1  [\"http://detne.ws/2e172jF\"]  POSTED       []                  NaN   \n",
       "2                           []  POSTED       []                  NaN   \n",
       "\n",
       "   in_reply_to_status_id created_str_date  \\\n",
       "0                    NaN       2016-03-22   \n",
       "1                    NaN       2016-10-10   \n",
       "2                    NaN       2017-02-22   \n",
       "\n",
       "                                     tweet_text_only user_mentions  \\\n",
       "0   Are you trying to say that there were no terr...           [0]   \n",
       "1  Clinton: Trump should’ve apologized more, atta...           [0]   \n",
       "2  Who was/is the best president of the past 25 y...   [@ltapoll:]   \n",
       "\n",
       "  tweet_hashtags  \n",
       "0  [#IslamKills]  \n",
       "1             []  \n",
       "2             []  "
      ]
     },
     "execution_count": 103,
     "metadata": {},
     "output_type": "execute_result"
    }
   ],
   "source": [
    "df.head(3)"
   ]
  },
  {
   "cell_type": "code",
   "execution_count": 104,
   "id": "98dcb216",
   "metadata": {},
   "outputs": [
    {
     "data": {
      "image/png": "[encoded data removed]",
      "text/plain": [
       "<Figure size 864x432 with 2 Axes>"
      ]
     },
     "metadata": {
      "needs_background": "light"
     },
     "output_type": "display_data"
    }
   ],
   "source": [
    "# Finding the correlation among all the numerical columns by using heatmap.  \n",
    "\n",
    "plt.figure(figsize = (12, 6))\n",
    "sns.heatmap(df.corr(), annot = True, cmap = \"Reds\")\n",
    "plt.title(\"Correlation matrix     Fig.4\", size = 20)\n",
    "plt.show()"
   ]
  },
  {
   "cell_type": "markdown",
   "id": "a7352aee",
   "metadata": {},
   "source": [
    "# Summary \n",
    "\n",
    "    - At the time of US elections, there is a tweet spikes as per fig 3. It means more tweets were tweeted in the election   days to manipulate the elections. \n",
    "    \n",
    "    - There is a strong correlation between retweet count and favorite count, which means most of the rewteeted counts were liked."
   ]
  }
 ],
 "metadata": {
  "kernelspec": {
   "display_name": "Python 3",
   "language": "python",
   "name": "python3"
  },
  "language_info": {
   "codemirror_mode": {
    "name": "ipython",
    "version": 3
   },
   "file_extension": ".py",
   "mimetype": "text/x-python",
   "name": "python",
   "nbconvert_exporter": "python",
   "pygments_lexer": "ipython3",
   "version": "3.8.8"
  }
 },
 "nbformat": 4,
 "nbformat_minor": 5
}
