{
 "cells": [
  {
   "cell_type": "markdown",
   "id": "e984bd8b",
   "metadata": {},
   "source": [
    "# Job Market Analysis\n",
    "\n",
    "TODO List: \n",
    "\n",
    "    - Finding the missing values\n",
    "    - Finding unique values in each column\n",
    "    - Data cleaning\n",
    "    - Descripitive statistices on cleaned data\n",
    "    - Finding the correlations\n",
    "    - Bivariate Analysis\n",
    "    - Summary\n"
   ]
  },
  {
   "cell_type": "code",
   "execution_count": 1,
   "id": "93775b38",
   "metadata": {},
   "outputs": [],
   "source": [
    "import numpy as np\n",
    "import pandas as pd\n",
    "import matplotlib.pyplot as plt\n",
    "%matplotlib inline\n",
    "import seaborn as sns\n",
    "import warnings\n",
    "warnings.filterwarnings(\"ignore\")"
   ]
  },
  {
   "cell_type": "markdown",
   "id": "c4d29de8",
   "metadata": {},
   "source": [
    "## Data Preparation and Cleaning\n",
    "1) Load the file using Pandas\n",
    "\n",
    "2) Look at some information about the date and the columns\n",
    "\n",
    "3) Fix any missing or incorrect values"
   ]
  },
  {
   "cell_type": "code",
   "execution_count": 2,
   "id": "269655b2",
   "metadata": {
    "scrolled": true
   },
   "outputs": [
    {
     "data": {
      "text/html": [
       "<div>\n",
       "<style scoped>\n",
       "    .dataframe tbody tr th:only-of-type {\n",
       "        vertical-align: middle;\n",
       "    }\n",
       "\n",
       "    .dataframe tbody tr th {\n",
       "        vertical-align: top;\n",
       "    }\n",
       "\n",
       "    .dataframe thead th {\n",
       "        text-align: right;\n",
       "    }\n",
       "</style>\n",
       "<table border=\"1\" class=\"dataframe\">\n",
       "  <thead>\n",
       "    <tr style=\"text-align: right;\">\n",
       "      <th></th>\n",
       "      <th>company</th>\n",
       "      <th>education</th>\n",
       "      <th>experience</th>\n",
       "      <th>industry</th>\n",
       "      <th>jobdescription</th>\n",
       "      <th>jobid</th>\n",
       "      <th>joblocation_address</th>\n",
       "      <th>jobtitle</th>\n",
       "      <th>numberofpositions</th>\n",
       "      <th>payrate</th>\n",
       "      <th>postdate</th>\n",
       "      <th>site_name</th>\n",
       "      <th>skills</th>\n",
       "      <th>uniq_id</th>\n",
       "    </tr>\n",
       "  </thead>\n",
       "  <tbody>\n",
       "    <tr>\n",
       "      <th>0</th>\n",
       "      <td>MM Media Pvt Ltd</td>\n",
       "      <td>UG: B.Tech/B.E. - Any Specialization PG:Any Po...</td>\n",
       "      <td>0 - 1 yrs</td>\n",
       "      <td>Media / Entertainment / Internet</td>\n",
       "      <td>Job Description   Send me Jobs like this Quali...</td>\n",
       "      <td>210516002263</td>\n",
       "      <td>Chennai</td>\n",
       "      <td>Walkin Data Entry Operator (night Shift)</td>\n",
       "      <td>NaN</td>\n",
       "      <td>1,50,000 - 2,25,000 P.A</td>\n",
       "      <td>2016-05-21 19:30:00 +0000</td>\n",
       "      <td>NaN</td>\n",
       "      <td>ITES</td>\n",
       "      <td>43b19632647068535437c774b6ca6cf8</td>\n",
       "    </tr>\n",
       "    <tr>\n",
       "      <th>1</th>\n",
       "      <td>find live infotech</td>\n",
       "      <td>UG: B.Tech/B.E. - Any Specialization PG:MBA/PG...</td>\n",
       "      <td>0 - 0 yrs</td>\n",
       "      <td>Advertising / PR / MR / Event Management</td>\n",
       "      <td>Job Description   Send me Jobs like this Quali...</td>\n",
       "      <td>210516002391</td>\n",
       "      <td>Chennai</td>\n",
       "      <td>Work Based Onhome Based Part Time.</td>\n",
       "      <td>60.0</td>\n",
       "      <td>1,50,000 - 2,50,000 P.A. 20000</td>\n",
       "      <td>2016-05-21 19:30:00 +0000</td>\n",
       "      <td>NaN</td>\n",
       "      <td>Marketing</td>\n",
       "      <td>d4c72325e57f89f364812b5ed5a795f0</td>\n",
       "    </tr>\n",
       "    <tr>\n",
       "      <th>2</th>\n",
       "      <td>Softtech Career Infosystem Pvt. Ltd</td>\n",
       "      <td>UG: Any Graduate - Any Specialization PG:Any P...</td>\n",
       "      <td>4 - 8 yrs</td>\n",
       "      <td>IT-Software / Software Services</td>\n",
       "      <td>Job Description   Send me Jobs like this - as ...</td>\n",
       "      <td>101016900534</td>\n",
       "      <td>Bengaluru</td>\n",
       "      <td>Pl/sql Developer - SQL</td>\n",
       "      <td>NaN</td>\n",
       "      <td>Not Disclosed by Recruiter</td>\n",
       "      <td>2016-10-13 16:20:55 +0000</td>\n",
       "      <td>NaN</td>\n",
       "      <td>IT Software - Application Programming</td>\n",
       "      <td>c47df6f4cfdf5b46f1fd713ba61b9eba</td>\n",
       "    </tr>\n",
       "    <tr>\n",
       "      <th>3</th>\n",
       "      <td>Onboard HRServices LLP</td>\n",
       "      <td>UG: Any Graduate - Any Specialization PG:CA Do...</td>\n",
       "      <td>11 - 15 yrs</td>\n",
       "      <td>Banking / Financial Services / Broking</td>\n",
       "      <td>Job Description   Send me Jobs like this - Inv...</td>\n",
       "      <td>81016900536</td>\n",
       "      <td>Mumbai, Bengaluru, Kolkata, Chennai, Coimbator...</td>\n",
       "      <td>Manager/ad/partner - Indirect Tax - CA</td>\n",
       "      <td>NaN</td>\n",
       "      <td>Not Disclosed by Recruiter</td>\n",
       "      <td>2016-10-13 16:20:55 +0000</td>\n",
       "      <td>NaN</td>\n",
       "      <td>Accounts</td>\n",
       "      <td>115d28f140f694dd1cc61c53d03c66ae</td>\n",
       "    </tr>\n",
       "    <tr>\n",
       "      <th>4</th>\n",
       "      <td>Spire Technologies and Solutions Pvt. Ltd.</td>\n",
       "      <td>UG: B.Tech/B.E. - Any Specialization PG:Any Po...</td>\n",
       "      <td>6 - 8 yrs</td>\n",
       "      <td>IT-Software / Software Services</td>\n",
       "      <td>Job Description   Send me Jobs like this Pleas...</td>\n",
       "      <td>120916002122</td>\n",
       "      <td>Bengaluru</td>\n",
       "      <td>JAVA Technical Lead (6-8 yrs) -</td>\n",
       "      <td>4.0</td>\n",
       "      <td>Not Disclosed by Recruiter</td>\n",
       "      <td>2016-10-13 16:20:55 +0000</td>\n",
       "      <td>NaN</td>\n",
       "      <td>IT Software - Application Programming</td>\n",
       "      <td>a12553fc03bc7bcced8b1bb8963f97b4</td>\n",
       "    </tr>\n",
       "    <tr>\n",
       "      <th>...</th>\n",
       "      <td>...</td>\n",
       "      <td>...</td>\n",
       "      <td>...</td>\n",
       "      <td>...</td>\n",
       "      <td>...</td>\n",
       "      <td>...</td>\n",
       "      <td>...</td>\n",
       "      <td>...</td>\n",
       "      <td>...</td>\n",
       "      <td>...</td>\n",
       "      <td>...</td>\n",
       "      <td>...</td>\n",
       "      <td>...</td>\n",
       "      <td>...</td>\n",
       "    </tr>\n",
       "    <tr>\n",
       "      <th>21995</th>\n",
       "      <td>Morgan Stanley Advantage Services Pvt. Ltd.</td>\n",
       "      <td>UG: Any Graduate - Any Specialization</td>\n",
       "      <td>9 - 13 yrs</td>\n",
       "      <td>Banking / Financial Services / Broking</td>\n",
       "      <td>Job Description   Send me Jobs like this Greet...</td>\n",
       "      <td>241116007152</td>\n",
       "      <td>Bengaluru</td>\n",
       "      <td>Quality Assurance - VP with Morgan Stanley Ban...</td>\n",
       "      <td>2.0</td>\n",
       "      <td>Not Disclosed by Recruiter</td>\n",
       "      <td>2016-11-25 22:47:05 +0000</td>\n",
       "      <td>www.naukri.com</td>\n",
       "      <td>IT Software - QA &amp; Testing</td>\n",
       "      <td>ef40136e3b0c0abdab695d979a4b7153</td>\n",
       "    </tr>\n",
       "    <tr>\n",
       "      <th>21996</th>\n",
       "      <td>Careernet Technologies Pvt Ltd hiring for Client</td>\n",
       "      <td>UG: B.Tech/B.E. - Any Specialization PG:M.Tech...</td>\n",
       "      <td>3 - 5 yrs</td>\n",
       "      <td>IT-Software / Software Services</td>\n",
       "      <td>Job Description   Send me Jobs like this Looki...</td>\n",
       "      <td>241116001104</td>\n",
       "      <td>Bengaluru, Gurgaon</td>\n",
       "      <td>Java Backend Developers for a Product Company</td>\n",
       "      <td>NaN</td>\n",
       "      <td>8,50,000 - 14,00,000 P.A</td>\n",
       "      <td>2016-11-24 22:47:05 +0000</td>\n",
       "      <td>www.naukri.com</td>\n",
       "      <td>IT Software - Application Programming</td>\n",
       "      <td>acb80b7bb109fa76d22d1f11c6e16c6a</td>\n",
       "    </tr>\n",
       "    <tr>\n",
       "      <th>21997</th>\n",
       "      <td>Musk - Startup</td>\n",
       "      <td>UG: B.Tech/B.E. - Any Specialization PG:Any Po...</td>\n",
       "      <td>2 - 4 yrs</td>\n",
       "      <td>Internet / Ecommerce</td>\n",
       "      <td>Job Description   Send me Jobs like this Work ...</td>\n",
       "      <td>251116900644</td>\n",
       "      <td>Bengaluru</td>\n",
       "      <td>Full Stack Development Engineer</td>\n",
       "      <td>NaN</td>\n",
       "      <td>Not Disclosed by Recruiter</td>\n",
       "      <td>2016-11-25 22:47:05 +0000</td>\n",
       "      <td>www.naukri.com</td>\n",
       "      <td>IT Software - Application Programming</td>\n",
       "      <td>f6f2885a6c87572616fb766029a0d284</td>\n",
       "    </tr>\n",
       "    <tr>\n",
       "      <th>21998</th>\n",
       "      <td>Confidential</td>\n",
       "      <td>UG: B.Tech/B.E. - Any Specialization PG:MCA - ...</td>\n",
       "      <td>7 - 12 yrs</td>\n",
       "      <td>IT-Software / Software Services</td>\n",
       "      <td>Job Description   Send me Jobs like this We ar...</td>\n",
       "      <td>231116901329</td>\n",
       "      <td>Delhi NCR, Bengaluru</td>\n",
       "      <td>Sr UI Developer/ Technical Lead - Html/ CSS/ J...</td>\n",
       "      <td>NaN</td>\n",
       "      <td>Not Disclosed by Recruiter</td>\n",
       "      <td>2016-11-27 22:47:05 +0000</td>\n",
       "      <td>www.naukri.com</td>\n",
       "      <td>IT Software - Application Programming</td>\n",
       "      <td>c6f6538cb1007dd02c1b4b77909b3d38</td>\n",
       "    </tr>\n",
       "    <tr>\n",
       "      <th>21999</th>\n",
       "      <td>Cambio Consulting India Pvt Ltd</td>\n",
       "      <td>UG: B.Tech/B.E. - Any Specialization PG:MCA - ...</td>\n",
       "      <td>5 - 10 yrs</td>\n",
       "      <td>IT-Software / Software Services</td>\n",
       "      <td>Job Description   Send me Jobs like this Job d...</td>\n",
       "      <td>251116003840</td>\n",
       "      <td>Bengaluru</td>\n",
       "      <td>RF Firmware Engineers</td>\n",
       "      <td>NaN</td>\n",
       "      <td>12,00,000 - 22,00,000 P.A</td>\n",
       "      <td>2016-11-25 22:47:05 +0000</td>\n",
       "      <td>www.naukri.com</td>\n",
       "      <td>IT Software - System Programming</td>\n",
       "      <td>74fec26df6e1c0be0171311a2f03f180</td>\n",
       "    </tr>\n",
       "  </tbody>\n",
       "</table>\n",
       "<p>22000 rows × 14 columns</p>\n",
       "</div>"
      ],
      "text/plain": [
       "                                                company  \\\n",
       "0                                      MM Media Pvt Ltd   \n",
       "1                                    find live infotech   \n",
       "2                   Softtech Career Infosystem Pvt. Ltd   \n",
       "3                                Onboard HRServices LLP   \n",
       "4            Spire Technologies and Solutions Pvt. Ltd.   \n",
       "...                                                 ...   \n",
       "21995       Morgan Stanley Advantage Services Pvt. Ltd.   \n",
       "21996  Careernet Technologies Pvt Ltd hiring for Client   \n",
       "21997                                    Musk - Startup   \n",
       "21998                                      Confidential   \n",
       "21999                   Cambio Consulting India Pvt Ltd   \n",
       "\n",
       "                                               education   experience  \\\n",
       "0      UG: B.Tech/B.E. - Any Specialization PG:Any Po...    0 - 1 yrs   \n",
       "1      UG: B.Tech/B.E. - Any Specialization PG:MBA/PG...    0 - 0 yrs   \n",
       "2      UG: Any Graduate - Any Specialization PG:Any P...    4 - 8 yrs   \n",
       "3      UG: Any Graduate - Any Specialization PG:CA Do...  11 - 15 yrs   \n",
       "4      UG: B.Tech/B.E. - Any Specialization PG:Any Po...    6 - 8 yrs   \n",
       "...                                                  ...          ...   \n",
       "21995              UG: Any Graduate - Any Specialization   9 - 13 yrs   \n",
       "21996  UG: B.Tech/B.E. - Any Specialization PG:M.Tech...    3 - 5 yrs   \n",
       "21997  UG: B.Tech/B.E. - Any Specialization PG:Any Po...    2 - 4 yrs   \n",
       "21998  UG: B.Tech/B.E. - Any Specialization PG:MCA - ...   7 - 12 yrs   \n",
       "21999  UG: B.Tech/B.E. - Any Specialization PG:MCA - ...   5 - 10 yrs   \n",
       "\n",
       "                                       industry  \\\n",
       "0              Media / Entertainment / Internet   \n",
       "1      Advertising / PR / MR / Event Management   \n",
       "2               IT-Software / Software Services   \n",
       "3        Banking / Financial Services / Broking   \n",
       "4               IT-Software / Software Services   \n",
       "...                                         ...   \n",
       "21995    Banking / Financial Services / Broking   \n",
       "21996           IT-Software / Software Services   \n",
       "21997                      Internet / Ecommerce   \n",
       "21998           IT-Software / Software Services   \n",
       "21999           IT-Software / Software Services   \n",
       "\n",
       "                                          jobdescription         jobid  \\\n",
       "0      Job Description   Send me Jobs like this Quali...  210516002263   \n",
       "1      Job Description   Send me Jobs like this Quali...  210516002391   \n",
       "2      Job Description   Send me Jobs like this - as ...  101016900534   \n",
       "3      Job Description   Send me Jobs like this - Inv...   81016900536   \n",
       "4      Job Description   Send me Jobs like this Pleas...  120916002122   \n",
       "...                                                  ...           ...   \n",
       "21995  Job Description   Send me Jobs like this Greet...  241116007152   \n",
       "21996  Job Description   Send me Jobs like this Looki...  241116001104   \n",
       "21997  Job Description   Send me Jobs like this Work ...  251116900644   \n",
       "21998  Job Description   Send me Jobs like this We ar...  231116901329   \n",
       "21999  Job Description   Send me Jobs like this Job d...  251116003840   \n",
       "\n",
       "                                     joblocation_address  \\\n",
       "0                                                Chennai   \n",
       "1                                                Chennai   \n",
       "2                                              Bengaluru   \n",
       "3      Mumbai, Bengaluru, Kolkata, Chennai, Coimbator...   \n",
       "4                                              Bengaluru   \n",
       "...                                                  ...   \n",
       "21995                                          Bengaluru   \n",
       "21996                                 Bengaluru, Gurgaon   \n",
       "21997                                          Bengaluru   \n",
       "21998                               Delhi NCR, Bengaluru   \n",
       "21999                                          Bengaluru   \n",
       "\n",
       "                                                jobtitle  numberofpositions  \\\n",
       "0               Walkin Data Entry Operator (night Shift)                NaN   \n",
       "1                     Work Based Onhome Based Part Time.               60.0   \n",
       "2                                 Pl/sql Developer - SQL                NaN   \n",
       "3                 Manager/ad/partner - Indirect Tax - CA                NaN   \n",
       "4                        JAVA Technical Lead (6-8 yrs) -                4.0   \n",
       "...                                                  ...                ...   \n",
       "21995  Quality Assurance - VP with Morgan Stanley Ban...                2.0   \n",
       "21996      Java Backend Developers for a Product Company                NaN   \n",
       "21997                    Full Stack Development Engineer                NaN   \n",
       "21998  Sr UI Developer/ Technical Lead - Html/ CSS/ J...                NaN   \n",
       "21999                              RF Firmware Engineers                NaN   \n",
       "\n",
       "                              payrate                   postdate  \\\n",
       "0             1,50,000 - 2,25,000 P.A  2016-05-21 19:30:00 +0000   \n",
       "1      1,50,000 - 2,50,000 P.A. 20000  2016-05-21 19:30:00 +0000   \n",
       "2          Not Disclosed by Recruiter  2016-10-13 16:20:55 +0000   \n",
       "3          Not Disclosed by Recruiter  2016-10-13 16:20:55 +0000   \n",
       "4          Not Disclosed by Recruiter  2016-10-13 16:20:55 +0000   \n",
       "...                               ...                        ...   \n",
       "21995      Not Disclosed by Recruiter  2016-11-25 22:47:05 +0000   \n",
       "21996        8,50,000 - 14,00,000 P.A  2016-11-24 22:47:05 +0000   \n",
       "21997      Not Disclosed by Recruiter  2016-11-25 22:47:05 +0000   \n",
       "21998      Not Disclosed by Recruiter  2016-11-27 22:47:05 +0000   \n",
       "21999       12,00,000 - 22,00,000 P.A  2016-11-25 22:47:05 +0000   \n",
       "\n",
       "            site_name                                 skills  \\\n",
       "0                 NaN                                   ITES   \n",
       "1                 NaN                              Marketing   \n",
       "2                 NaN  IT Software - Application Programming   \n",
       "3                 NaN                               Accounts   \n",
       "4                 NaN  IT Software - Application Programming   \n",
       "...               ...                                    ...   \n",
       "21995  www.naukri.com             IT Software - QA & Testing   \n",
       "21996  www.naukri.com  IT Software - Application Programming   \n",
       "21997  www.naukri.com  IT Software - Application Programming   \n",
       "21998  www.naukri.com  IT Software - Application Programming   \n",
       "21999  www.naukri.com       IT Software - System Programming   \n",
       "\n",
       "                                uniq_id  \n",
       "0      43b19632647068535437c774b6ca6cf8  \n",
       "1      d4c72325e57f89f364812b5ed5a795f0  \n",
       "2      c47df6f4cfdf5b46f1fd713ba61b9eba  \n",
       "3      115d28f140f694dd1cc61c53d03c66ae  \n",
       "4      a12553fc03bc7bcced8b1bb8963f97b4  \n",
       "...                                 ...  \n",
       "21995  ef40136e3b0c0abdab695d979a4b7153  \n",
       "21996  acb80b7bb109fa76d22d1f11c6e16c6a  \n",
       "21997  f6f2885a6c87572616fb766029a0d284  \n",
       "21998  c6f6538cb1007dd02c1b4b77909b3d38  \n",
       "21999  74fec26df6e1c0be0171311a2f03f180  \n",
       "\n",
       "[22000 rows x 14 columns]"
      ]
     },
     "execution_count": 2,
     "metadata": {},
     "output_type": "execute_result"
    }
   ],
   "source": [
    "df = pd.read_csv(\"naukri_com-job_sample.csv\")\n",
    "df"
   ]
  },
  {
   "cell_type": "code",
   "execution_count": 3,
   "id": "e73b0339",
   "metadata": {},
   "outputs": [
    {
     "data": {
      "text/plain": [
       "Index(['company', 'education', 'experience', 'industry', 'jobdescription',\n",
       "       'jobid', 'joblocation_address', 'jobtitle', 'numberofpositions',\n",
       "       'payrate', 'postdate', 'site_name', 'skills', 'uniq_id'],\n",
       "      dtype='object')"
      ]
     },
     "execution_count": 3,
     "metadata": {},
     "output_type": "execute_result"
    }
   ],
   "source": [
    "df.columns"
   ]
  },
  {
   "cell_type": "code",
   "execution_count": 4,
   "id": "2f085331",
   "metadata": {},
   "outputs": [
    {
     "data": {
      "text/plain": [
       "(22000, 14)"
      ]
     },
     "execution_count": 4,
     "metadata": {},
     "output_type": "execute_result"
    }
   ],
   "source": [
    "df.shape"
   ]
  },
  {
   "cell_type": "code",
   "execution_count": 5,
   "id": "3f49e4e3",
   "metadata": {
    "scrolled": true
   },
   "outputs": [
    {
     "data": {
      "text/plain": [
       "company                    4\n",
       "education               1996\n",
       "experience                 4\n",
       "industry                   5\n",
       "jobdescription             4\n",
       "jobid                      0\n",
       "joblocation_address      501\n",
       "jobtitle                   0\n",
       "numberofpositions      17536\n",
       "payrate                   97\n",
       "postdate                  23\n",
       "site_name              18013\n",
       "skills                   528\n",
       "uniq_id                    0\n",
       "dtype: int64"
      ]
     },
     "execution_count": 5,
     "metadata": {},
     "output_type": "execute_result"
    }
   ],
   "source": [
    "count_missing = df.isnull().sum()\n",
    "count_missing"
   ]
  },
  {
   "cell_type": "code",
   "execution_count": 6,
   "id": "e023c928",
   "metadata": {},
   "outputs": [
    {
     "data": {
      "text/plain": [
       "company                 0.018182\n",
       "education               9.072727\n",
       "experience              0.018182\n",
       "industry                0.022727\n",
       "jobdescription          0.018182\n",
       "jobid                   0.000000\n",
       "joblocation_address     2.277273\n",
       "jobtitle                0.000000\n",
       "numberofpositions      79.709091\n",
       "payrate                 0.440909\n",
       "postdate                0.104545\n",
       "site_name              81.877273\n",
       "skills                  2.400000\n",
       "uniq_id                 0.000000\n",
       "dtype: float64"
      ]
     },
     "execution_count": 6,
     "metadata": {},
     "output_type": "execute_result"
    }
   ],
   "source": [
    "percent_missing = count_missing * 100/len(df)\n",
    "percent_missing"
   ]
  },
  {
   "cell_type": "code",
   "execution_count": 7,
   "id": "c07791e7",
   "metadata": {},
   "outputs": [
    {
     "data": {
      "text/html": [
       "<style  type=\"text/css\" >\n",
       "#T_ffb2c_row0_col0,#T_ffb2c_row0_col1,#T_ffb2c_row2_col0,#T_ffb2c_row2_col1,#T_ffb2c_row3_col0,#T_ffb2c_row3_col1,#T_ffb2c_row4_col0,#T_ffb2c_row4_col1,#T_ffb2c_row5_col0,#T_ffb2c_row5_col1,#T_ffb2c_row7_col0,#T_ffb2c_row7_col1,#T_ffb2c_row10_col0,#T_ffb2c_row10_col1,#T_ffb2c_row13_col0,#T_ffb2c_row13_col1{\n",
       "            background-color:  #9e0142;\n",
       "            color:  #f1f1f1;\n",
       "        }#T_ffb2c_row1_col0,#T_ffb2c_row1_col1{\n",
       "            background-color:  #d8434e;\n",
       "            color:  #f1f1f1;\n",
       "        }#T_ffb2c_row6_col0,#T_ffb2c_row6_col1,#T_ffb2c_row12_col0,#T_ffb2c_row12_col1{\n",
       "            background-color:  #ad1246;\n",
       "            color:  #f1f1f1;\n",
       "        }#T_ffb2c_row8_col0,#T_ffb2c_row8_col1{\n",
       "            background-color:  #545ca8;\n",
       "            color:  #f1f1f1;\n",
       "        }#T_ffb2c_row9_col0,#T_ffb2c_row9_col1{\n",
       "            background-color:  #a00343;\n",
       "            color:  #f1f1f1;\n",
       "        }#T_ffb2c_row11_col0,#T_ffb2c_row11_col1{\n",
       "            background-color:  #5e4fa2;\n",
       "            color:  #f1f1f1;\n",
       "        }</style><table id=\"T_ffb2c_\" ><thead>    <tr>        <th class=\"blank level0\" ></th>        <th class=\"col_heading level0 col0\" >count_missing</th>        <th class=\"col_heading level0 col1\" >percent_missing</th>    </tr></thead><tbody>\n",
       "                <tr>\n",
       "                        <th id=\"T_ffb2c_level0_row0\" class=\"row_heading level0 row0\" >company</th>\n",
       "                        <td id=\"T_ffb2c_row0_col0\" class=\"data row0 col0\" >4</td>\n",
       "                        <td id=\"T_ffb2c_row0_col1\" class=\"data row0 col1\" >0.018182</td>\n",
       "            </tr>\n",
       "            <tr>\n",
       "                        <th id=\"T_ffb2c_level0_row1\" class=\"row_heading level0 row1\" >education</th>\n",
       "                        <td id=\"T_ffb2c_row1_col0\" class=\"data row1 col0\" >1996</td>\n",
       "                        <td id=\"T_ffb2c_row1_col1\" class=\"data row1 col1\" >9.072727</td>\n",
       "            </tr>\n",
       "            <tr>\n",
       "                        <th id=\"T_ffb2c_level0_row2\" class=\"row_heading level0 row2\" >experience</th>\n",
       "                        <td id=\"T_ffb2c_row2_col0\" class=\"data row2 col0\" >4</td>\n",
       "                        <td id=\"T_ffb2c_row2_col1\" class=\"data row2 col1\" >0.018182</td>\n",
       "            </tr>\n",
       "            <tr>\n",
       "                        <th id=\"T_ffb2c_level0_row3\" class=\"row_heading level0 row3\" >industry</th>\n",
       "                        <td id=\"T_ffb2c_row3_col0\" class=\"data row3 col0\" >5</td>\n",
       "                        <td id=\"T_ffb2c_row3_col1\" class=\"data row3 col1\" >0.022727</td>\n",
       "            </tr>\n",
       "            <tr>\n",
       "                        <th id=\"T_ffb2c_level0_row4\" class=\"row_heading level0 row4\" >jobdescription</th>\n",
       "                        <td id=\"T_ffb2c_row4_col0\" class=\"data row4 col0\" >4</td>\n",
       "                        <td id=\"T_ffb2c_row4_col1\" class=\"data row4 col1\" >0.018182</td>\n",
       "            </tr>\n",
       "            <tr>\n",
       "                        <th id=\"T_ffb2c_level0_row5\" class=\"row_heading level0 row5\" >jobid</th>\n",
       "                        <td id=\"T_ffb2c_row5_col0\" class=\"data row5 col0\" >0</td>\n",
       "                        <td id=\"T_ffb2c_row5_col1\" class=\"data row5 col1\" >0.000000</td>\n",
       "            </tr>\n",
       "            <tr>\n",
       "                        <th id=\"T_ffb2c_level0_row6\" class=\"row_heading level0 row6\" >joblocation_address</th>\n",
       "                        <td id=\"T_ffb2c_row6_col0\" class=\"data row6 col0\" >501</td>\n",
       "                        <td id=\"T_ffb2c_row6_col1\" class=\"data row6 col1\" >2.277273</td>\n",
       "            </tr>\n",
       "            <tr>\n",
       "                        <th id=\"T_ffb2c_level0_row7\" class=\"row_heading level0 row7\" >jobtitle</th>\n",
       "                        <td id=\"T_ffb2c_row7_col0\" class=\"data row7 col0\" >0</td>\n",
       "                        <td id=\"T_ffb2c_row7_col1\" class=\"data row7 col1\" >0.000000</td>\n",
       "            </tr>\n",
       "            <tr>\n",
       "                        <th id=\"T_ffb2c_level0_row8\" class=\"row_heading level0 row8\" >numberofpositions</th>\n",
       "                        <td id=\"T_ffb2c_row8_col0\" class=\"data row8 col0\" >17536</td>\n",
       "                        <td id=\"T_ffb2c_row8_col1\" class=\"data row8 col1\" >79.709091</td>\n",
       "            </tr>\n",
       "            <tr>\n",
       "                        <th id=\"T_ffb2c_level0_row9\" class=\"row_heading level0 row9\" >payrate</th>\n",
       "                        <td id=\"T_ffb2c_row9_col0\" class=\"data row9 col0\" >97</td>\n",
       "                        <td id=\"T_ffb2c_row9_col1\" class=\"data row9 col1\" >0.440909</td>\n",
       "            </tr>\n",
       "            <tr>\n",
       "                        <th id=\"T_ffb2c_level0_row10\" class=\"row_heading level0 row10\" >postdate</th>\n",
       "                        <td id=\"T_ffb2c_row10_col0\" class=\"data row10 col0\" >23</td>\n",
       "                        <td id=\"T_ffb2c_row10_col1\" class=\"data row10 col1\" >0.104545</td>\n",
       "            </tr>\n",
       "            <tr>\n",
       "                        <th id=\"T_ffb2c_level0_row11\" class=\"row_heading level0 row11\" >site_name</th>\n",
       "                        <td id=\"T_ffb2c_row11_col0\" class=\"data row11 col0\" >18013</td>\n",
       "                        <td id=\"T_ffb2c_row11_col1\" class=\"data row11 col1\" >81.877273</td>\n",
       "            </tr>\n",
       "            <tr>\n",
       "                        <th id=\"T_ffb2c_level0_row12\" class=\"row_heading level0 row12\" >skills</th>\n",
       "                        <td id=\"T_ffb2c_row12_col0\" class=\"data row12 col0\" >528</td>\n",
       "                        <td id=\"T_ffb2c_row12_col1\" class=\"data row12 col1\" >2.400000</td>\n",
       "            </tr>\n",
       "            <tr>\n",
       "                        <th id=\"T_ffb2c_level0_row13\" class=\"row_heading level0 row13\" >uniq_id</th>\n",
       "                        <td id=\"T_ffb2c_row13_col0\" class=\"data row13 col0\" >0</td>\n",
       "                        <td id=\"T_ffb2c_row13_col1\" class=\"data row13 col1\" >0.000000</td>\n",
       "            </tr>\n",
       "    </tbody></table>"
      ],
      "text/plain": [
       "<pandas.io.formats.style.Styler at 0x14f33adac40>"
      ]
     },
     "execution_count": 7,
     "metadata": {},
     "output_type": "execute_result"
    }
   ],
   "source": [
    "missing_value_df = pd.DataFrame({'count_missing' : count_missing, 'percent_missing' : percent_missing})\n",
    "\n",
    "missing_value_df.style.background_gradient(cmap = 'Spectral')"
   ]
  },
  {
   "cell_type": "code",
   "execution_count": 8,
   "id": "1c287b8b",
   "metadata": {},
   "outputs": [
    {
     "name": "stdout",
     "output_type": "stream",
     "text": [
      "company has 8469 values\n",
      "education has 2355 values\n",
      "experience has 147 values\n",
      "industry has 63 values\n",
      "jobdescription has 21063 values\n",
      "jobid has 21910 values\n",
      "joblocation_address has 2329 values\n",
      "jobtitle has 17564 values\n",
      "numberofpositions has 84 values\n",
      "payrate has 1848 values\n",
      "postdate has 4203 values\n",
      "site_name has 1 values\n",
      "skills has 45 values\n",
      "uniq_id has 22000 values\n"
     ]
    }
   ],
   "source": [
    "# Finding the total number of unique values in each column\n",
    "\n",
    "for col in df.columns:\n",
    "    print(\"{} has {} values\".format(col, df[col].nunique()))"
   ]
  },
  {
   "cell_type": "code",
   "execution_count": 9,
   "id": "3b552b71",
   "metadata": {},
   "outputs": [],
   "source": [
    "# Unique values in each column\n",
    "\n",
    "unique_df = [[col,df[col].nunique(), df[col].unique()] for col in df.columns]"
   ]
  },
  {
   "cell_type": "code",
   "execution_count": 10,
   "id": "edc712ef",
   "metadata": {},
   "outputs": [],
   "source": [
    "count_df = pd.DataFrame(unique_df, columns = ['col_name', 'count', 'unique'])"
   ]
  },
  {
   "cell_type": "code",
   "execution_count": 11,
   "id": "e38c94b9",
   "metadata": {},
   "outputs": [
    {
     "data": {
      "text/html": [
       "<style  type=\"text/css\" >\n",
       "#T_62076_row0_col1{\n",
       "            background-color:  #fed884;\n",
       "            color:  #000000;\n",
       "        }#T_62076_row1_col1,#T_62076_row6_col1{\n",
       "            background-color:  #d7414e;\n",
       "            color:  #f1f1f1;\n",
       "        }#T_62076_row2_col1{\n",
       "            background-color:  #a00343;\n",
       "            color:  #f1f1f1;\n",
       "        }#T_62076_row3_col1,#T_62076_row8_col1,#T_62076_row11_col1,#T_62076_row12_col1{\n",
       "            background-color:  #9e0142;\n",
       "            color:  #f1f1f1;\n",
       "        }#T_62076_row4_col1{\n",
       "            background-color:  #4d65ad;\n",
       "            color:  #f1f1f1;\n",
       "        }#T_62076_row5_col1{\n",
       "            background-color:  #5c51a3;\n",
       "            color:  #f1f1f1;\n",
       "        }#T_62076_row7_col1{\n",
       "            background-color:  #66c2a5;\n",
       "            color:  #000000;\n",
       "        }#T_62076_row9_col1{\n",
       "            background-color:  #cb334d;\n",
       "            color:  #f1f1f1;\n",
       "        }#T_62076_row10_col1{\n",
       "            background-color:  #f06744;\n",
       "            color:  #000000;\n",
       "        }#T_62076_row13_col1{\n",
       "            background-color:  #5e4fa2;\n",
       "            color:  #f1f1f1;\n",
       "        }</style><table id=\"T_62076_\" ><thead>    <tr>        <th class=\"blank level0\" ></th>        <th class=\"col_heading level0 col0\" >col_name</th>        <th class=\"col_heading level0 col1\" >count</th>        <th class=\"col_heading level0 col2\" >unique</th>    </tr></thead><tbody>\n",
       "                <tr>\n",
       "                        <th id=\"T_62076_level0_row0\" class=\"row_heading level0 row0\" >0</th>\n",
       "                        <td id=\"T_62076_row0_col0\" class=\"data row0 col0\" >company</td>\n",
       "                        <td id=\"T_62076_row0_col1\" class=\"data row0 col1\" >8469</td>\n",
       "                        <td id=\"T_62076_row0_col2\" class=\"data row0 col2\" >['MM Media Pvt Ltd' 'find live infotech'\n",
       " 'Softtech Career Infosystem Pvt. Ltd' ...\n",
       " 'TeamLease Services Limited hiring for BPA Solution Architect'\n",
       " 'Austere Technology Solutions' 'Musk - Startup']</td>\n",
       "            </tr>\n",
       "            <tr>\n",
       "                        <th id=\"T_62076_level0_row1\" class=\"row_heading level0 row1\" >1</th>\n",
       "                        <td id=\"T_62076_row1_col0\" class=\"data row1 col0\" >education</td>\n",
       "                        <td id=\"T_62076_row1_col1\" class=\"data row1 col1\" >2355</td>\n",
       "                        <td id=\"T_62076_row1_col2\" class=\"data row1 col2\" >['UG: B.Tech/B.E. - Any Specialization PG:Any Postgraduate - Any Specialization, Post Graduation Not Required'\n",
       " 'UG: B.Tech/B.E. - Any Specialization PG:MBA/PGDM - Any Specialization'\n",
       " 'UG: Any Graduate - Any Specialization PG:Any Postgraduate Doctorate:Doctorate Not Required'\n",
       " ... 'PG:MS/M.Sc(Science) - Any Specialization, Statistics'\n",
       " 'UG: B.Tech/B.E. - Any Specialization PG:MCA - Computers, M.Tech - Any Specialization, MS/M.Sc(Science) - Any Specialization Doctorate:Doctorate Not Required'\n",
       " 'UG: B.Tech/B.E. - Computers PG:MS/M.Sc(Science) - Computers Doctorate:Doctorate Not Required']</td>\n",
       "            </tr>\n",
       "            <tr>\n",
       "                        <th id=\"T_62076_level0_row2\" class=\"row_heading level0 row2\" >2</th>\n",
       "                        <td id=\"T_62076_row2_col0\" class=\"data row2 col0\" >experience</td>\n",
       "                        <td id=\"T_62076_row2_col1\" class=\"data row2 col1\" >147</td>\n",
       "                        <td id=\"T_62076_row2_col2\" class=\"data row2 col2\" >['0 - 1 yrs' '0 - 0 yrs' '4 - 8 yrs' '11 - 15 yrs' '6 - 8 yrs' '2 - 5 yrs'\n",
       " '1 - 3 yrs' '2 - 7 yrs' '1 - 5 yrs' '2 - 4 yrs' '3 - 8 yrs' '5 - 7 yrs'\n",
       " '1 - 2 yrs' '5 - 10 yrs' '6 - 10 yrs' '10 - 12 yrs' '4 - 6 yrs'\n",
       " '1 - 6 yrs' '3 - 6 yrs' '3 - 7 yrs' '4 - 9 yrs' '3 - 5 yrs' '0 - 5 yrs'\n",
       " '5 - 8 yrs' '9 - 12 yrs' '7 - 12 yrs' '10 - 15 yrs' '4 - 7 yrs'\n",
       " '8 - 12 yrs' '10 - 16 yrs' '5 - 9 yrs' '0 - 4 yrs' '10 - 20 yrs'\n",
       " '10 - 18 yrs' '0 - 2 yrs' '7 - 10 yrs' '6 - 11 yrs' '2 - 3 yrs'\n",
       " '1 - 4 yrs' '7 - 9 yrs' '8 - 13 yrs' '2 - 6 yrs' '8 - 10 yrs' '0 - 3 yrs'\n",
       " '6 - 9 yrs' '15 - 20 yrs' '12 - 16 yrs' '1 - 1 yrs' '3 - 4 yrs'\n",
       " '17 - 20 yrs' '10 - 17 yrs' '9 - 14 yrs' '13 - 15 yrs' '17 - 23 yrs'\n",
       " '15 - 25 yrs' '14 - 22 yrs' '4 - 5 yrs' '7 - 11 yrs' '16 - 24 yrs'\n",
       " '14 - 18 yrs' '12 - 15 yrs' '7 - 8 yrs' '5 - 6 yrs' '12 - 19 yrs'\n",
       " '20 - 25 yrs' '10 - 13 yrs' '12 - 18 yrs' '6 - 7 yrs' '10 - 14 yrs'\n",
       " '12 - 20 yrs' 'Not Mentioned' '11 - 16 yrs' '15 - 17 yrs' '20 - 30 yrs'\n",
       " '15 - 21 yrs' '8 - 11 yrs' '8 - 9 yrs' '9 - 13 yrs' '15 - 22 yrs'\n",
       " '14 - 19 yrs' '13 - 19 yrs' '15 - 16 yrs' '14 - 20 yrs' '11 - 12 yrs'\n",
       " '1 - 8 yrs' '9 - 11 yrs' '15 - 18 yrs' '4 - 10 yrs' '10 - 11 yrs'\n",
       " '12 - 22 yrs' '7 - 16 yrs' '16 - 18 yrs' '13 - 17 yrs' '13 - 20 yrs'\n",
       " '5 - 5 yrs' '1 - 10 yrs' '12 - 14 yrs' '5 - 15 yrs' '11 - 17 yrs' nan\n",
       " '16 - 20 yrs' '13 - 23 yrs' '3 - 3 yrs' '18 - 20 yrs' '23 - 30 yrs'\n",
       " '14 - 24 yrs' '18 - 28 yrs' '11 - 21 yrs' '15 - 19 yrs' '18 - 22 yrs'\n",
       " '6 - 12 yrs' '14 - 17 yrs' '12 - 17 yrs' '13 - 18 yrs' '25 - 30 yrs'\n",
       " '11 - 14 yrs' '2 - 8 yrs' '2 - 10 yrs' '4 - 11 yrs' '11 - 13 yrs'\n",
       " '14 - 16 yrs' '2 - 2 yrs' '10 - 19 yrs' '14 - 15 yrs' '2 - 9 yrs'\n",
       " '13 - 16 yrs' '7 - 7 yrs' '9 - 10 yrs' '11 - 20 yrs' '12 - 13 yrs'\n",
       " '15 - 24 yrs' '3 - -1 yrs' '10 - 10 yrs' '26 - 30 yrs' '7 - 14 yrs'\n",
       " '11 - 19 yrs' '16 - 25 yrs' '11 - 18 yrs' '18 - 25 yrs' '17 - 25 yrs'\n",
       " '18 - 21 yrs' '18 - 23 yrs' '20 - 24 yrs' '20 - 23 yrs' '3 - 10 yrs'\n",
       " '17 - 27 yrs' '16 - 26 yrs' '13 - 22 yrs']</td>\n",
       "            </tr>\n",
       "            <tr>\n",
       "                        <th id=\"T_62076_level0_row3\" class=\"row_heading level0 row3\" >3</th>\n",
       "                        <td id=\"T_62076_row3_col0\" class=\"data row3 col0\" >industry</td>\n",
       "                        <td id=\"T_62076_row3_col1\" class=\"data row3 col1\" >63</td>\n",
       "                        <td id=\"T_62076_row3_col2\" class=\"data row3 col2\" >['Media / Entertainment / Internet'\n",
       " 'Advertising / PR / MR / Event Management'\n",
       " 'IT-Software / Software Services'\n",
       " 'Banking / Financial Services / Broking' 'Aviation / Aerospace Firms'\n",
       " 'Industrial Products / Heavy Machinery' 'FMCG / Foods / Beverage'\n",
       " 'Recruitment / Staffing' 'Internet / Ecommerce'\n",
       " 'Travel / Hotels / Restaurants / Airlines / Railways'\n",
       " 'BPO / Call Centre / ITES' 'Pharma / Biotech / Clinical Research'\n",
       " 'Real Estate / Property' 'Insurance' 'Facility Management' 'Publishing'\n",
       " 'Education / Teaching / Training' 'Retail / Wholesale'\n",
       " 'Automobile / Auto Anciliary / Auto Components'\n",
       " 'Chemicals / PetroChemical / Plastic / Rubber' 'Government / Defence'\n",
       " 'Accounting / Finance' 'Textiles / Garments / Accessories'\n",
       " 'Semiconductors / Electronics' 'Telecom/ISP'\n",
       " 'Medical / Healthcare / Hospitals' 'Legal'\n",
       " 'Courier / Transportation / Freight / Warehousing'\n",
       " 'NGO / Social Services / Regulators / Industry Associations' 'Other'\n",
       " 'Architecture / Interior Design' 'KPO / Research / Analytics'\n",
       " 'Construction / Engineering / Cement / Metals'\n",
       " 'Office Equipment / Automation'\n",
       " 'Consumer Electronics / Appliances / Durables' 'Iron and Steel'\n",
       " 'Strategy / Management Consulting Firms'\n",
       " 'Oil and Gas / Energy / Power / Infrastructure'\n",
       " 'IT-Hardware & Networking' 'Wellness / Fitness / Sports / Beauty'\n",
       " 'Agriculture / Dairy' 'Electricals / Switchgears'\n",
       " 'Security / Law Enforcement' 'Gems / Jewellery'\n",
       " 'Ceramics / Sanitary ware' 'Fresher / Trainee / Entry Level'\n",
       " 'Food Processing' 'Printing / Packaging' 'Brewery / Distillery'\n",
       " 'Telecom/ISP /' 'Export / Import' 'Heat Ventilation / Air Conditioning'\n",
       " 'Wellness / Fitness / Sports' 'Water Treatment / Waste Management' nan\n",
       " 'Shipping / Marine' 'Glass / Glassware' 'Animation / Gaming'\n",
       " 'Fertilizers / Pesticides' 'Pulp and Paper' 'Tyres' 'Leather'\n",
       " 'Broadcasting' 'Medical Devices / Equipments']</td>\n",
       "            </tr>\n",
       "            <tr>\n",
       "                        <th id=\"T_62076_level0_row4\" class=\"row_heading level0 row4\" >4</th>\n",
       "                        <td id=\"T_62076_row4_col0\" class=\"data row4 col0\" >jobdescription</td>\n",
       "                        <td id=\"T_62076_row4_col1\" class=\"data row4 col1\" >21063</td>\n",
       "                        <td id=\"T_62076_row4_col2\" class=\"data row4 col2\" >['Job Description \\xa0 Send me Jobs like this Qualifications: - == > 10th To Graduation & Any Skill: - == > Basic Computer Knowledge Job Requirement : - == > System or Laptop Type of job: - == > Full Time or Part time Languages : - == > Tamil & English. Experience : - == > Freshers & Experience payment details: - 1 form per day 5/- 10 form per day 50/- 100 form per day 500/- monthly you can earn 15000/- per month Selection Process: - == > Easy Selection Process,So What Are You Waiting For? Apply Now & Grab Best Opportunity To Make Your Carrier & To Improve Your Earing Skills. More detail contact Mr Hari 8678902528 9003010282 Salary:INR 1,50,000 - 2,25,000 P.A Industry: Media / Entertainment / Internet Functional Area: ITES , BPO , KPO , LPO , Customer Service , Operations Role Category:Other Role:Fresher Keyskills English Typing Part Time Data Entry Selection Process Desired Candidate Profile Education- UG: B.Tech/B.E. - Any Specialization PG:Any Postgraduate - Any Specialization, Post Graduation Not Required Please refer to the Job description above Company Profile: MM Media Pvt Ltd Mass Media International Find Live Info Pvt Ltd DATA SERVICES is established in the year 2012 with a vision of transforming an ordinary to extra ordinary thing. Find live info is one of our main project, it is a developing search engine site based at Chennai, India. With years of experience, we have crafted massive data collection job opportunities for public. FIND LIVE INFO a blend of experience, imagination, strategy and action to create digital experience that excite, challenge, inspire and engage users. FIND LIVE INFO provides other business opportunities which will be handled by experts of various fields. We have interesting combination of young and experienced Specialists Under the guidance of our Top Management we bloom towards success More detail contect 8678902528 Download PPT Photo 1 \\xa0 View Contact Details'\n",
       " 'Job Description \\xa0 Send me Jobs like this Qualifications: - == > 10th To Graduation & Any Skill: - == > Basic Computer Knowledge Job Requirement : - == > System or Laptop Type of job: - == > Full Time or Part time Languages : - == > Tamil & English. Experience : - == > Freshers & Experience payment details: - 1 form per day 5/- 10 form per day 50/- 100 form per day 500/- monthly you can earn 15000/- per month Selection Process: - == > Easy Selection Process,So What Are You Waiting For? Apply Now & Grab Best Opportunity To Make Your Carrier & To Improve Your Earing Skills. Chennai Peoples Only Contact Deepika Team Leader 9087728815 / 9087726713 Salary:INR 1,50,000 - 2,50,000 P.A. 20000 Industry: Advertising / PR / MR / Event Management Functional Area: Marketing , Advertising , MR , PR , Media Planning Role Category:Online/Digital Marketing Role:Search Engine Marketing/SEM Specialist Keyskills Data Entry data processing Desired Candidate Profile Education- UG: B.Tech/B.E. - Any Specialization PG:MBA/PGDM - Any Specialization Please refer to the Job description above Company Profile: find live infotech Find Live Infotech is one of our main projects, it is a developing search engine site based at chennai , India. With years of experience , we have crafted massive data collection job oppurtunties for public. Find live infotech provides other business opportunities which will be handled by experts of various fields Download PPT Photo 1 \\xa0 View Contact Details'\n",
       " 'Job Description \\xa0 Send me Jobs like this - as a developer in providing application design guidance and consultation, utilizing a thorough understanding of applicable technology, tools and existing designs. - Analyzes highly complex business requirements, designs and writes technical specifications to design or redesign complex computer platforms and applications. - Provides coding direction to less experienced staff or develops highly complex original code. - Acts as an expert technical resource for modeling, simulation and analysis efforts. - Verifies program logic by overseeing the preparation of test data, testing and debugging of programs. - Oversees overall systems testing and the migration of platforms and applications to production. - Develops new documentation, departmental technical procedures and user guides. - Leads projects, allocates and manages resources and manages the work of less experienced staff. - Assures quality, security and compliance requirements are met for supported area and oversees creation of or updates to and testing of the business continuation plan.: 7+ years application development and implementation experience. Additional Job Details: - Looking for PL/SQL developer, who has experience loading data using SQL loader. Salary: Not Disclosed by Recruiter Industry: IT-Software / Software Services Functional Area: IT Software - Application Programming , Maintenance Role Category:Programming & Design Role:Software Developer Keyskills SQL Loader PL SQL Development PLSQL Procedures Application Design Test Data Application Development Desired Candidate Profile \\xa0 Education- UG: Any Graduate - Any Specialization PG:Any Postgraduate Doctorate:Doctorate Not Required Company Profile: Softtech Career Infosystem Pvt. Ltd Leading client of Softtech Career Infosystem Pvt. Ltd Download PPT Photo 1 \\xa0 View Contact Details'\n",
       " ...\n",
       " 'Job Description \\xa0 Send me Jobs like this Work with tech lead to architect and develop a full stack of functionalities, from scratch Design and own product components, from initial technology to scale Write high performing code that deploys to production multiple times a day Make key architectural decisions as well as solve scaling challenges Collaborate with the team and communicate effectively, to solve problems and build, extend, optimize and refactor the back-end architecture Salary: Not Disclosed by Recruiter Industry: Internet / Ecommerce Functional Area: IT Software - Application Programming , Maintenance Role Category:Programming & Design Role:Software Developer Keyskills Design Solutions Python Java Javascript HTML CSS Node.js PostgreSQL jQuery EC2 DynamoDB RDS SNS SQS S3 EMR Desired Candidate Profile Strong understanding and experience in any one of core back-end programming language (Java, C++, Python etc.) Strong understanding of Object-Oriented Programming. Strong understanding of algorithms and data structures. Understanding and experience of working with mid to large scale SQL database systems (MySQL, PostgreSQL, Microsoft-SQL etc). User authentication and authorization between multiple systems, servers, and environments. Familiarity with framework tools: spring, REST services. Knowledge in HTML, CSS, JavaScript, jQuery. Understanding of Node.js and web frameworks for Node.js (expressjs etc.) Understanding of code versioning tools, such as Git. Comfortable working within non-GUI linux shell environments. Familiarity with AWS products - EC2, DynamoDB, RDS, SNS, SQS, S3, EMR etc. The right candidate loves programming, ships code to production quickly and is passionate about building products for web & mobile.Skills: Python, Java, Javascript, HTML, CSS, Node.js, PostgreSQL, AWS/EC2/ELB/S3/DynamoDB Education- UG: B.Tech/B.E. - Any Specialization PG:Any Postgraduate Doctorate:Doctorate Not Required Company Profile: Musk - Startup Musk is an invoice discounting platform that partners with medium and large corporates to finance their SME vendors against approved invoices. The platform manages entire life cycle of loan- from sourcing to servicing. Data-driven intelligent on-boarding, diligence, and process automation renders invoice discounting programs scalable and safe for lending partners. Download PPT Photo 1 \\xa0 View Contact Details'\n",
       " 'Job Description \\xa0 Send me Jobs like this We are looking for a Senior UI Developers and Technical leads for a leading IT MNC at Delhi/NCR. Role : Senior Developer / Technical Lead / Manager Location: Delhi/ NCR SKILL REQUIREMENTS : - Expertise in HTML5 / CSS, JQuery, Javascript. - Hands on experience in Object Oriented Java script, AngularJS, BackboneJS. - The candidate should be willing to work as an individual contributor. - The candidate will be mainly involved in Design and development of Web/UI content. He should be dynamic and flexible. - Exposure in basic UI tools like HTML/CSS is must. Salary: Not Disclosed by Recruiter Industry: IT-Software / Software Services Functional Area: IT Software - Application Programming , Maintenance Role Category:Programming & Design Role:Team Lead/Technical Lead Keyskills Javascript HTML CSS UI Development JQuery Java Web Technologies Web UI Design Development Desired Candidate Profile EXPERIENCE : 7-13 yrsEducation : Btech / MCA / ME Education- UG: B.Tech/B.E. - Any Specialization PG:MCA - Computers, M.Tech - Any Specialization Doctorate:Doctorate Not Required Company Profile: Confidential Leading client Download PPT Photo 1 \\xa0 View Contact Details'\n",
       " 'Job Description \\xa0 Send me Jobs like this Job description : Experience of 5-10 years with most of this experience in Wireless (LTE/3G/2G) RF firmware development and will be an individual contributor. He/She should have the ability to Develop, enhance, troubleshoot of RF control firmware Participate in Baseband-RFIC interface bring-up of radio boards Develop manufacturing test firmware for RF boards Creation/customization of calibration and verification routines. Work closely with LTE baseband and RF hardware teams for RF firmware integration and testing Coach and mentor team mates and groom them to reach their goals. Support pre and post sales activities. Specific Knowledge/Skills Strong experience in development, customization of RF driver firmware Strong understanding of integrated RFIC based RF hardware Strong experience with developing and optimizing RF calibration and verification routines Proficient in C. Experience with configuration management and bug tracking systems Excellent communication skills Experience working both independently and in a team-oriented, collaborative environment is essential. Salary:INR 12,00,000 - 22,00,000 P.A Industry: IT-Software / Software Services Functional Area: IT Software - System Programming Role Category:Programming & Design Role:Software Developer Keyskills 2G 3G LTE C Optimization RF Post Sales Communication Skills Bug Tracking Firmware Development Desired Candidate Profile Please refer to the Job description above Education- UG: B.Tech/B.E. - Any Specialization PG:MCA - Computers, M.Tech - Any Specialization Company Profile: Cambio Consulting India Pvt Ltd Product MNC Download PPT Photo 1 \\xa0 View Contact Details']</td>\n",
       "            </tr>\n",
       "            <tr>\n",
       "                        <th id=\"T_62076_level0_row5\" class=\"row_heading level0 row5\" >5</th>\n",
       "                        <td id=\"T_62076_row5_col0\" class=\"data row5 col0\" >jobid</td>\n",
       "                        <td id=\"T_62076_row5_col1\" class=\"data row5 col1\" >21910</td>\n",
       "                        <td id=\"T_62076_row5_col2\" class=\"data row5 col2\" >[210516002263 210516002391 101016900534 ... 251116900644 231116901329\n",
       " 251116003840]</td>\n",
       "            </tr>\n",
       "            <tr>\n",
       "                        <th id=\"T_62076_level0_row6\" class=\"row_heading level0 row6\" >6</th>\n",
       "                        <td id=\"T_62076_row6_col0\" class=\"data row6 col0\" >joblocation_address</td>\n",
       "                        <td id=\"T_62076_row6_col1\" class=\"data row6 col1\" >2329</td>\n",
       "                        <td id=\"T_62076_row6_col2\" class=\"data row6 col2\" >['Chennai' 'Bengaluru'\n",
       " 'Mumbai, Bengaluru, Kolkata, Chennai, Coimbatore, Tamilnadu' ...\n",
       " 'Mumbai, Bengaluru, Hyderabad, Kolkata'\n",
       " 'Mumbai, Chennai, Delhi, Bengaluru, Hyderabad, Pune'\n",
       " 'Bengaluru, Malaysia']</td>\n",
       "            </tr>\n",
       "            <tr>\n",
       "                        <th id=\"T_62076_level0_row7\" class=\"row_heading level0 row7\" >7</th>\n",
       "                        <td id=\"T_62076_row7_col0\" class=\"data row7 col0\" >jobtitle</td>\n",
       "                        <td id=\"T_62076_row7_col1\" class=\"data row7 col1\" >17564</td>\n",
       "                        <td id=\"T_62076_row7_col2\" class=\"data row7 col2\" >['Walkin Data Entry Operator (night Shift)'\n",
       " 'Work Based Onhome Based Part Time.' 'Pl/sql Developer - SQL' ...\n",
       " 'Full Stack Development Engineer'\n",
       " 'Sr UI Developer/ Technical Lead - Html/ CSS/ Javascript/ Angularjs'\n",
       " 'RF Firmware Engineers']</td>\n",
       "            </tr>\n",
       "            <tr>\n",
       "                        <th id=\"T_62076_level0_row8\" class=\"row_heading level0 row8\" >8</th>\n",
       "                        <td id=\"T_62076_row8_col0\" class=\"data row8 col0\" >numberofpositions</td>\n",
       "                        <td id=\"T_62076_row8_col1\" class=\"data row8 col1\" >84</td>\n",
       "                        <td id=\"T_62076_row8_col2\" class=\"data row8 col2\" >[     nan 6.00e+01 4.00e+00 2.00e+00 2.00e+01 3.00e+00 1.00e+00 7.00e+02\n",
       " 8.00e+00 5.00e+00 7.00e+00 2.50e+01 1.00e+01 6.50e+02 1.50e+01 5.00e+01\n",
       " 3.00e+01 6.00e+00 4.50e+01 1.30e+01 1.00e+02 2.70e+01 2.20e+01 1.90e+01\n",
       " 1.10e+01 9.00e+00 3.60e+01 9.90e+01 1.80e+01 7.00e+01 4.90e+01 3.50e+01\n",
       " 5.20e+01 1.25e+02 2.00e+02 1.20e+03 1.40e+01 1.20e+01 3.80e+01 5.00e+02\n",
       " 4.00e+01 1.00e+03 4.00e+02 1.50e+02 4.30e+01 7.50e+01 5.50e+01 2.50e+02\n",
       " 3.00e+02 5.70e+01 6.00e+02 8.60e+01 3.40e+01 8.80e+01 8.90e+01 9.50e+01\n",
       " 3.50e+02 3.20e+01 7.40e+01 8.70e+01 2.40e+01 7.80e+01 6.80e+01 6.50e+01\n",
       " 9.80e+01 7.60e+01 9.20e+01 2.05e+02 8.00e+01 5.60e+01 6.40e+01 7.30e+01\n",
       " 3.10e+01 9.60e+01 1.70e+01 4.70e+01 9.00e+01 2.30e+01 5.50e+02 9.00e+02\n",
       " 1.60e+01 2.00e+03 2.90e+01 4.10e+01 1.26e+02]</td>\n",
       "            </tr>\n",
       "            <tr>\n",
       "                        <th id=\"T_62076_level0_row9\" class=\"row_heading level0 row9\" >9</th>\n",
       "                        <td id=\"T_62076_row9_col0\" class=\"data row9 col0\" >payrate</td>\n",
       "                        <td id=\"T_62076_row9_col1\" class=\"data row9 col1\" >1848</td>\n",
       "                        <td id=\"T_62076_row9_col2\" class=\"data row9 col2\" >['1,50,000 - 2,25,000 P.A' '1,50,000 - 2,50,000 P.A. 20000'\n",
       " 'Not Disclosed by Recruiter' ...\n",
       " '35,00,000 - 50,00,000 P.A. Compensation: Best in Industry'\n",
       " '15,00,000 - 30,00,000 P.A. Salary is open' '8,50,000 - 14,00,000 P.A']</td>\n",
       "            </tr>\n",
       "            <tr>\n",
       "                        <th id=\"T_62076_level0_row10\" class=\"row_heading level0 row10\" >10</th>\n",
       "                        <td id=\"T_62076_row10_col0\" class=\"data row10 col0\" >postdate</td>\n",
       "                        <td id=\"T_62076_row10_col1\" class=\"data row10 col1\" >4203</td>\n",
       "                        <td id=\"T_62076_row10_col2\" class=\"data row10 col2\" >['2016-05-21 19:30:00 +0000' '2016-10-13 16:20:55 +0000'\n",
       " '2016-10-13 16:20:56 +0000' ... '2016-12-29 22:47:05 +0000'\n",
       " '2016-11-24 22:47:05 +0000' '2016-11-27 22:47:05 +0000']</td>\n",
       "            </tr>\n",
       "            <tr>\n",
       "                        <th id=\"T_62076_level0_row11\" class=\"row_heading level0 row11\" >11</th>\n",
       "                        <td id=\"T_62076_row11_col0\" class=\"data row11 col0\" >site_name</td>\n",
       "                        <td id=\"T_62076_row11_col1\" class=\"data row11 col1\" >1</td>\n",
       "                        <td id=\"T_62076_row11_col2\" class=\"data row11 col2\" >[nan 'www.naukri.com']</td>\n",
       "            </tr>\n",
       "            <tr>\n",
       "                        <th id=\"T_62076_level0_row12\" class=\"row_heading level0 row12\" >12</th>\n",
       "                        <td id=\"T_62076_row12_col0\" class=\"data row12 col0\" >skills</td>\n",
       "                        <td id=\"T_62076_row12_col1\" class=\"data row12 col1\" >45</td>\n",
       "                        <td id=\"T_62076_row12_col2\" class=\"data row12 col2\" >['ITES' 'Marketing' 'IT Software - Application Programming' 'Accounts'\n",
       " 'Production' 'Sales' 'IT Software - Other' 'Executive Assistant'\n",
       " 'IT Software - Mobile' 'Engineering Design' 'Financial Services' 'Hotels'\n",
       " 'IT Software - QA & Testing' 'HR' 'Supply Chain'\n",
       " 'IT Software - Network Administration' 'Architecture' 'Legal'\n",
       " 'Site Engineering' 'Journalism' nan 'IT Software - DBA' 'Strategy'\n",
       " 'Medical' 'Design' 'Defence Forces' 'IT Software - Mainframe'\n",
       " 'IT Software - Telecom Software' 'IT Software - Embedded'\n",
       " 'IT Software - Middleware' 'Teaching' 'IT Software - System Programming'\n",
       " 'IT Software - Client/Server Programming' 'Travel'\n",
       " 'IT Software - eCommerce' 'TV' 'Fashion Designing' 'IT Software - ERP'\n",
       " 'IT Hardware' 'Analytics & Business Intelligence'\n",
       " 'Beauty/Fitness/Spa Services' 'Top Management' 'Export'\n",
       " 'IT Software - Systems' 'Packaging' 'Shipping']</td>\n",
       "            </tr>\n",
       "            <tr>\n",
       "                        <th id=\"T_62076_level0_row13\" class=\"row_heading level0 row13\" >13</th>\n",
       "                        <td id=\"T_62076_row13_col0\" class=\"data row13 col0\" >uniq_id</td>\n",
       "                        <td id=\"T_62076_row13_col1\" class=\"data row13 col1\" >22000</td>\n",
       "                        <td id=\"T_62076_row13_col2\" class=\"data row13 col2\" >['43b19632647068535437c774b6ca6cf8' 'd4c72325e57f89f364812b5ed5a795f0'\n",
       " 'c47df6f4cfdf5b46f1fd713ba61b9eba' ... 'f6f2885a6c87572616fb766029a0d284'\n",
       " 'c6f6538cb1007dd02c1b4b77909b3d38' '74fec26df6e1c0be0171311a2f03f180']</td>\n",
       "            </tr>\n",
       "    </tbody></table>"
      ],
      "text/plain": [
       "<pandas.io.formats.style.Styler at 0x14f33f4ba30>"
      ]
     },
     "execution_count": 11,
     "metadata": {},
     "output_type": "execute_result"
    }
   ],
   "source": [
    "count_df.style.background_gradient(cmap = 'Spectral')"
   ]
  },
  {
   "cell_type": "markdown",
   "id": "2cd18cd8",
   "metadata": {},
   "source": [
    "## Exploratory Analysis and Visualization\n",
    "\n",
    "Columns which are analyzed below:\n",
    "\n",
    "1) Payrate\n",
    "\n",
    "2) Experience\n",
    "\n",
    "3) Postdate\n",
    "\n",
    "4) Industry\n",
    "\n",
    "5) Job title\n",
    "\n",
    "6) Number of positions\n",
    "\n",
    "7) Skills"
   ]
  },
  {
   "cell_type": "markdown",
   "id": "9e6685e4",
   "metadata": {},
   "source": [
    "### Payrate Column"
   ]
  },
  {
   "cell_type": "code",
   "execution_count": 12,
   "id": "9db7c754",
   "metadata": {},
   "outputs": [
    {
     "data": {
      "text/plain": [
       "0                               1,50,000 - 2,25,000 P.A\n",
       "1                        1,50,000 - 2,50,000 P.A. 20000\n",
       "2                            Not Disclosed by Recruiter\n",
       "3                            Not Disclosed by Recruiter\n",
       "4                            Not Disclosed by Recruiter\n",
       "5                            Not Disclosed by Recruiter\n",
       "6                               3,00,000 - 6,50,000 P.A\n",
       "7                            Not Disclosed by Recruiter\n",
       "8                               1,00,000 - 2,00,000 P.A\n",
       "9                            Not Disclosed by Recruiter\n",
       "10                           Not Disclosed by Recruiter\n",
       "11                           Not Disclosed by Recruiter\n",
       "12                              1,75,000 - 2,50,000 P.A\n",
       "13                           Not Disclosed by Recruiter\n",
       "14                           Not Disclosed by Recruiter\n",
       "15                           Not Disclosed by Recruiter\n",
       "16    1,00,000 - 2,00,000 P.A. incentives for achiev...\n",
       "17                              1,00,000 - 5,00,000 P.A\n",
       "18                           Not Disclosed by Recruiter\n",
       "19                           Not Disclosed by Recruiter\n",
       "Name: payrate, dtype: object"
      ]
     },
     "execution_count": 12,
     "metadata": {},
     "output_type": "execute_result"
    }
   ],
   "source": [
    "df.payrate.head(20)"
   ]
  },
  {
   "cell_type": "code",
   "execution_count": 13,
   "id": "e5632052",
   "metadata": {},
   "outputs": [
    {
     "data": {
      "text/plain": [
       "'1,50,000 '"
      ]
     },
     "execution_count": 13,
     "metadata": {},
     "output_type": "execute_result"
    }
   ],
   "source": [
    "# minimum pay of first payrate\n",
    "df['payrate'][0].split('-')[0]"
   ]
  },
  {
   "cell_type": "code",
   "execution_count": 14,
   "id": "a811c6d0",
   "metadata": {},
   "outputs": [
    {
     "data": {
      "text/plain": [
       "' 2,25,000 P.A'"
      ]
     },
     "execution_count": 14,
     "metadata": {},
     "output_type": "execute_result"
    }
   ],
   "source": [
    "# maximum pay of first payrate\n",
    "df['payrate'][0].split('-')[1]"
   ]
  },
  {
   "cell_type": "code",
   "execution_count": 15,
   "id": "91d2566f",
   "metadata": {},
   "outputs": [],
   "source": [
    "len_pay = []\n",
    "for pay in df['payrate']:\n",
    "    len_pay.append(len(str(pay).split('-')))"
   ]
  },
  {
   "cell_type": "code",
   "execution_count": 16,
   "id": "a15a8962",
   "metadata": {},
   "outputs": [
    {
     "data": {
      "text/plain": [
       "1    17028\n",
       "2     4682\n",
       "4      126\n",
       "3       83\n",
       "5       54\n",
       "6       24\n",
       "7        3\n",
       "dtype: int64"
      ]
     },
     "execution_count": 16,
     "metadata": {},
     "output_type": "execute_result"
    }
   ],
   "source": [
    "# payrate column should have only 2 elements, one for minimum and one for maximum.\n",
    "# less than 2 or more than 2 are useless for payrate column which will be taken care.\n",
    "\n",
    "pd.Series(len_pay).value_counts()"
   ]
  },
  {
   "cell_type": "code",
   "execution_count": 17,
   "id": "c7844b15",
   "metadata": {},
   "outputs": [],
   "source": [
    "# Handling the extra elements of payrate column\n",
    "\n",
    "payrate_split = df[\"payrate\"].str.split('-', expand = True)"
   ]
  },
  {
   "cell_type": "code",
   "execution_count": 18,
   "id": "f9f0ef96",
   "metadata": {},
   "outputs": [
    {
     "data": {
      "text/html": [
       "<div>\n",
       "<style scoped>\n",
       "    .dataframe tbody tr th:only-of-type {\n",
       "        vertical-align: middle;\n",
       "    }\n",
       "\n",
       "    .dataframe tbody tr th {\n",
       "        vertical-align: top;\n",
       "    }\n",
       "\n",
       "    .dataframe thead th {\n",
       "        text-align: right;\n",
       "    }\n",
       "</style>\n",
       "<table border=\"1\" class=\"dataframe\">\n",
       "  <thead>\n",
       "    <tr style=\"text-align: right;\">\n",
       "      <th></th>\n",
       "      <th>0</th>\n",
       "      <th>1</th>\n",
       "      <th>2</th>\n",
       "      <th>3</th>\n",
       "      <th>4</th>\n",
       "      <th>5</th>\n",
       "      <th>6</th>\n",
       "    </tr>\n",
       "  </thead>\n",
       "  <tbody>\n",
       "    <tr>\n",
       "      <th>0</th>\n",
       "      <td>1,50,000</td>\n",
       "      <td>2,25,000 P.A</td>\n",
       "      <td>None</td>\n",
       "      <td>None</td>\n",
       "      <td>None</td>\n",
       "      <td>None</td>\n",
       "      <td>None</td>\n",
       "    </tr>\n",
       "    <tr>\n",
       "      <th>1</th>\n",
       "      <td>1,50,000</td>\n",
       "      <td>2,50,000 P.A. 20000</td>\n",
       "      <td>None</td>\n",
       "      <td>None</td>\n",
       "      <td>None</td>\n",
       "      <td>None</td>\n",
       "      <td>None</td>\n",
       "    </tr>\n",
       "    <tr>\n",
       "      <th>2</th>\n",
       "      <td>Not Disclosed by Recruiter</td>\n",
       "      <td>None</td>\n",
       "      <td>None</td>\n",
       "      <td>None</td>\n",
       "      <td>None</td>\n",
       "      <td>None</td>\n",
       "      <td>None</td>\n",
       "    </tr>\n",
       "    <tr>\n",
       "      <th>3</th>\n",
       "      <td>Not Disclosed by Recruiter</td>\n",
       "      <td>None</td>\n",
       "      <td>None</td>\n",
       "      <td>None</td>\n",
       "      <td>None</td>\n",
       "      <td>None</td>\n",
       "      <td>None</td>\n",
       "    </tr>\n",
       "    <tr>\n",
       "      <th>4</th>\n",
       "      <td>Not Disclosed by Recruiter</td>\n",
       "      <td>None</td>\n",
       "      <td>None</td>\n",
       "      <td>None</td>\n",
       "      <td>None</td>\n",
       "      <td>None</td>\n",
       "      <td>None</td>\n",
       "    </tr>\n",
       "    <tr>\n",
       "      <th>...</th>\n",
       "      <td>...</td>\n",
       "      <td>...</td>\n",
       "      <td>...</td>\n",
       "      <td>...</td>\n",
       "      <td>...</td>\n",
       "      <td>...</td>\n",
       "      <td>...</td>\n",
       "    </tr>\n",
       "    <tr>\n",
       "      <th>21995</th>\n",
       "      <td>Not Disclosed by Recruiter</td>\n",
       "      <td>None</td>\n",
       "      <td>None</td>\n",
       "      <td>None</td>\n",
       "      <td>None</td>\n",
       "      <td>None</td>\n",
       "      <td>None</td>\n",
       "    </tr>\n",
       "    <tr>\n",
       "      <th>21996</th>\n",
       "      <td>8,50,000</td>\n",
       "      <td>14,00,000 P.A</td>\n",
       "      <td>None</td>\n",
       "      <td>None</td>\n",
       "      <td>None</td>\n",
       "      <td>None</td>\n",
       "      <td>None</td>\n",
       "    </tr>\n",
       "    <tr>\n",
       "      <th>21997</th>\n",
       "      <td>Not Disclosed by Recruiter</td>\n",
       "      <td>None</td>\n",
       "      <td>None</td>\n",
       "      <td>None</td>\n",
       "      <td>None</td>\n",
       "      <td>None</td>\n",
       "      <td>None</td>\n",
       "    </tr>\n",
       "    <tr>\n",
       "      <th>21998</th>\n",
       "      <td>Not Disclosed by Recruiter</td>\n",
       "      <td>None</td>\n",
       "      <td>None</td>\n",
       "      <td>None</td>\n",
       "      <td>None</td>\n",
       "      <td>None</td>\n",
       "      <td>None</td>\n",
       "    </tr>\n",
       "    <tr>\n",
       "      <th>21999</th>\n",
       "      <td>12,00,000</td>\n",
       "      <td>22,00,000 P.A</td>\n",
       "      <td>None</td>\n",
       "      <td>None</td>\n",
       "      <td>None</td>\n",
       "      <td>None</td>\n",
       "      <td>None</td>\n",
       "    </tr>\n",
       "  </tbody>\n",
       "</table>\n",
       "<p>22000 rows × 7 columns</p>\n",
       "</div>"
      ],
      "text/plain": [
       "                                0                     1     2     3     4  \\\n",
       "0                       1,50,000           2,25,000 P.A  None  None  None   \n",
       "1                       1,50,000    2,50,000 P.A. 20000  None  None  None   \n",
       "2      Not Disclosed by Recruiter                  None  None  None  None   \n",
       "3      Not Disclosed by Recruiter                  None  None  None  None   \n",
       "4      Not Disclosed by Recruiter                  None  None  None  None   \n",
       "...                           ...                   ...   ...   ...   ...   \n",
       "21995  Not Disclosed by Recruiter                  None  None  None  None   \n",
       "21996                   8,50,000          14,00,000 P.A  None  None  None   \n",
       "21997  Not Disclosed by Recruiter                  None  None  None  None   \n",
       "21998  Not Disclosed by Recruiter                  None  None  None  None   \n",
       "21999                  12,00,000          22,00,000 P.A  None  None  None   \n",
       "\n",
       "          5     6  \n",
       "0      None  None  \n",
       "1      None  None  \n",
       "2      None  None  \n",
       "3      None  None  \n",
       "4      None  None  \n",
       "...     ...   ...  \n",
       "21995  None  None  \n",
       "21996  None  None  \n",
       "21997  None  None  \n",
       "21998  None  None  \n",
       "21999  None  None  \n",
       "\n",
       "[22000 rows x 7 columns]"
      ]
     },
     "execution_count": 18,
     "metadata": {},
     "output_type": "execute_result"
    }
   ],
   "source": [
    "payrate_split\n",
    "\n",
    "# Out of these 7 columns, only 0th and 1st column makes sense because only these 2 columns has minimum and maximum pay.\n",
    "# rest of the columns are useless."
   ]
  },
  {
   "cell_type": "code",
   "execution_count": 19,
   "id": "a7f25a6d",
   "metadata": {},
   "outputs": [
    {
     "data": {
      "text/plain": [
       "'1,50,000 '"
      ]
     },
     "execution_count": 19,
     "metadata": {},
     "output_type": "execute_result"
    }
   ],
   "source": [
    "payrate_split[0][0]"
   ]
  },
  {
   "cell_type": "code",
   "execution_count": 20,
   "id": "3a7df534",
   "metadata": {},
   "outputs": [],
   "source": [
    "# Need to remove the extra space which is on the right side"
   ]
  },
  {
   "cell_type": "code",
   "execution_count": 21,
   "id": "a934abad",
   "metadata": {},
   "outputs": [],
   "source": [
    "payrate_split[0] = payrate_split[0].str.strip()"
   ]
  },
  {
   "cell_type": "code",
   "execution_count": 22,
   "id": "5434f56b",
   "metadata": {},
   "outputs": [
    {
     "data": {
      "text/plain": [
       "'1,50,000'"
      ]
     },
     "execution_count": 22,
     "metadata": {},
     "output_type": "execute_result"
    }
   ],
   "source": [
    "payrate_split[0][0]"
   ]
  },
  {
   "cell_type": "code",
   "execution_count": 23,
   "id": "97c5d856",
   "metadata": {},
   "outputs": [],
   "source": [
    "# Now need to replace commas\n",
    "\n",
    "payrate_split[0] = payrate_split[0].apply(lambda x : str(x).replace(',', ''))"
   ]
  },
  {
   "cell_type": "code",
   "execution_count": 24,
   "id": "3a882678",
   "metadata": {},
   "outputs": [
    {
     "data": {
      "text/plain": [
       "0                            150000\n",
       "1                            150000\n",
       "2        Not Disclosed by Recruiter\n",
       "3        Not Disclosed by Recruiter\n",
       "4        Not Disclosed by Recruiter\n",
       "                    ...            \n",
       "21995    Not Disclosed by Recruiter\n",
       "21996                        850000\n",
       "21997    Not Disclosed by Recruiter\n",
       "21998    Not Disclosed by Recruiter\n",
       "21999                       1200000\n",
       "Name: 0, Length: 22000, dtype: object"
      ]
     },
     "execution_count": 24,
     "metadata": {},
     "output_type": "execute_result"
    }
   ],
   "source": [
    "payrate_split[0]"
   ]
  },
  {
   "cell_type": "code",
   "execution_count": 25,
   "id": "aced7637",
   "metadata": {},
   "outputs": [
    {
     "data": {
      "text/plain": [
       "0         150000.0\n",
       "1         150000.0\n",
       "2              NaN\n",
       "3              NaN\n",
       "4              NaN\n",
       "           ...    \n",
       "21995          NaN\n",
       "21996     850000.0\n",
       "21997          NaN\n",
       "21998          NaN\n",
       "21999    1200000.0\n",
       "Name: 0, Length: 22000, dtype: float64"
      ]
     },
     "execution_count": 25,
     "metadata": {},
     "output_type": "execute_result"
    }
   ],
   "source": [
    "# Getting the numeric values only and rest will be NaN.\n",
    "\n",
    "pd.to_numeric(payrate_split[0], errors = \"coerce\")"
   ]
  },
  {
   "cell_type": "code",
   "execution_count": 26,
   "id": "93b4fee7",
   "metadata": {},
   "outputs": [
    {
     "data": {
      "text/plain": [
       "0         150000\n",
       "1         150000\n",
       "2               \n",
       "3               \n",
       "4               \n",
       "          ...   \n",
       "21995           \n",
       "21996     850000\n",
       "21997           \n",
       "21998           \n",
       "21999    1200000\n",
       "Name: 0, Length: 22000, dtype: object"
      ]
     },
     "execution_count": 26,
     "metadata": {},
     "output_type": "execute_result"
    }
   ],
   "source": [
    "# Other way of getting numeric values only and rest would be blank.\n",
    "\n",
    "pattern = '\\D.*'\n",
    "\n",
    "payrate_split[0].str.replace(pattern, '')"
   ]
  },
  {
   "cell_type": "code",
   "execution_count": 27,
   "id": "845340c1",
   "metadata": {},
   "outputs": [],
   "source": [
    "# removing extra space in column 1 now\n",
    "\n",
    "payrate_split[1] = payrate_split[1].str.strip()"
   ]
  },
  {
   "cell_type": "code",
   "execution_count": 28,
   "id": "6de07329",
   "metadata": {},
   "outputs": [],
   "source": [
    "# Replacing commas\n",
    "\n",
    "payrate_split[1] = payrate_split[1].apply(lambda x : str(x).replace(',', ''))"
   ]
  },
  {
   "cell_type": "code",
   "execution_count": 29,
   "id": "ae5104b8",
   "metadata": {},
   "outputs": [],
   "source": [
    "# Replacing set of characters\n",
    "\n",
    "pattern = '\\D.*'\n",
    "payrate_split[1] = payrate_split[1].str.replace(pattern, '')"
   ]
  },
  {
   "cell_type": "code",
   "execution_count": 30,
   "id": "0a4d2a1f",
   "metadata": {},
   "outputs": [
    {
     "data": {
      "text/plain": [
       "0         225000\n",
       "1         250000\n",
       "2               \n",
       "3               \n",
       "4               \n",
       "          ...   \n",
       "21995           \n",
       "21996    1400000\n",
       "21997           \n",
       "21998           \n",
       "21999    2200000\n",
       "Name: 1, Length: 22000, dtype: object"
      ]
     },
     "execution_count": 30,
     "metadata": {},
     "output_type": "execute_result"
    }
   ],
   "source": [
    "payrate_split[1]"
   ]
  },
  {
   "cell_type": "code",
   "execution_count": 31,
   "id": "98adc188",
   "metadata": {},
   "outputs": [
    {
     "data": {
      "text/plain": [
       "0    object\n",
       "1    object\n",
       "2    object\n",
       "3    object\n",
       "4    object\n",
       "5    object\n",
       "6    object\n",
       "dtype: object"
      ]
     },
     "execution_count": 31,
     "metadata": {},
     "output_type": "execute_result"
    }
   ],
   "source": [
    "# Checking for its Data types\n",
    "\n",
    "payrate_split.dtypes"
   ]
  },
  {
   "cell_type": "code",
   "execution_count": 32,
   "id": "ce94b8e9",
   "metadata": {},
   "outputs": [],
   "source": [
    "# Converting columns 0 and 1 into numeric\n",
    "\n",
    "payrate_split[0] = pd.to_numeric(payrate_split[0], errors = 'coerce')\n",
    "payrate_split[1] = pd.to_numeric(payrate_split[1], errors = 'coerce')"
   ]
  },
  {
   "cell_type": "code",
   "execution_count": 33,
   "id": "a6c44acf",
   "metadata": {},
   "outputs": [
    {
     "data": {
      "text/plain": [
       "0    float64\n",
       "1    float64\n",
       "2     object\n",
       "3     object\n",
       "4     object\n",
       "5     object\n",
       "6     object\n",
       "dtype: object"
      ]
     },
     "execution_count": 33,
     "metadata": {},
     "output_type": "execute_result"
    }
   ],
   "source": [
    "payrate_split.dtypes"
   ]
  },
  {
   "cell_type": "code",
   "execution_count": 34,
   "id": "6fc5d895",
   "metadata": {},
   "outputs": [],
   "source": [
    "# Now use 0 and 1 columns and concatenate them\n",
    "\n",
    "pay = pd.concat([payrate_split[0], payrate_split[1]], axis = 1, sort = False)"
   ]
  },
  {
   "cell_type": "code",
   "execution_count": 35,
   "id": "21d86094",
   "metadata": {},
   "outputs": [],
   "source": [
    "pay.columns = ['min_pay', 'max_pay']"
   ]
  },
  {
   "cell_type": "code",
   "execution_count": 36,
   "id": "59f24f6e",
   "metadata": {},
   "outputs": [
    {
     "data": {
      "text/html": [
       "<div>\n",
       "<style scoped>\n",
       "    .dataframe tbody tr th:only-of-type {\n",
       "        vertical-align: middle;\n",
       "    }\n",
       "\n",
       "    .dataframe tbody tr th {\n",
       "        vertical-align: top;\n",
       "    }\n",
       "\n",
       "    .dataframe thead th {\n",
       "        text-align: right;\n",
       "    }\n",
       "</style>\n",
       "<table border=\"1\" class=\"dataframe\">\n",
       "  <thead>\n",
       "    <tr style=\"text-align: right;\">\n",
       "      <th></th>\n",
       "      <th>min_pay</th>\n",
       "      <th>max_pay</th>\n",
       "    </tr>\n",
       "  </thead>\n",
       "  <tbody>\n",
       "    <tr>\n",
       "      <th>0</th>\n",
       "      <td>150000.0</td>\n",
       "      <td>225000.0</td>\n",
       "    </tr>\n",
       "    <tr>\n",
       "      <th>1</th>\n",
       "      <td>150000.0</td>\n",
       "      <td>250000.0</td>\n",
       "    </tr>\n",
       "    <tr>\n",
       "      <th>2</th>\n",
       "      <td>NaN</td>\n",
       "      <td>NaN</td>\n",
       "    </tr>\n",
       "    <tr>\n",
       "      <th>3</th>\n",
       "      <td>NaN</td>\n",
       "      <td>NaN</td>\n",
       "    </tr>\n",
       "    <tr>\n",
       "      <th>4</th>\n",
       "      <td>NaN</td>\n",
       "      <td>NaN</td>\n",
       "    </tr>\n",
       "    <tr>\n",
       "      <th>...</th>\n",
       "      <td>...</td>\n",
       "      <td>...</td>\n",
       "    </tr>\n",
       "    <tr>\n",
       "      <th>21995</th>\n",
       "      <td>NaN</td>\n",
       "      <td>NaN</td>\n",
       "    </tr>\n",
       "    <tr>\n",
       "      <th>21996</th>\n",
       "      <td>850000.0</td>\n",
       "      <td>1400000.0</td>\n",
       "    </tr>\n",
       "    <tr>\n",
       "      <th>21997</th>\n",
       "      <td>NaN</td>\n",
       "      <td>NaN</td>\n",
       "    </tr>\n",
       "    <tr>\n",
       "      <th>21998</th>\n",
       "      <td>NaN</td>\n",
       "      <td>NaN</td>\n",
       "    </tr>\n",
       "    <tr>\n",
       "      <th>21999</th>\n",
       "      <td>1200000.0</td>\n",
       "      <td>2200000.0</td>\n",
       "    </tr>\n",
       "  </tbody>\n",
       "</table>\n",
       "<p>22000 rows × 2 columns</p>\n",
       "</div>"
      ],
      "text/plain": [
       "         min_pay    max_pay\n",
       "0       150000.0   225000.0\n",
       "1       150000.0   250000.0\n",
       "2            NaN        NaN\n",
       "3            NaN        NaN\n",
       "4            NaN        NaN\n",
       "...          ...        ...\n",
       "21995        NaN        NaN\n",
       "21996   850000.0  1400000.0\n",
       "21997        NaN        NaN\n",
       "21998        NaN        NaN\n",
       "21999  1200000.0  2200000.0\n",
       "\n",
       "[22000 rows x 2 columns]"
      ]
     },
     "execution_count": 36,
     "metadata": {},
     "output_type": "execute_result"
    }
   ],
   "source": [
    "pay"
   ]
  },
  {
   "cell_type": "code",
   "execution_count": 37,
   "id": "5296b6e2",
   "metadata": {},
   "outputs": [],
   "source": [
    "# Now concatenating the df and pay\n",
    "\n",
    "df = pd.concat([df, pay], axis = 1, sort = False)"
   ]
  },
  {
   "cell_type": "code",
   "execution_count": 38,
   "id": "2c4ea32a",
   "metadata": {},
   "outputs": [
    {
     "data": {
      "text/html": [
       "<div>\n",
       "<style scoped>\n",
       "    .dataframe tbody tr th:only-of-type {\n",
       "        vertical-align: middle;\n",
       "    }\n",
       "\n",
       "    .dataframe tbody tr th {\n",
       "        vertical-align: top;\n",
       "    }\n",
       "\n",
       "    .dataframe thead th {\n",
       "        text-align: right;\n",
       "    }\n",
       "</style>\n",
       "<table border=\"1\" class=\"dataframe\">\n",
       "  <thead>\n",
       "    <tr style=\"text-align: right;\">\n",
       "      <th></th>\n",
       "      <th>company</th>\n",
       "      <th>education</th>\n",
       "      <th>experience</th>\n",
       "      <th>industry</th>\n",
       "      <th>jobdescription</th>\n",
       "      <th>jobid</th>\n",
       "      <th>joblocation_address</th>\n",
       "      <th>jobtitle</th>\n",
       "      <th>numberofpositions</th>\n",
       "      <th>payrate</th>\n",
       "      <th>postdate</th>\n",
       "      <th>site_name</th>\n",
       "      <th>skills</th>\n",
       "      <th>uniq_id</th>\n",
       "      <th>min_pay</th>\n",
       "      <th>max_pay</th>\n",
       "    </tr>\n",
       "  </thead>\n",
       "  <tbody>\n",
       "    <tr>\n",
       "      <th>0</th>\n",
       "      <td>MM Media Pvt Ltd</td>\n",
       "      <td>UG: B.Tech/B.E. - Any Specialization PG:Any Po...</td>\n",
       "      <td>0 - 1 yrs</td>\n",
       "      <td>Media / Entertainment / Internet</td>\n",
       "      <td>Job Description   Send me Jobs like this Quali...</td>\n",
       "      <td>210516002263</td>\n",
       "      <td>Chennai</td>\n",
       "      <td>Walkin Data Entry Operator (night Shift)</td>\n",
       "      <td>NaN</td>\n",
       "      <td>1,50,000 - 2,25,000 P.A</td>\n",
       "      <td>2016-05-21 19:30:00 +0000</td>\n",
       "      <td>NaN</td>\n",
       "      <td>ITES</td>\n",
       "      <td>43b19632647068535437c774b6ca6cf8</td>\n",
       "      <td>150000.0</td>\n",
       "      <td>225000.0</td>\n",
       "    </tr>\n",
       "    <tr>\n",
       "      <th>1</th>\n",
       "      <td>find live infotech</td>\n",
       "      <td>UG: B.Tech/B.E. - Any Specialization PG:MBA/PG...</td>\n",
       "      <td>0 - 0 yrs</td>\n",
       "      <td>Advertising / PR / MR / Event Management</td>\n",
       "      <td>Job Description   Send me Jobs like this Quali...</td>\n",
       "      <td>210516002391</td>\n",
       "      <td>Chennai</td>\n",
       "      <td>Work Based Onhome Based Part Time.</td>\n",
       "      <td>60.0</td>\n",
       "      <td>1,50,000 - 2,50,000 P.A. 20000</td>\n",
       "      <td>2016-05-21 19:30:00 +0000</td>\n",
       "      <td>NaN</td>\n",
       "      <td>Marketing</td>\n",
       "      <td>d4c72325e57f89f364812b5ed5a795f0</td>\n",
       "      <td>150000.0</td>\n",
       "      <td>250000.0</td>\n",
       "    </tr>\n",
       "    <tr>\n",
       "      <th>2</th>\n",
       "      <td>Softtech Career Infosystem Pvt. Ltd</td>\n",
       "      <td>UG: Any Graduate - Any Specialization PG:Any P...</td>\n",
       "      <td>4 - 8 yrs</td>\n",
       "      <td>IT-Software / Software Services</td>\n",
       "      <td>Job Description   Send me Jobs like this - as ...</td>\n",
       "      <td>101016900534</td>\n",
       "      <td>Bengaluru</td>\n",
       "      <td>Pl/sql Developer - SQL</td>\n",
       "      <td>NaN</td>\n",
       "      <td>Not Disclosed by Recruiter</td>\n",
       "      <td>2016-10-13 16:20:55 +0000</td>\n",
       "      <td>NaN</td>\n",
       "      <td>IT Software - Application Programming</td>\n",
       "      <td>c47df6f4cfdf5b46f1fd713ba61b9eba</td>\n",
       "      <td>NaN</td>\n",
       "      <td>NaN</td>\n",
       "    </tr>\n",
       "  </tbody>\n",
       "</table>\n",
       "</div>"
      ],
      "text/plain": [
       "                               company  \\\n",
       "0                     MM Media Pvt Ltd   \n",
       "1                   find live infotech   \n",
       "2  Softtech Career Infosystem Pvt. Ltd   \n",
       "\n",
       "                                           education experience  \\\n",
       "0  UG: B.Tech/B.E. - Any Specialization PG:Any Po...  0 - 1 yrs   \n",
       "1  UG: B.Tech/B.E. - Any Specialization PG:MBA/PG...  0 - 0 yrs   \n",
       "2  UG: Any Graduate - Any Specialization PG:Any P...  4 - 8 yrs   \n",
       "\n",
       "                                   industry  \\\n",
       "0          Media / Entertainment / Internet   \n",
       "1  Advertising / PR / MR / Event Management   \n",
       "2           IT-Software / Software Services   \n",
       "\n",
       "                                      jobdescription         jobid  \\\n",
       "0  Job Description   Send me Jobs like this Quali...  210516002263   \n",
       "1  Job Description   Send me Jobs like this Quali...  210516002391   \n",
       "2  Job Description   Send me Jobs like this - as ...  101016900534   \n",
       "\n",
       "  joblocation_address                                  jobtitle  \\\n",
       "0             Chennai  Walkin Data Entry Operator (night Shift)   \n",
       "1             Chennai        Work Based Onhome Based Part Time.   \n",
       "2           Bengaluru                    Pl/sql Developer - SQL   \n",
       "\n",
       "   numberofpositions                         payrate  \\\n",
       "0                NaN         1,50,000 - 2,25,000 P.A   \n",
       "1               60.0  1,50,000 - 2,50,000 P.A. 20000   \n",
       "2                NaN      Not Disclosed by Recruiter   \n",
       "\n",
       "                    postdate site_name                                 skills  \\\n",
       "0  2016-05-21 19:30:00 +0000       NaN                                   ITES   \n",
       "1  2016-05-21 19:30:00 +0000       NaN                              Marketing   \n",
       "2  2016-10-13 16:20:55 +0000       NaN  IT Software - Application Programming   \n",
       "\n",
       "                            uniq_id   min_pay   max_pay  \n",
       "0  43b19632647068535437c774b6ca6cf8  150000.0  225000.0  \n",
       "1  d4c72325e57f89f364812b5ed5a795f0  150000.0  250000.0  \n",
       "2  c47df6f4cfdf5b46f1fd713ba61b9eba       NaN       NaN  "
      ]
     },
     "execution_count": 38,
     "metadata": {},
     "output_type": "execute_result"
    }
   ],
   "source": [
    "df.head(3)"
   ]
  },
  {
   "cell_type": "markdown",
   "id": "044c821a",
   "metadata": {},
   "source": [
    "### Experience Column"
   ]
  },
  {
   "cell_type": "code",
   "execution_count": 39,
   "id": "31a745af",
   "metadata": {},
   "outputs": [
    {
     "data": {
      "text/plain": [
       "0          0 - 1 yrs\n",
       "1          0 - 0 yrs\n",
       "2          4 - 8 yrs\n",
       "3        11 - 15 yrs\n",
       "4          6 - 8 yrs\n",
       "            ...     \n",
       "21995     9 - 13 yrs\n",
       "21996      3 - 5 yrs\n",
       "21997      2 - 4 yrs\n",
       "21998     7 - 12 yrs\n",
       "21999     5 - 10 yrs\n",
       "Name: experience, Length: 22000, dtype: object"
      ]
     },
     "execution_count": 39,
     "metadata": {},
     "output_type": "execute_result"
    }
   ],
   "source": [
    "df.experience"
   ]
  },
  {
   "cell_type": "code",
   "execution_count": 40,
   "id": "d946f84b",
   "metadata": {},
   "outputs": [
    {
     "data": {
      "text/plain": [
       "'0 - 1 yrs'"
      ]
     },
     "execution_count": 40,
     "metadata": {},
     "output_type": "execute_result"
    }
   ],
   "source": [
    "df.experience[0]"
   ]
  },
  {
   "cell_type": "code",
   "execution_count": 41,
   "id": "dce780bf",
   "metadata": {},
   "outputs": [],
   "source": [
    "value = df.experience[0]"
   ]
  },
  {
   "cell_type": "code",
   "execution_count": 42,
   "id": "9afe7c5e",
   "metadata": {},
   "outputs": [
    {
     "data": {
      "text/plain": [
       "['0 ', ' 1 yrs']"
      ]
     },
     "execution_count": 42,
     "metadata": {},
     "output_type": "execute_result"
    }
   ],
   "source": [
    "value.split(\"-\")"
   ]
  },
  {
   "cell_type": "code",
   "execution_count": 43,
   "id": "0a44c669",
   "metadata": {},
   "outputs": [
    {
     "data": {
      "text/plain": [
       "'0 '"
      ]
     },
     "execution_count": 43,
     "metadata": {},
     "output_type": "execute_result"
    }
   ],
   "source": [
    "# minimum experience\n",
    "value.split(\"-\")[0]"
   ]
  },
  {
   "cell_type": "code",
   "execution_count": 44,
   "id": "64b37b75",
   "metadata": {},
   "outputs": [
    {
     "data": {
      "text/plain": [
       "' 1 yrs'"
      ]
     },
     "execution_count": 44,
     "metadata": {},
     "output_type": "execute_result"
    }
   ],
   "source": [
    "# maximum experience\n",
    "\n",
    "value.split(\"-\")[1]"
   ]
  },
  {
   "cell_type": "code",
   "execution_count": 45,
   "id": "de467ece",
   "metadata": {},
   "outputs": [],
   "source": [
    "def split_exp(exp):\n",
    "    min_exp = exp.split(\"-\")[0]\n",
    "    max_exp = exp.split(\"-\")[1]\n",
    "    return min_exp, max_exp"
   ]
  },
  {
   "cell_type": "code",
   "execution_count": 46,
   "id": "7165a3ba",
   "metadata": {},
   "outputs": [
    {
     "data": {
      "text/plain": [
       "('0 ', ' 1 yrs')"
      ]
     },
     "execution_count": 46,
     "metadata": {},
     "output_type": "execute_result"
    }
   ],
   "source": [
    "split_exp(value)"
   ]
  },
  {
   "cell_type": "code",
   "execution_count": 47,
   "id": "15e76e80",
   "metadata": {},
   "outputs": [],
   "source": [
    "# Checking for some inadequate values in experience column\n",
    "len1 = []\n",
    "for exp in df[\"experience\"].dropna():\n",
    "    if len(exp.split(\"-\")) != 2:\n",
    "        len1.append(exp)"
   ]
  },
  {
   "cell_type": "code",
   "execution_count": 48,
   "id": "0a672d26",
   "metadata": {},
   "outputs": [
    {
     "data": {
      "text/plain": [
       "['Not Mentioned',\n",
       " 'Not Mentioned',\n",
       " 'Not Mentioned',\n",
       " 'Not Mentioned',\n",
       " 'Not Mentioned',\n",
       " 'Not Mentioned',\n",
       " 'Not Mentioned',\n",
       " 'Not Mentioned',\n",
       " 'Not Mentioned',\n",
       " 'Not Mentioned',\n",
       " 'Not Mentioned',\n",
       " 'Not Mentioned',\n",
       " 'Not Mentioned',\n",
       " 'Not Mentioned',\n",
       " 'Not Mentioned',\n",
       " 'Not Mentioned',\n",
       " 'Not Mentioned',\n",
       " 'Not Mentioned',\n",
       " 'Not Mentioned',\n",
       " 'Not Mentioned',\n",
       " 'Not Mentioned',\n",
       " 'Not Mentioned',\n",
       " 'Not Mentioned',\n",
       " 'Not Mentioned',\n",
       " 'Not Mentioned',\n",
       " 'Not Mentioned',\n",
       " 'Not Mentioned',\n",
       " 'Not Mentioned',\n",
       " 'Not Mentioned',\n",
       " 'Not Mentioned',\n",
       " 'Not Mentioned',\n",
       " 'Not Mentioned',\n",
       " 'Not Mentioned',\n",
       " 'Not Mentioned',\n",
       " 'Not Mentioned',\n",
       " 'Not Mentioned',\n",
       " 'Not Mentioned',\n",
       " 'Not Mentioned',\n",
       " 'Not Mentioned',\n",
       " 'Not Mentioned',\n",
       " 'Not Mentioned',\n",
       " 'Not Mentioned',\n",
       " 'Not Mentioned',\n",
       " 'Not Mentioned',\n",
       " 'Not Mentioned',\n",
       " 'Not Mentioned',\n",
       " 'Not Mentioned',\n",
       " 'Not Mentioned',\n",
       " 'Not Mentioned',\n",
       " 'Not Mentioned',\n",
       " 'Not Mentioned',\n",
       " 'Not Mentioned',\n",
       " 'Not Mentioned',\n",
       " 'Not Mentioned',\n",
       " 'Not Mentioned',\n",
       " 'Not Mentioned',\n",
       " 'Not Mentioned',\n",
       " 'Not Mentioned',\n",
       " 'Not Mentioned',\n",
       " 'Not Mentioned',\n",
       " 'Not Mentioned',\n",
       " 'Not Mentioned',\n",
       " 'Not Mentioned',\n",
       " 'Not Mentioned',\n",
       " 'Not Mentioned',\n",
       " 'Not Mentioned',\n",
       " 'Not Mentioned',\n",
       " 'Not Mentioned',\n",
       " 'Not Mentioned',\n",
       " 'Not Mentioned',\n",
       " 'Not Mentioned',\n",
       " 'Not Mentioned',\n",
       " 'Not Mentioned',\n",
       " 'Not Mentioned',\n",
       " 'Not Mentioned',\n",
       " 'Not Mentioned',\n",
       " 'Not Mentioned',\n",
       " 'Not Mentioned',\n",
       " 'Not Mentioned',\n",
       " 'Not Mentioned',\n",
       " 'Not Mentioned',\n",
       " 'Not Mentioned',\n",
       " 'Not Mentioned',\n",
       " 'Not Mentioned',\n",
       " 'Not Mentioned',\n",
       " 'Not Mentioned',\n",
       " 'Not Mentioned',\n",
       " 'Not Mentioned',\n",
       " 'Not Mentioned',\n",
       " 'Not Mentioned',\n",
       " 'Not Mentioned',\n",
       " 'Not Mentioned',\n",
       " 'Not Mentioned',\n",
       " 'Not Mentioned',\n",
       " 'Not Mentioned',\n",
       " 'Not Mentioned',\n",
       " 'Not Mentioned',\n",
       " '3 - -1 yrs',\n",
       " 'Not Mentioned',\n",
       " 'Not Mentioned',\n",
       " 'Not Mentioned',\n",
       " 'Not Mentioned',\n",
       " 'Not Mentioned',\n",
       " 'Not Mentioned',\n",
       " 'Not Mentioned',\n",
       " 'Not Mentioned',\n",
       " 'Not Mentioned',\n",
       " 'Not Mentioned',\n",
       " 'Not Mentioned',\n",
       " 'Not Mentioned',\n",
       " 'Not Mentioned',\n",
       " 'Not Mentioned']"
      ]
     },
     "execution_count": 48,
     "metadata": {},
     "output_type": "execute_result"
    }
   ],
   "source": [
    "len1"
   ]
  },
  {
   "cell_type": "code",
   "execution_count": 49,
   "id": "d0785165",
   "metadata": {},
   "outputs": [],
   "source": [
    "# The use of try and except for adequate values of experience column. \n",
    "\n",
    "def split_exp2(exp):\n",
    "    try:\n",
    "        if len(exp.split('-')) == 2:\n",
    "            min_exp = exp.split(\"-\")[0]\n",
    "            max_exp = exp.split(\"-\")[1]\n",
    "        return pd.Series([min_exp, max_exp])\n",
    "    except:\n",
    "        return pd.Series([np.nan, np.nan])"
   ]
  },
  {
   "cell_type": "code",
   "execution_count": 50,
   "id": "24f7a9ab",
   "metadata": {},
   "outputs": [],
   "source": [
    "# Here, 0th column is the minimum experience and 1st colum is the maximum experience\n",
    "\n",
    "df[[\"min_exp\", \"max_exp\"]] = df[\"experience\"].apply(split_exp2).rename(columns = {0 : \"min_exp\", 1 : \"max_exp\"})"
   ]
  },
  {
   "cell_type": "code",
   "execution_count": 51,
   "id": "46f98c1a",
   "metadata": {},
   "outputs": [
    {
     "data": {
      "text/html": [
       "<div>\n",
       "<style scoped>\n",
       "    .dataframe tbody tr th:only-of-type {\n",
       "        vertical-align: middle;\n",
       "    }\n",
       "\n",
       "    .dataframe tbody tr th {\n",
       "        vertical-align: top;\n",
       "    }\n",
       "\n",
       "    .dataframe thead th {\n",
       "        text-align: right;\n",
       "    }\n",
       "</style>\n",
       "<table border=\"1\" class=\"dataframe\">\n",
       "  <thead>\n",
       "    <tr style=\"text-align: right;\">\n",
       "      <th></th>\n",
       "      <th>experience</th>\n",
       "    </tr>\n",
       "  </thead>\n",
       "  <tbody>\n",
       "    <tr>\n",
       "      <th>1138</th>\n",
       "      <td>True</td>\n",
       "    </tr>\n",
       "    <tr>\n",
       "      <th>5167</th>\n",
       "      <td>True</td>\n",
       "    </tr>\n",
       "    <tr>\n",
       "      <th>7193</th>\n",
       "      <td>True</td>\n",
       "    </tr>\n",
       "    <tr>\n",
       "      <th>7195</th>\n",
       "      <td>True</td>\n",
       "    </tr>\n",
       "    <tr>\n",
       "      <th>7206</th>\n",
       "      <td>True</td>\n",
       "    </tr>\n",
       "    <tr>\n",
       "      <th>...</th>\n",
       "      <td>...</td>\n",
       "    </tr>\n",
       "    <tr>\n",
       "      <th>21295</th>\n",
       "      <td>True</td>\n",
       "    </tr>\n",
       "    <tr>\n",
       "      <th>21315</th>\n",
       "      <td>True</td>\n",
       "    </tr>\n",
       "    <tr>\n",
       "      <th>21397</th>\n",
       "      <td>True</td>\n",
       "    </tr>\n",
       "    <tr>\n",
       "      <th>21430</th>\n",
       "      <td>True</td>\n",
       "    </tr>\n",
       "    <tr>\n",
       "      <th>21584</th>\n",
       "      <td>True</td>\n",
       "    </tr>\n",
       "  </tbody>\n",
       "</table>\n",
       "<p>111 rows × 1 columns</p>\n",
       "</div>"
      ],
      "text/plain": [
       "      experience\n",
       "1138        True\n",
       "5167        True\n",
       "7193        True\n",
       "7195        True\n",
       "7206        True\n",
       "...          ...\n",
       "21295       True\n",
       "21315       True\n",
       "21397       True\n",
       "21430       True\n",
       "21584       True\n",
       "\n",
       "[111 rows x 1 columns]"
      ]
     },
     "execution_count": 51,
     "metadata": {},
     "output_type": "execute_result"
    }
   ],
   "source": [
    "# Checking for the \"not mentioned\" values now\n",
    "\n",
    "not_mentioned = pd.DataFrame(df[\"experience\"].str.contains(\"Not Mentioned\"))\n",
    "not_mentioned[not_mentioned[\"experience\"] == True]"
   ]
  },
  {
   "cell_type": "code",
   "execution_count": 52,
   "id": "4d02d766",
   "metadata": {},
   "outputs": [
    {
     "data": {
      "text/plain": [
       "Int64Index([ 1138,  5167,  7193,  7195,  7206,  7296,  7385,  7452,  7467,\n",
       "             7555,\n",
       "            ...\n",
       "            12988, 12998, 14404, 20342, 20562, 21295, 21315, 21397, 21430,\n",
       "            21584],\n",
       "           dtype='int64', length=111)"
      ]
     },
     "execution_count": 52,
     "metadata": {},
     "output_type": "execute_result"
    }
   ],
   "source": [
    "# Indexes where \"Not mentioned\" is available\n",
    "\n",
    "not_mentioned[not_mentioned[\"experience\"] == True].index"
   ]
  },
  {
   "cell_type": "code",
   "execution_count": 53,
   "id": "6af38da6",
   "metadata": {},
   "outputs": [
    {
     "data": {
      "text/plain": [
       "'Not Mentioned'"
      ]
     },
     "execution_count": 53,
     "metadata": {},
     "output_type": "execute_result"
    }
   ],
   "source": [
    "df[\"experience\"][1138]"
   ]
  },
  {
   "cell_type": "code",
   "execution_count": 54,
   "id": "2a4ad2cc",
   "metadata": {},
   "outputs": [
    {
     "data": {
      "text/plain": [
       "0   NaN\n",
       "1   NaN\n",
       "dtype: float64"
      ]
     },
     "execution_count": 54,
     "metadata": {},
     "output_type": "execute_result"
    }
   ],
   "source": [
    "# Handling \"not mentioned\" values by applying the user defined functions.\n",
    "\n",
    "split_exp2(df[\"experience\"][1138])"
   ]
  },
  {
   "cell_type": "code",
   "execution_count": 55,
   "id": "7ed4c7ca",
   "metadata": {},
   "outputs": [
    {
     "data": {
      "text/html": [
       "<div>\n",
       "<style scoped>\n",
       "    .dataframe tbody tr th:only-of-type {\n",
       "        vertical-align: middle;\n",
       "    }\n",
       "\n",
       "    .dataframe tbody tr th {\n",
       "        vertical-align: top;\n",
       "    }\n",
       "\n",
       "    .dataframe thead th {\n",
       "        text-align: right;\n",
       "    }\n",
       "</style>\n",
       "<table border=\"1\" class=\"dataframe\">\n",
       "  <thead>\n",
       "    <tr style=\"text-align: right;\">\n",
       "      <th></th>\n",
       "      <th>company</th>\n",
       "      <th>education</th>\n",
       "      <th>experience</th>\n",
       "      <th>industry</th>\n",
       "      <th>jobdescription</th>\n",
       "      <th>jobid</th>\n",
       "      <th>joblocation_address</th>\n",
       "      <th>jobtitle</th>\n",
       "      <th>numberofpositions</th>\n",
       "      <th>payrate</th>\n",
       "      <th>postdate</th>\n",
       "      <th>site_name</th>\n",
       "      <th>skills</th>\n",
       "      <th>uniq_id</th>\n",
       "      <th>min_pay</th>\n",
       "      <th>max_pay</th>\n",
       "      <th>min_exp</th>\n",
       "      <th>max_exp</th>\n",
       "    </tr>\n",
       "  </thead>\n",
       "  <tbody>\n",
       "    <tr>\n",
       "      <th>0</th>\n",
       "      <td>MM Media Pvt Ltd</td>\n",
       "      <td>UG: B.Tech/B.E. - Any Specialization PG:Any Po...</td>\n",
       "      <td>0 - 1 yrs</td>\n",
       "      <td>Media / Entertainment / Internet</td>\n",
       "      <td>Job Description   Send me Jobs like this Quali...</td>\n",
       "      <td>210516002263</td>\n",
       "      <td>Chennai</td>\n",
       "      <td>Walkin Data Entry Operator (night Shift)</td>\n",
       "      <td>NaN</td>\n",
       "      <td>1,50,000 - 2,25,000 P.A</td>\n",
       "      <td>2016-05-21 19:30:00 +0000</td>\n",
       "      <td>NaN</td>\n",
       "      <td>ITES</td>\n",
       "      <td>43b19632647068535437c774b6ca6cf8</td>\n",
       "      <td>150000.0</td>\n",
       "      <td>225000.0</td>\n",
       "      <td>0</td>\n",
       "      <td>1 yrs</td>\n",
       "    </tr>\n",
       "    <tr>\n",
       "      <th>1</th>\n",
       "      <td>find live infotech</td>\n",
       "      <td>UG: B.Tech/B.E. - Any Specialization PG:MBA/PG...</td>\n",
       "      <td>0 - 0 yrs</td>\n",
       "      <td>Advertising / PR / MR / Event Management</td>\n",
       "      <td>Job Description   Send me Jobs like this Quali...</td>\n",
       "      <td>210516002391</td>\n",
       "      <td>Chennai</td>\n",
       "      <td>Work Based Onhome Based Part Time.</td>\n",
       "      <td>60.0</td>\n",
       "      <td>1,50,000 - 2,50,000 P.A. 20000</td>\n",
       "      <td>2016-05-21 19:30:00 +0000</td>\n",
       "      <td>NaN</td>\n",
       "      <td>Marketing</td>\n",
       "      <td>d4c72325e57f89f364812b5ed5a795f0</td>\n",
       "      <td>150000.0</td>\n",
       "      <td>250000.0</td>\n",
       "      <td>0</td>\n",
       "      <td>0 yrs</td>\n",
       "    </tr>\n",
       "    <tr>\n",
       "      <th>2</th>\n",
       "      <td>Softtech Career Infosystem Pvt. Ltd</td>\n",
       "      <td>UG: Any Graduate - Any Specialization PG:Any P...</td>\n",
       "      <td>4 - 8 yrs</td>\n",
       "      <td>IT-Software / Software Services</td>\n",
       "      <td>Job Description   Send me Jobs like this - as ...</td>\n",
       "      <td>101016900534</td>\n",
       "      <td>Bengaluru</td>\n",
       "      <td>Pl/sql Developer - SQL</td>\n",
       "      <td>NaN</td>\n",
       "      <td>Not Disclosed by Recruiter</td>\n",
       "      <td>2016-10-13 16:20:55 +0000</td>\n",
       "      <td>NaN</td>\n",
       "      <td>IT Software - Application Programming</td>\n",
       "      <td>c47df6f4cfdf5b46f1fd713ba61b9eba</td>\n",
       "      <td>NaN</td>\n",
       "      <td>NaN</td>\n",
       "      <td>4</td>\n",
       "      <td>8 yrs</td>\n",
       "    </tr>\n",
       "  </tbody>\n",
       "</table>\n",
       "</div>"
      ],
      "text/plain": [
       "                               company  \\\n",
       "0                     MM Media Pvt Ltd   \n",
       "1                   find live infotech   \n",
       "2  Softtech Career Infosystem Pvt. Ltd   \n",
       "\n",
       "                                           education experience  \\\n",
       "0  UG: B.Tech/B.E. - Any Specialization PG:Any Po...  0 - 1 yrs   \n",
       "1  UG: B.Tech/B.E. - Any Specialization PG:MBA/PG...  0 - 0 yrs   \n",
       "2  UG: Any Graduate - Any Specialization PG:Any P...  4 - 8 yrs   \n",
       "\n",
       "                                   industry  \\\n",
       "0          Media / Entertainment / Internet   \n",
       "1  Advertising / PR / MR / Event Management   \n",
       "2           IT-Software / Software Services   \n",
       "\n",
       "                                      jobdescription         jobid  \\\n",
       "0  Job Description   Send me Jobs like this Quali...  210516002263   \n",
       "1  Job Description   Send me Jobs like this Quali...  210516002391   \n",
       "2  Job Description   Send me Jobs like this - as ...  101016900534   \n",
       "\n",
       "  joblocation_address                                  jobtitle  \\\n",
       "0             Chennai  Walkin Data Entry Operator (night Shift)   \n",
       "1             Chennai        Work Based Onhome Based Part Time.   \n",
       "2           Bengaluru                    Pl/sql Developer - SQL   \n",
       "\n",
       "   numberofpositions                         payrate  \\\n",
       "0                NaN         1,50,000 - 2,25,000 P.A   \n",
       "1               60.0  1,50,000 - 2,50,000 P.A. 20000   \n",
       "2                NaN      Not Disclosed by Recruiter   \n",
       "\n",
       "                    postdate site_name                                 skills  \\\n",
       "0  2016-05-21 19:30:00 +0000       NaN                                   ITES   \n",
       "1  2016-05-21 19:30:00 +0000       NaN                              Marketing   \n",
       "2  2016-10-13 16:20:55 +0000       NaN  IT Software - Application Programming   \n",
       "\n",
       "                            uniq_id   min_pay   max_pay min_exp max_exp  \n",
       "0  43b19632647068535437c774b6ca6cf8  150000.0  225000.0      0    1 yrs  \n",
       "1  d4c72325e57f89f364812b5ed5a795f0  150000.0  250000.0      0    0 yrs  \n",
       "2  c47df6f4cfdf5b46f1fd713ba61b9eba       NaN       NaN      4    8 yrs  "
      ]
     },
     "execution_count": 55,
     "metadata": {},
     "output_type": "execute_result"
    }
   ],
   "source": [
    "df.head(3)"
   ]
  },
  {
   "cell_type": "code",
   "execution_count": 56,
   "id": "cef2476c",
   "metadata": {},
   "outputs": [],
   "source": [
    "df[\"max_exp\"] = df[\"max_exp\"].str.replace(\"yrs\", \"\")"
   ]
  },
  {
   "cell_type": "code",
   "execution_count": 57,
   "id": "739f0e88",
   "metadata": {},
   "outputs": [
    {
     "data": {
      "text/html": [
       "<div>\n",
       "<style scoped>\n",
       "    .dataframe tbody tr th:only-of-type {\n",
       "        vertical-align: middle;\n",
       "    }\n",
       "\n",
       "    .dataframe tbody tr th {\n",
       "        vertical-align: top;\n",
       "    }\n",
       "\n",
       "    .dataframe thead th {\n",
       "        text-align: right;\n",
       "    }\n",
       "</style>\n",
       "<table border=\"1\" class=\"dataframe\">\n",
       "  <thead>\n",
       "    <tr style=\"text-align: right;\">\n",
       "      <th></th>\n",
       "      <th>company</th>\n",
       "      <th>education</th>\n",
       "      <th>experience</th>\n",
       "      <th>industry</th>\n",
       "      <th>jobdescription</th>\n",
       "      <th>jobid</th>\n",
       "      <th>joblocation_address</th>\n",
       "      <th>jobtitle</th>\n",
       "      <th>numberofpositions</th>\n",
       "      <th>payrate</th>\n",
       "      <th>postdate</th>\n",
       "      <th>site_name</th>\n",
       "      <th>skills</th>\n",
       "      <th>uniq_id</th>\n",
       "      <th>min_pay</th>\n",
       "      <th>max_pay</th>\n",
       "      <th>min_exp</th>\n",
       "      <th>max_exp</th>\n",
       "    </tr>\n",
       "  </thead>\n",
       "  <tbody>\n",
       "    <tr>\n",
       "      <th>0</th>\n",
       "      <td>MM Media Pvt Ltd</td>\n",
       "      <td>UG: B.Tech/B.E. - Any Specialization PG:Any Po...</td>\n",
       "      <td>0 - 1 yrs</td>\n",
       "      <td>Media / Entertainment / Internet</td>\n",
       "      <td>Job Description   Send me Jobs like this Quali...</td>\n",
       "      <td>210516002263</td>\n",
       "      <td>Chennai</td>\n",
       "      <td>Walkin Data Entry Operator (night Shift)</td>\n",
       "      <td>NaN</td>\n",
       "      <td>1,50,000 - 2,25,000 P.A</td>\n",
       "      <td>2016-05-21 19:30:00 +0000</td>\n",
       "      <td>NaN</td>\n",
       "      <td>ITES</td>\n",
       "      <td>43b19632647068535437c774b6ca6cf8</td>\n",
       "      <td>150000.0</td>\n",
       "      <td>225000.0</td>\n",
       "      <td>0</td>\n",
       "      <td>1</td>\n",
       "    </tr>\n",
       "    <tr>\n",
       "      <th>1</th>\n",
       "      <td>find live infotech</td>\n",
       "      <td>UG: B.Tech/B.E. - Any Specialization PG:MBA/PG...</td>\n",
       "      <td>0 - 0 yrs</td>\n",
       "      <td>Advertising / PR / MR / Event Management</td>\n",
       "      <td>Job Description   Send me Jobs like this Quali...</td>\n",
       "      <td>210516002391</td>\n",
       "      <td>Chennai</td>\n",
       "      <td>Work Based Onhome Based Part Time.</td>\n",
       "      <td>60.0</td>\n",
       "      <td>1,50,000 - 2,50,000 P.A. 20000</td>\n",
       "      <td>2016-05-21 19:30:00 +0000</td>\n",
       "      <td>NaN</td>\n",
       "      <td>Marketing</td>\n",
       "      <td>d4c72325e57f89f364812b5ed5a795f0</td>\n",
       "      <td>150000.0</td>\n",
       "      <td>250000.0</td>\n",
       "      <td>0</td>\n",
       "      <td>0</td>\n",
       "    </tr>\n",
       "  </tbody>\n",
       "</table>\n",
       "</div>"
      ],
      "text/plain": [
       "              company                                          education  \\\n",
       "0    MM Media Pvt Ltd  UG: B.Tech/B.E. - Any Specialization PG:Any Po...   \n",
       "1  find live infotech  UG: B.Tech/B.E. - Any Specialization PG:MBA/PG...   \n",
       "\n",
       "  experience                                  industry  \\\n",
       "0  0 - 1 yrs          Media / Entertainment / Internet   \n",
       "1  0 - 0 yrs  Advertising / PR / MR / Event Management   \n",
       "\n",
       "                                      jobdescription         jobid  \\\n",
       "0  Job Description   Send me Jobs like this Quali...  210516002263   \n",
       "1  Job Description   Send me Jobs like this Quali...  210516002391   \n",
       "\n",
       "  joblocation_address                                  jobtitle  \\\n",
       "0             Chennai  Walkin Data Entry Operator (night Shift)   \n",
       "1             Chennai        Work Based Onhome Based Part Time.   \n",
       "\n",
       "   numberofpositions                         payrate  \\\n",
       "0                NaN         1,50,000 - 2,25,000 P.A   \n",
       "1               60.0  1,50,000 - 2,50,000 P.A. 20000   \n",
       "\n",
       "                    postdate site_name     skills  \\\n",
       "0  2016-05-21 19:30:00 +0000       NaN       ITES   \n",
       "1  2016-05-21 19:30:00 +0000       NaN  Marketing   \n",
       "\n",
       "                            uniq_id   min_pay   max_pay min_exp max_exp  \n",
       "0  43b19632647068535437c774b6ca6cf8  150000.0  225000.0      0       1   \n",
       "1  d4c72325e57f89f364812b5ed5a795f0  150000.0  250000.0      0       0   "
      ]
     },
     "execution_count": 57,
     "metadata": {},
     "output_type": "execute_result"
    }
   ],
   "source": [
    "df.head(2)"
   ]
  },
  {
   "cell_type": "code",
   "execution_count": 58,
   "id": "fe3f591a",
   "metadata": {},
   "outputs": [
    {
     "data": {
      "text/plain": [
       "company                 object\n",
       "education               object\n",
       "experience              object\n",
       "industry                object\n",
       "jobdescription          object\n",
       "jobid                    int64\n",
       "joblocation_address     object\n",
       "jobtitle                object\n",
       "numberofpositions      float64\n",
       "payrate                 object\n",
       "postdate                object\n",
       "site_name               object\n",
       "skills                  object\n",
       "uniq_id                 object\n",
       "min_pay                float64\n",
       "max_pay                float64\n",
       "min_exp                 object\n",
       "max_exp                 object\n",
       "dtype: object"
      ]
     },
     "execution_count": 58,
     "metadata": {},
     "output_type": "execute_result"
    }
   ],
   "source": [
    "df.dtypes"
   ]
  },
  {
   "cell_type": "code",
   "execution_count": 59,
   "id": "ca6faf20",
   "metadata": {},
   "outputs": [],
   "source": [
    "# Converting max_exp and min_exp into float data type\n",
    "\n",
    "df[\"min_exp\"] = df[\"min_exp\"].astype(float)\n",
    "df[\"max_exp\"] = df[\"max_exp\"].astype(float)"
   ]
  },
  {
   "cell_type": "code",
   "execution_count": 60,
   "id": "51a64a78",
   "metadata": {},
   "outputs": [
    {
     "data": {
      "text/plain": [
       "company                 object\n",
       "education               object\n",
       "experience              object\n",
       "industry                object\n",
       "jobdescription          object\n",
       "jobid                    int64\n",
       "joblocation_address     object\n",
       "jobtitle                object\n",
       "numberofpositions      float64\n",
       "payrate                 object\n",
       "postdate                object\n",
       "site_name               object\n",
       "skills                  object\n",
       "uniq_id                 object\n",
       "min_pay                float64\n",
       "max_pay                float64\n",
       "min_exp                float64\n",
       "max_exp                float64\n",
       "dtype: object"
      ]
     },
     "execution_count": 60,
     "metadata": {},
     "output_type": "execute_result"
    }
   ],
   "source": [
    "df.dtypes"
   ]
  },
  {
   "cell_type": "code",
   "execution_count": 61,
   "id": "011040da",
   "metadata": {},
   "outputs": [],
   "source": [
    "# Creating new columns for average experience and average pay\n",
    "\n",
    "df[\"avg_exp\"] = (df[\"min_exp\"] + df[\"max_exp\"])/2\n",
    "\n",
    "df[\"avg_pay\"] = (df[\"min_pay\"] + df[\"max_pay\"])/2"
   ]
  },
  {
   "cell_type": "code",
   "execution_count": 62,
   "id": "a80f3048",
   "metadata": {},
   "outputs": [
    {
     "data": {
      "text/html": [
       "<div>\n",
       "<style scoped>\n",
       "    .dataframe tbody tr th:only-of-type {\n",
       "        vertical-align: middle;\n",
       "    }\n",
       "\n",
       "    .dataframe tbody tr th {\n",
       "        vertical-align: top;\n",
       "    }\n",
       "\n",
       "    .dataframe thead th {\n",
       "        text-align: right;\n",
       "    }\n",
       "</style>\n",
       "<table border=\"1\" class=\"dataframe\">\n",
       "  <thead>\n",
       "    <tr style=\"text-align: right;\">\n",
       "      <th></th>\n",
       "      <th>company</th>\n",
       "      <th>education</th>\n",
       "      <th>experience</th>\n",
       "      <th>industry</th>\n",
       "      <th>jobdescription</th>\n",
       "      <th>jobid</th>\n",
       "      <th>joblocation_address</th>\n",
       "      <th>jobtitle</th>\n",
       "      <th>numberofpositions</th>\n",
       "      <th>payrate</th>\n",
       "      <th>postdate</th>\n",
       "      <th>site_name</th>\n",
       "      <th>skills</th>\n",
       "      <th>uniq_id</th>\n",
       "      <th>min_pay</th>\n",
       "      <th>max_pay</th>\n",
       "      <th>min_exp</th>\n",
       "      <th>max_exp</th>\n",
       "      <th>avg_exp</th>\n",
       "      <th>avg_pay</th>\n",
       "    </tr>\n",
       "  </thead>\n",
       "  <tbody>\n",
       "    <tr>\n",
       "      <th>0</th>\n",
       "      <td>MM Media Pvt Ltd</td>\n",
       "      <td>UG: B.Tech/B.E. - Any Specialization PG:Any Po...</td>\n",
       "      <td>0 - 1 yrs</td>\n",
       "      <td>Media / Entertainment / Internet</td>\n",
       "      <td>Job Description   Send me Jobs like this Quali...</td>\n",
       "      <td>210516002263</td>\n",
       "      <td>Chennai</td>\n",
       "      <td>Walkin Data Entry Operator (night Shift)</td>\n",
       "      <td>NaN</td>\n",
       "      <td>1,50,000 - 2,25,000 P.A</td>\n",
       "      <td>2016-05-21 19:30:00 +0000</td>\n",
       "      <td>NaN</td>\n",
       "      <td>ITES</td>\n",
       "      <td>43b19632647068535437c774b6ca6cf8</td>\n",
       "      <td>150000.0</td>\n",
       "      <td>225000.0</td>\n",
       "      <td>0.0</td>\n",
       "      <td>1.0</td>\n",
       "      <td>0.5</td>\n",
       "      <td>187500.0</td>\n",
       "    </tr>\n",
       "    <tr>\n",
       "      <th>1</th>\n",
       "      <td>find live infotech</td>\n",
       "      <td>UG: B.Tech/B.E. - Any Specialization PG:MBA/PG...</td>\n",
       "      <td>0 - 0 yrs</td>\n",
       "      <td>Advertising / PR / MR / Event Management</td>\n",
       "      <td>Job Description   Send me Jobs like this Quali...</td>\n",
       "      <td>210516002391</td>\n",
       "      <td>Chennai</td>\n",
       "      <td>Work Based Onhome Based Part Time.</td>\n",
       "      <td>60.0</td>\n",
       "      <td>1,50,000 - 2,50,000 P.A. 20000</td>\n",
       "      <td>2016-05-21 19:30:00 +0000</td>\n",
       "      <td>NaN</td>\n",
       "      <td>Marketing</td>\n",
       "      <td>d4c72325e57f89f364812b5ed5a795f0</td>\n",
       "      <td>150000.0</td>\n",
       "      <td>250000.0</td>\n",
       "      <td>0.0</td>\n",
       "      <td>0.0</td>\n",
       "      <td>0.0</td>\n",
       "      <td>200000.0</td>\n",
       "    </tr>\n",
       "    <tr>\n",
       "      <th>2</th>\n",
       "      <td>Softtech Career Infosystem Pvt. Ltd</td>\n",
       "      <td>UG: Any Graduate - Any Specialization PG:Any P...</td>\n",
       "      <td>4 - 8 yrs</td>\n",
       "      <td>IT-Software / Software Services</td>\n",
       "      <td>Job Description   Send me Jobs like this - as ...</td>\n",
       "      <td>101016900534</td>\n",
       "      <td>Bengaluru</td>\n",
       "      <td>Pl/sql Developer - SQL</td>\n",
       "      <td>NaN</td>\n",
       "      <td>Not Disclosed by Recruiter</td>\n",
       "      <td>2016-10-13 16:20:55 +0000</td>\n",
       "      <td>NaN</td>\n",
       "      <td>IT Software - Application Programming</td>\n",
       "      <td>c47df6f4cfdf5b46f1fd713ba61b9eba</td>\n",
       "      <td>NaN</td>\n",
       "      <td>NaN</td>\n",
       "      <td>4.0</td>\n",
       "      <td>8.0</td>\n",
       "      <td>6.0</td>\n",
       "      <td>NaN</td>\n",
       "    </tr>\n",
       "  </tbody>\n",
       "</table>\n",
       "</div>"
      ],
      "text/plain": [
       "                               company  \\\n",
       "0                     MM Media Pvt Ltd   \n",
       "1                   find live infotech   \n",
       "2  Softtech Career Infosystem Pvt. Ltd   \n",
       "\n",
       "                                           education experience  \\\n",
       "0  UG: B.Tech/B.E. - Any Specialization PG:Any Po...  0 - 1 yrs   \n",
       "1  UG: B.Tech/B.E. - Any Specialization PG:MBA/PG...  0 - 0 yrs   \n",
       "2  UG: Any Graduate - Any Specialization PG:Any P...  4 - 8 yrs   \n",
       "\n",
       "                                   industry  \\\n",
       "0          Media / Entertainment / Internet   \n",
       "1  Advertising / PR / MR / Event Management   \n",
       "2           IT-Software / Software Services   \n",
       "\n",
       "                                      jobdescription         jobid  \\\n",
       "0  Job Description   Send me Jobs like this Quali...  210516002263   \n",
       "1  Job Description   Send me Jobs like this Quali...  210516002391   \n",
       "2  Job Description   Send me Jobs like this - as ...  101016900534   \n",
       "\n",
       "  joblocation_address                                  jobtitle  \\\n",
       "0             Chennai  Walkin Data Entry Operator (night Shift)   \n",
       "1             Chennai        Work Based Onhome Based Part Time.   \n",
       "2           Bengaluru                    Pl/sql Developer - SQL   \n",
       "\n",
       "   numberofpositions                         payrate  \\\n",
       "0                NaN         1,50,000 - 2,25,000 P.A   \n",
       "1               60.0  1,50,000 - 2,50,000 P.A. 20000   \n",
       "2                NaN      Not Disclosed by Recruiter   \n",
       "\n",
       "                    postdate site_name                                 skills  \\\n",
       "0  2016-05-21 19:30:00 +0000       NaN                                   ITES   \n",
       "1  2016-05-21 19:30:00 +0000       NaN                              Marketing   \n",
       "2  2016-10-13 16:20:55 +0000       NaN  IT Software - Application Programming   \n",
       "\n",
       "                            uniq_id   min_pay   max_pay  min_exp  max_exp  \\\n",
       "0  43b19632647068535437c774b6ca6cf8  150000.0  225000.0      0.0      1.0   \n",
       "1  d4c72325e57f89f364812b5ed5a795f0  150000.0  250000.0      0.0      0.0   \n",
       "2  c47df6f4cfdf5b46f1fd713ba61b9eba       NaN       NaN      4.0      8.0   \n",
       "\n",
       "   avg_exp   avg_pay  \n",
       "0      0.5  187500.0  \n",
       "1      0.0  200000.0  \n",
       "2      6.0       NaN  "
      ]
     },
     "execution_count": 62,
     "metadata": {},
     "output_type": "execute_result"
    }
   ],
   "source": [
    "df.head(3)"
   ]
  },
  {
   "cell_type": "markdown",
   "id": "40b9dbec",
   "metadata": {},
   "source": [
    "### Postdate column"
   ]
  },
  {
   "cell_type": "code",
   "execution_count": 63,
   "id": "8ac2bf9d",
   "metadata": {},
   "outputs": [
    {
     "data": {
      "text/plain": [
       "dtype('O')"
      ]
     },
     "execution_count": 63,
     "metadata": {},
     "output_type": "execute_result"
    }
   ],
   "source": [
    "df[\"postdate\"].dtypes"
   ]
  },
  {
   "cell_type": "code",
   "execution_count": 64,
   "id": "42407e9e",
   "metadata": {},
   "outputs": [],
   "source": [
    "# Converting it into DateTime data type\n",
    "\n",
    "df[\"postdate\"] = pd.to_datetime(df[\"postdate\"])"
   ]
  },
  {
   "cell_type": "code",
   "execution_count": 65,
   "id": "572c3b0d",
   "metadata": {},
   "outputs": [
    {
     "data": {
      "text/plain": [
       "datetime64[ns, UTC]"
      ]
     },
     "execution_count": 65,
     "metadata": {},
     "output_type": "execute_result"
    }
   ],
   "source": [
    "df[\"postdate\"].dtypes"
   ]
  },
  {
   "cell_type": "code",
   "execution_count": 66,
   "id": "48ecc95f",
   "metadata": {},
   "outputs": [],
   "source": [
    "def fetch_dt_att(x):\n",
    "    return ([x.day, x.month, x.year])"
   ]
  },
  {
   "cell_type": "code",
   "execution_count": 67,
   "id": "7b38ba44",
   "metadata": {},
   "outputs": [],
   "source": [
    "fe_date = pd.DataFrame(map(fetch_dt_att, df[\"postdate\"])).rename(columns = {0: \"day\", 1:\"month\", 2 : \"year\"})"
   ]
  },
  {
   "cell_type": "code",
   "execution_count": 68,
   "id": "c6d79fd1",
   "metadata": {},
   "outputs": [
    {
     "data": {
      "text/html": [
       "<div>\n",
       "<style scoped>\n",
       "    .dataframe tbody tr th:only-of-type {\n",
       "        vertical-align: middle;\n",
       "    }\n",
       "\n",
       "    .dataframe tbody tr th {\n",
       "        vertical-align: top;\n",
       "    }\n",
       "\n",
       "    .dataframe thead th {\n",
       "        text-align: right;\n",
       "    }\n",
       "</style>\n",
       "<table border=\"1\" class=\"dataframe\">\n",
       "  <thead>\n",
       "    <tr style=\"text-align: right;\">\n",
       "      <th></th>\n",
       "      <th>day</th>\n",
       "      <th>month</th>\n",
       "      <th>year</th>\n",
       "    </tr>\n",
       "  </thead>\n",
       "  <tbody>\n",
       "    <tr>\n",
       "      <th>0</th>\n",
       "      <td>21.0</td>\n",
       "      <td>5.0</td>\n",
       "      <td>2016.0</td>\n",
       "    </tr>\n",
       "    <tr>\n",
       "      <th>1</th>\n",
       "      <td>21.0</td>\n",
       "      <td>5.0</td>\n",
       "      <td>2016.0</td>\n",
       "    </tr>\n",
       "    <tr>\n",
       "      <th>2</th>\n",
       "      <td>13.0</td>\n",
       "      <td>10.0</td>\n",
       "      <td>2016.0</td>\n",
       "    </tr>\n",
       "    <tr>\n",
       "      <th>3</th>\n",
       "      <td>13.0</td>\n",
       "      <td>10.0</td>\n",
       "      <td>2016.0</td>\n",
       "    </tr>\n",
       "    <tr>\n",
       "      <th>4</th>\n",
       "      <td>13.0</td>\n",
       "      <td>10.0</td>\n",
       "      <td>2016.0</td>\n",
       "    </tr>\n",
       "    <tr>\n",
       "      <th>...</th>\n",
       "      <td>...</td>\n",
       "      <td>...</td>\n",
       "      <td>...</td>\n",
       "    </tr>\n",
       "    <tr>\n",
       "      <th>21995</th>\n",
       "      <td>25.0</td>\n",
       "      <td>11.0</td>\n",
       "      <td>2016.0</td>\n",
       "    </tr>\n",
       "    <tr>\n",
       "      <th>21996</th>\n",
       "      <td>24.0</td>\n",
       "      <td>11.0</td>\n",
       "      <td>2016.0</td>\n",
       "    </tr>\n",
       "    <tr>\n",
       "      <th>21997</th>\n",
       "      <td>25.0</td>\n",
       "      <td>11.0</td>\n",
       "      <td>2016.0</td>\n",
       "    </tr>\n",
       "    <tr>\n",
       "      <th>21998</th>\n",
       "      <td>27.0</td>\n",
       "      <td>11.0</td>\n",
       "      <td>2016.0</td>\n",
       "    </tr>\n",
       "    <tr>\n",
       "      <th>21999</th>\n",
       "      <td>25.0</td>\n",
       "      <td>11.0</td>\n",
       "      <td>2016.0</td>\n",
       "    </tr>\n",
       "  </tbody>\n",
       "</table>\n",
       "<p>22000 rows × 3 columns</p>\n",
       "</div>"
      ],
      "text/plain": [
       "        day  month    year\n",
       "0      21.0    5.0  2016.0\n",
       "1      21.0    5.0  2016.0\n",
       "2      13.0   10.0  2016.0\n",
       "3      13.0   10.0  2016.0\n",
       "4      13.0   10.0  2016.0\n",
       "...     ...    ...     ...\n",
       "21995  25.0   11.0  2016.0\n",
       "21996  24.0   11.0  2016.0\n",
       "21997  25.0   11.0  2016.0\n",
       "21998  27.0   11.0  2016.0\n",
       "21999  25.0   11.0  2016.0\n",
       "\n",
       "[22000 rows x 3 columns]"
      ]
     },
     "execution_count": 68,
     "metadata": {},
     "output_type": "execute_result"
    }
   ],
   "source": [
    "fe_date"
   ]
  },
  {
   "cell_type": "code",
   "execution_count": 69,
   "id": "1fa85e3f",
   "metadata": {},
   "outputs": [],
   "source": [
    "df = pd.concat([df, fe_date], axis = 1)"
   ]
  },
  {
   "cell_type": "code",
   "execution_count": 70,
   "id": "099f81f5",
   "metadata": {},
   "outputs": [
    {
     "data": {
      "text/html": [
       "<div>\n",
       "<style scoped>\n",
       "    .dataframe tbody tr th:only-of-type {\n",
       "        vertical-align: middle;\n",
       "    }\n",
       "\n",
       "    .dataframe tbody tr th {\n",
       "        vertical-align: top;\n",
       "    }\n",
       "\n",
       "    .dataframe thead th {\n",
       "        text-align: right;\n",
       "    }\n",
       "</style>\n",
       "<table border=\"1\" class=\"dataframe\">\n",
       "  <thead>\n",
       "    <tr style=\"text-align: right;\">\n",
       "      <th></th>\n",
       "      <th>company</th>\n",
       "      <th>education</th>\n",
       "      <th>experience</th>\n",
       "      <th>industry</th>\n",
       "      <th>jobdescription</th>\n",
       "      <th>jobid</th>\n",
       "      <th>joblocation_address</th>\n",
       "      <th>jobtitle</th>\n",
       "      <th>numberofpositions</th>\n",
       "      <th>payrate</th>\n",
       "      <th>...</th>\n",
       "      <th>uniq_id</th>\n",
       "      <th>min_pay</th>\n",
       "      <th>max_pay</th>\n",
       "      <th>min_exp</th>\n",
       "      <th>max_exp</th>\n",
       "      <th>avg_exp</th>\n",
       "      <th>avg_pay</th>\n",
       "      <th>day</th>\n",
       "      <th>month</th>\n",
       "      <th>year</th>\n",
       "    </tr>\n",
       "  </thead>\n",
       "  <tbody>\n",
       "    <tr>\n",
       "      <th>0</th>\n",
       "      <td>MM Media Pvt Ltd</td>\n",
       "      <td>UG: B.Tech/B.E. - Any Specialization PG:Any Po...</td>\n",
       "      <td>0 - 1 yrs</td>\n",
       "      <td>Media / Entertainment / Internet</td>\n",
       "      <td>Job Description   Send me Jobs like this Quali...</td>\n",
       "      <td>210516002263</td>\n",
       "      <td>Chennai</td>\n",
       "      <td>Walkin Data Entry Operator (night Shift)</td>\n",
       "      <td>NaN</td>\n",
       "      <td>1,50,000 - 2,25,000 P.A</td>\n",
       "      <td>...</td>\n",
       "      <td>43b19632647068535437c774b6ca6cf8</td>\n",
       "      <td>150000.0</td>\n",
       "      <td>225000.0</td>\n",
       "      <td>0.0</td>\n",
       "      <td>1.0</td>\n",
       "      <td>0.5</td>\n",
       "      <td>187500.0</td>\n",
       "      <td>21.0</td>\n",
       "      <td>5.0</td>\n",
       "      <td>2016.0</td>\n",
       "    </tr>\n",
       "    <tr>\n",
       "      <th>1</th>\n",
       "      <td>find live infotech</td>\n",
       "      <td>UG: B.Tech/B.E. - Any Specialization PG:MBA/PG...</td>\n",
       "      <td>0 - 0 yrs</td>\n",
       "      <td>Advertising / PR / MR / Event Management</td>\n",
       "      <td>Job Description   Send me Jobs like this Quali...</td>\n",
       "      <td>210516002391</td>\n",
       "      <td>Chennai</td>\n",
       "      <td>Work Based Onhome Based Part Time.</td>\n",
       "      <td>60.0</td>\n",
       "      <td>1,50,000 - 2,50,000 P.A. 20000</td>\n",
       "      <td>...</td>\n",
       "      <td>d4c72325e57f89f364812b5ed5a795f0</td>\n",
       "      <td>150000.0</td>\n",
       "      <td>250000.0</td>\n",
       "      <td>0.0</td>\n",
       "      <td>0.0</td>\n",
       "      <td>0.0</td>\n",
       "      <td>200000.0</td>\n",
       "      <td>21.0</td>\n",
       "      <td>5.0</td>\n",
       "      <td>2016.0</td>\n",
       "    </tr>\n",
       "    <tr>\n",
       "      <th>2</th>\n",
       "      <td>Softtech Career Infosystem Pvt. Ltd</td>\n",
       "      <td>UG: Any Graduate - Any Specialization PG:Any P...</td>\n",
       "      <td>4 - 8 yrs</td>\n",
       "      <td>IT-Software / Software Services</td>\n",
       "      <td>Job Description   Send me Jobs like this - as ...</td>\n",
       "      <td>101016900534</td>\n",
       "      <td>Bengaluru</td>\n",
       "      <td>Pl/sql Developer - SQL</td>\n",
       "      <td>NaN</td>\n",
       "      <td>Not Disclosed by Recruiter</td>\n",
       "      <td>...</td>\n",
       "      <td>c47df6f4cfdf5b46f1fd713ba61b9eba</td>\n",
       "      <td>NaN</td>\n",
       "      <td>NaN</td>\n",
       "      <td>4.0</td>\n",
       "      <td>8.0</td>\n",
       "      <td>6.0</td>\n",
       "      <td>NaN</td>\n",
       "      <td>13.0</td>\n",
       "      <td>10.0</td>\n",
       "      <td>2016.0</td>\n",
       "    </tr>\n",
       "  </tbody>\n",
       "</table>\n",
       "<p>3 rows × 23 columns</p>\n",
       "</div>"
      ],
      "text/plain": [
       "                               company  \\\n",
       "0                     MM Media Pvt Ltd   \n",
       "1                   find live infotech   \n",
       "2  Softtech Career Infosystem Pvt. Ltd   \n",
       "\n",
       "                                           education experience  \\\n",
       "0  UG: B.Tech/B.E. - Any Specialization PG:Any Po...  0 - 1 yrs   \n",
       "1  UG: B.Tech/B.E. - Any Specialization PG:MBA/PG...  0 - 0 yrs   \n",
       "2  UG: Any Graduate - Any Specialization PG:Any P...  4 - 8 yrs   \n",
       "\n",
       "                                   industry  \\\n",
       "0          Media / Entertainment / Internet   \n",
       "1  Advertising / PR / MR / Event Management   \n",
       "2           IT-Software / Software Services   \n",
       "\n",
       "                                      jobdescription         jobid  \\\n",
       "0  Job Description   Send me Jobs like this Quali...  210516002263   \n",
       "1  Job Description   Send me Jobs like this Quali...  210516002391   \n",
       "2  Job Description   Send me Jobs like this - as ...  101016900534   \n",
       "\n",
       "  joblocation_address                                  jobtitle  \\\n",
       "0             Chennai  Walkin Data Entry Operator (night Shift)   \n",
       "1             Chennai        Work Based Onhome Based Part Time.   \n",
       "2           Bengaluru                    Pl/sql Developer - SQL   \n",
       "\n",
       "   numberofpositions                         payrate  ...  \\\n",
       "0                NaN         1,50,000 - 2,25,000 P.A  ...   \n",
       "1               60.0  1,50,000 - 2,50,000 P.A. 20000  ...   \n",
       "2                NaN      Not Disclosed by Recruiter  ...   \n",
       "\n",
       "                            uniq_id   min_pay   max_pay min_exp  max_exp  \\\n",
       "0  43b19632647068535437c774b6ca6cf8  150000.0  225000.0     0.0      1.0   \n",
       "1  d4c72325e57f89f364812b5ed5a795f0  150000.0  250000.0     0.0      0.0   \n",
       "2  c47df6f4cfdf5b46f1fd713ba61b9eba       NaN       NaN     4.0      8.0   \n",
       "\n",
       "   avg_exp   avg_pay   day  month    year  \n",
       "0      0.5  187500.0  21.0    5.0  2016.0  \n",
       "1      0.0  200000.0  21.0    5.0  2016.0  \n",
       "2      6.0       NaN  13.0   10.0  2016.0  \n",
       "\n",
       "[3 rows x 23 columns]"
      ]
     },
     "execution_count": 70,
     "metadata": {},
     "output_type": "execute_result"
    }
   ],
   "source": [
    "df.head(3)"
   ]
  },
  {
   "cell_type": "markdown",
   "id": "e9fff2b7",
   "metadata": {},
   "source": [
    "## Converting this dataset into csv"
   ]
  },
  {
   "cell_type": "code",
   "execution_count": 71,
   "id": "d1d54525",
   "metadata": {},
   "outputs": [],
   "source": [
    "df.to_csv(r\"C:\\Users\\lovep\\OneDrive\\Desktop\\Job market project/job_market_data.csv\", index = False)"
   ]
  },
  {
   "cell_type": "markdown",
   "id": "4a6b67c8",
   "metadata": {},
   "source": [
    "## Descriptive statistics on cleaned dataset"
   ]
  },
  {
   "cell_type": "code",
   "execution_count": 72,
   "id": "a176ff55",
   "metadata": {},
   "outputs": [
    {
     "data": {
      "text/html": [
       "<div>\n",
       "<style scoped>\n",
       "    .dataframe tbody tr th:only-of-type {\n",
       "        vertical-align: middle;\n",
       "    }\n",
       "\n",
       "    .dataframe tbody tr th {\n",
       "        vertical-align: top;\n",
       "    }\n",
       "\n",
       "    .dataframe thead th {\n",
       "        text-align: right;\n",
       "    }\n",
       "</style>\n",
       "<table border=\"1\" class=\"dataframe\">\n",
       "  <thead>\n",
       "    <tr style=\"text-align: right;\">\n",
       "      <th></th>\n",
       "      <th>company</th>\n",
       "      <th>education</th>\n",
       "      <th>experience</th>\n",
       "      <th>industry</th>\n",
       "      <th>jobdescription</th>\n",
       "      <th>jobid</th>\n",
       "      <th>joblocation_address</th>\n",
       "      <th>jobtitle</th>\n",
       "      <th>numberofpositions</th>\n",
       "      <th>payrate</th>\n",
       "      <th>...</th>\n",
       "      <th>uniq_id</th>\n",
       "      <th>min_pay</th>\n",
       "      <th>max_pay</th>\n",
       "      <th>min_exp</th>\n",
       "      <th>max_exp</th>\n",
       "      <th>avg_exp</th>\n",
       "      <th>avg_pay</th>\n",
       "      <th>day</th>\n",
       "      <th>month</th>\n",
       "      <th>year</th>\n",
       "    </tr>\n",
       "  </thead>\n",
       "  <tbody>\n",
       "    <tr>\n",
       "      <th>0</th>\n",
       "      <td>MM Media Pvt Ltd</td>\n",
       "      <td>UG: B.Tech/B.E. - Any Specialization PG:Any Po...</td>\n",
       "      <td>0 - 1 yrs</td>\n",
       "      <td>Media / Entertainment / Internet</td>\n",
       "      <td>Job Description   Send me Jobs like this Quali...</td>\n",
       "      <td>210516002263</td>\n",
       "      <td>Chennai</td>\n",
       "      <td>Walkin Data Entry Operator (night Shift)</td>\n",
       "      <td>NaN</td>\n",
       "      <td>1,50,000 - 2,25,000 P.A</td>\n",
       "      <td>...</td>\n",
       "      <td>43b19632647068535437c774b6ca6cf8</td>\n",
       "      <td>150000.0</td>\n",
       "      <td>225000.0</td>\n",
       "      <td>0.0</td>\n",
       "      <td>1.0</td>\n",
       "      <td>0.5</td>\n",
       "      <td>187500.0</td>\n",
       "      <td>21.0</td>\n",
       "      <td>5.0</td>\n",
       "      <td>2016.0</td>\n",
       "    </tr>\n",
       "    <tr>\n",
       "      <th>1</th>\n",
       "      <td>find live infotech</td>\n",
       "      <td>UG: B.Tech/B.E. - Any Specialization PG:MBA/PG...</td>\n",
       "      <td>0 - 0 yrs</td>\n",
       "      <td>Advertising / PR / MR / Event Management</td>\n",
       "      <td>Job Description   Send me Jobs like this Quali...</td>\n",
       "      <td>210516002391</td>\n",
       "      <td>Chennai</td>\n",
       "      <td>Work Based Onhome Based Part Time.</td>\n",
       "      <td>60.0</td>\n",
       "      <td>1,50,000 - 2,50,000 P.A. 20000</td>\n",
       "      <td>...</td>\n",
       "      <td>d4c72325e57f89f364812b5ed5a795f0</td>\n",
       "      <td>150000.0</td>\n",
       "      <td>250000.0</td>\n",
       "      <td>0.0</td>\n",
       "      <td>0.0</td>\n",
       "      <td>0.0</td>\n",
       "      <td>200000.0</td>\n",
       "      <td>21.0</td>\n",
       "      <td>5.0</td>\n",
       "      <td>2016.0</td>\n",
       "    </tr>\n",
       "    <tr>\n",
       "      <th>2</th>\n",
       "      <td>Softtech Career Infosystem Pvt. Ltd</td>\n",
       "      <td>UG: Any Graduate - Any Specialization PG:Any P...</td>\n",
       "      <td>4 - 8 yrs</td>\n",
       "      <td>IT-Software / Software Services</td>\n",
       "      <td>Job Description   Send me Jobs like this - as ...</td>\n",
       "      <td>101016900534</td>\n",
       "      <td>Bengaluru</td>\n",
       "      <td>Pl/sql Developer - SQL</td>\n",
       "      <td>NaN</td>\n",
       "      <td>Not Disclosed by Recruiter</td>\n",
       "      <td>...</td>\n",
       "      <td>c47df6f4cfdf5b46f1fd713ba61b9eba</td>\n",
       "      <td>NaN</td>\n",
       "      <td>NaN</td>\n",
       "      <td>4.0</td>\n",
       "      <td>8.0</td>\n",
       "      <td>6.0</td>\n",
       "      <td>NaN</td>\n",
       "      <td>13.0</td>\n",
       "      <td>10.0</td>\n",
       "      <td>2016.0</td>\n",
       "    </tr>\n",
       "    <tr>\n",
       "      <th>3</th>\n",
       "      <td>Onboard HRServices LLP</td>\n",
       "      <td>UG: Any Graduate - Any Specialization PG:CA Do...</td>\n",
       "      <td>11 - 15 yrs</td>\n",
       "      <td>Banking / Financial Services / Broking</td>\n",
       "      <td>Job Description   Send me Jobs like this - Inv...</td>\n",
       "      <td>81016900536</td>\n",
       "      <td>Mumbai, Bengaluru, Kolkata, Chennai, Coimbator...</td>\n",
       "      <td>Manager/ad/partner - Indirect Tax - CA</td>\n",
       "      <td>NaN</td>\n",
       "      <td>Not Disclosed by Recruiter</td>\n",
       "      <td>...</td>\n",
       "      <td>115d28f140f694dd1cc61c53d03c66ae</td>\n",
       "      <td>NaN</td>\n",
       "      <td>NaN</td>\n",
       "      <td>11.0</td>\n",
       "      <td>15.0</td>\n",
       "      <td>13.0</td>\n",
       "      <td>NaN</td>\n",
       "      <td>13.0</td>\n",
       "      <td>10.0</td>\n",
       "      <td>2016.0</td>\n",
       "    </tr>\n",
       "    <tr>\n",
       "      <th>4</th>\n",
       "      <td>Spire Technologies and Solutions Pvt. Ltd.</td>\n",
       "      <td>UG: B.Tech/B.E. - Any Specialization PG:Any Po...</td>\n",
       "      <td>6 - 8 yrs</td>\n",
       "      <td>IT-Software / Software Services</td>\n",
       "      <td>Job Description   Send me Jobs like this Pleas...</td>\n",
       "      <td>120916002122</td>\n",
       "      <td>Bengaluru</td>\n",
       "      <td>JAVA Technical Lead (6-8 yrs) -</td>\n",
       "      <td>4.0</td>\n",
       "      <td>Not Disclosed by Recruiter</td>\n",
       "      <td>...</td>\n",
       "      <td>a12553fc03bc7bcced8b1bb8963f97b4</td>\n",
       "      <td>NaN</td>\n",
       "      <td>NaN</td>\n",
       "      <td>6.0</td>\n",
       "      <td>8.0</td>\n",
       "      <td>7.0</td>\n",
       "      <td>NaN</td>\n",
       "      <td>13.0</td>\n",
       "      <td>10.0</td>\n",
       "      <td>2016.0</td>\n",
       "    </tr>\n",
       "  </tbody>\n",
       "</table>\n",
       "<p>5 rows × 23 columns</p>\n",
       "</div>"
      ],
      "text/plain": [
       "                                      company  \\\n",
       "0                            MM Media Pvt Ltd   \n",
       "1                          find live infotech   \n",
       "2         Softtech Career Infosystem Pvt. Ltd   \n",
       "3                      Onboard HRServices LLP   \n",
       "4  Spire Technologies and Solutions Pvt. Ltd.   \n",
       "\n",
       "                                           education   experience  \\\n",
       "0  UG: B.Tech/B.E. - Any Specialization PG:Any Po...    0 - 1 yrs   \n",
       "1  UG: B.Tech/B.E. - Any Specialization PG:MBA/PG...    0 - 0 yrs   \n",
       "2  UG: Any Graduate - Any Specialization PG:Any P...    4 - 8 yrs   \n",
       "3  UG: Any Graduate - Any Specialization PG:CA Do...  11 - 15 yrs   \n",
       "4  UG: B.Tech/B.E. - Any Specialization PG:Any Po...    6 - 8 yrs   \n",
       "\n",
       "                                   industry  \\\n",
       "0          Media / Entertainment / Internet   \n",
       "1  Advertising / PR / MR / Event Management   \n",
       "2           IT-Software / Software Services   \n",
       "3    Banking / Financial Services / Broking   \n",
       "4           IT-Software / Software Services   \n",
       "\n",
       "                                      jobdescription         jobid  \\\n",
       "0  Job Description   Send me Jobs like this Quali...  210516002263   \n",
       "1  Job Description   Send me Jobs like this Quali...  210516002391   \n",
       "2  Job Description   Send me Jobs like this - as ...  101016900534   \n",
       "3  Job Description   Send me Jobs like this - Inv...   81016900536   \n",
       "4  Job Description   Send me Jobs like this Pleas...  120916002122   \n",
       "\n",
       "                                 joblocation_address  \\\n",
       "0                                            Chennai   \n",
       "1                                            Chennai   \n",
       "2                                          Bengaluru   \n",
       "3  Mumbai, Bengaluru, Kolkata, Chennai, Coimbator...   \n",
       "4                                          Bengaluru   \n",
       "\n",
       "                                   jobtitle  numberofpositions  \\\n",
       "0  Walkin Data Entry Operator (night Shift)                NaN   \n",
       "1        Work Based Onhome Based Part Time.               60.0   \n",
       "2                    Pl/sql Developer - SQL                NaN   \n",
       "3    Manager/ad/partner - Indirect Tax - CA                NaN   \n",
       "4           JAVA Technical Lead (6-8 yrs) -                4.0   \n",
       "\n",
       "                          payrate  ...                           uniq_id  \\\n",
       "0         1,50,000 - 2,25,000 P.A  ...  43b19632647068535437c774b6ca6cf8   \n",
       "1  1,50,000 - 2,50,000 P.A. 20000  ...  d4c72325e57f89f364812b5ed5a795f0   \n",
       "2      Not Disclosed by Recruiter  ...  c47df6f4cfdf5b46f1fd713ba61b9eba   \n",
       "3      Not Disclosed by Recruiter  ...  115d28f140f694dd1cc61c53d03c66ae   \n",
       "4      Not Disclosed by Recruiter  ...  a12553fc03bc7bcced8b1bb8963f97b4   \n",
       "\n",
       "    min_pay   max_pay min_exp  max_exp  avg_exp   avg_pay   day  month    year  \n",
       "0  150000.0  225000.0     0.0      1.0      0.5  187500.0  21.0    5.0  2016.0  \n",
       "1  150000.0  250000.0     0.0      0.0      0.0  200000.0  21.0    5.0  2016.0  \n",
       "2       NaN       NaN     4.0      8.0      6.0       NaN  13.0   10.0  2016.0  \n",
       "3       NaN       NaN    11.0     15.0     13.0       NaN  13.0   10.0  2016.0  \n",
       "4       NaN       NaN     6.0      8.0      7.0       NaN  13.0   10.0  2016.0  \n",
       "\n",
       "[5 rows x 23 columns]"
      ]
     },
     "execution_count": 72,
     "metadata": {},
     "output_type": "execute_result"
    }
   ],
   "source": [
    "df1 = pd.read_csv(r\"C:\\Users\\lovep\\OneDrive\\Desktop\\Job market project/job_market_data.csv\")\n",
    "df1.head()"
   ]
  },
  {
   "cell_type": "code",
   "execution_count": 73,
   "id": "0602cb40",
   "metadata": {},
   "outputs": [
    {
     "data": {
      "text/html": [
       "<div>\n",
       "<style scoped>\n",
       "    .dataframe tbody tr th:only-of-type {\n",
       "        vertical-align: middle;\n",
       "    }\n",
       "\n",
       "    .dataframe tbody tr th {\n",
       "        vertical-align: top;\n",
       "    }\n",
       "\n",
       "    .dataframe thead th {\n",
       "        text-align: right;\n",
       "    }\n",
       "</style>\n",
       "<table border=\"1\" class=\"dataframe\">\n",
       "  <thead>\n",
       "    <tr style=\"text-align: right;\">\n",
       "      <th></th>\n",
       "      <th>jobid</th>\n",
       "      <th>numberofpositions</th>\n",
       "      <th>min_pay</th>\n",
       "      <th>max_pay</th>\n",
       "      <th>min_exp</th>\n",
       "      <th>max_exp</th>\n",
       "      <th>avg_exp</th>\n",
       "      <th>avg_pay</th>\n",
       "      <th>day</th>\n",
       "      <th>month</th>\n",
       "      <th>year</th>\n",
       "    </tr>\n",
       "  </thead>\n",
       "  <tbody>\n",
       "    <tr>\n",
       "      <th>count</th>\n",
       "      <td>2.200000e+04</td>\n",
       "      <td>4464.000000</td>\n",
       "      <td>4.641000e+03</td>\n",
       "      <td>4.940000e+03</td>\n",
       "      <td>21884.000000</td>\n",
       "      <td>21884.000000</td>\n",
       "      <td>21884.000000</td>\n",
       "      <td>4.640000e+03</td>\n",
       "      <td>21977.000000</td>\n",
       "      <td>21977.000000</td>\n",
       "      <td>21977.000000</td>\n",
       "    </tr>\n",
       "    <tr>\n",
       "      <th>mean</th>\n",
       "      <td>1.561171e+11</td>\n",
       "      <td>45.116935</td>\n",
       "      <td>4.493986e+05</td>\n",
       "      <td>7.342964e+05</td>\n",
       "      <td>3.600987</td>\n",
       "      <td>7.117803</td>\n",
       "      <td>5.359395</td>\n",
       "      <td>6.149812e+05</td>\n",
       "      <td>18.849934</td>\n",
       "      <td>7.224189</td>\n",
       "      <td>2015.750648</td>\n",
       "    </tr>\n",
       "    <tr>\n",
       "      <th>std</th>\n",
       "      <td>9.423956e+10</td>\n",
       "      <td>186.197193</td>\n",
       "      <td>5.509237e+05</td>\n",
       "      <td>7.559780e+05</td>\n",
       "      <td>3.100532</td>\n",
       "      <td>3.923900</td>\n",
       "      <td>3.444409</td>\n",
       "      <td>6.442135e+05</td>\n",
       "      <td>9.751744</td>\n",
       "      <td>4.062145</td>\n",
       "      <td>0.450577</td>\n",
       "    </tr>\n",
       "    <tr>\n",
       "      <th>min</th>\n",
       "      <td>1.011600e+10</td>\n",
       "      <td>1.000000</td>\n",
       "      <td>1.500000e+01</td>\n",
       "      <td>1.000000e+00</td>\n",
       "      <td>0.000000</td>\n",
       "      <td>0.000000</td>\n",
       "      <td>0.000000</td>\n",
       "      <td>1.750000e+01</td>\n",
       "      <td>1.000000</td>\n",
       "      <td>1.000000</td>\n",
       "      <td>2015.000000</td>\n",
       "    </tr>\n",
       "    <tr>\n",
       "      <th>25%</th>\n",
       "      <td>6.121650e+10</td>\n",
       "      <td>2.000000</td>\n",
       "      <td>1.500000e+05</td>\n",
       "      <td>3.000000e+05</td>\n",
       "      <td>2.000000</td>\n",
       "      <td>5.000000</td>\n",
       "      <td>3.000000</td>\n",
       "      <td>2.500000e+05</td>\n",
       "      <td>9.000000</td>\n",
       "      <td>3.000000</td>\n",
       "      <td>2015.000000</td>\n",
       "    </tr>\n",
       "    <tr>\n",
       "      <th>50%</th>\n",
       "      <td>1.602169e+11</td>\n",
       "      <td>4.000000</td>\n",
       "      <td>2.500000e+05</td>\n",
       "      <td>5.000000e+05</td>\n",
       "      <td>3.000000</td>\n",
       "      <td>7.000000</td>\n",
       "      <td>4.500000</td>\n",
       "      <td>3.750000e+05</td>\n",
       "      <td>22.000000</td>\n",
       "      <td>8.000000</td>\n",
       "      <td>2016.000000</td>\n",
       "    </tr>\n",
       "    <tr>\n",
       "      <th>75%</th>\n",
       "      <td>2.502166e+11</td>\n",
       "      <td>10.000000</td>\n",
       "      <td>5.000000e+05</td>\n",
       "      <td>9.000000e+05</td>\n",
       "      <td>5.000000</td>\n",
       "      <td>9.000000</td>\n",
       "      <td>7.000000</td>\n",
       "      <td>7.500000e+05</td>\n",
       "      <td>29.000000</td>\n",
       "      <td>11.000000</td>\n",
       "      <td>2016.000000</td>\n",
       "    </tr>\n",
       "    <tr>\n",
       "      <th>max</th>\n",
       "      <td>3.112155e+11</td>\n",
       "      <td>2000.000000</td>\n",
       "      <td>5.500000e+06</td>\n",
       "      <td>8.000000e+06</td>\n",
       "      <td>26.000000</td>\n",
       "      <td>30.000000</td>\n",
       "      <td>28.000000</td>\n",
       "      <td>6.500000e+06</td>\n",
       "      <td>31.000000</td>\n",
       "      <td>12.000000</td>\n",
       "      <td>2017.000000</td>\n",
       "    </tr>\n",
       "  </tbody>\n",
       "</table>\n",
       "</div>"
      ],
      "text/plain": [
       "              jobid  numberofpositions       min_pay       max_pay  \\\n",
       "count  2.200000e+04        4464.000000  4.641000e+03  4.940000e+03   \n",
       "mean   1.561171e+11          45.116935  4.493986e+05  7.342964e+05   \n",
       "std    9.423956e+10         186.197193  5.509237e+05  7.559780e+05   \n",
       "min    1.011600e+10           1.000000  1.500000e+01  1.000000e+00   \n",
       "25%    6.121650e+10           2.000000  1.500000e+05  3.000000e+05   \n",
       "50%    1.602169e+11           4.000000  2.500000e+05  5.000000e+05   \n",
       "75%    2.502166e+11          10.000000  5.000000e+05  9.000000e+05   \n",
       "max    3.112155e+11        2000.000000  5.500000e+06  8.000000e+06   \n",
       "\n",
       "            min_exp       max_exp       avg_exp       avg_pay           day  \\\n",
       "count  21884.000000  21884.000000  21884.000000  4.640000e+03  21977.000000   \n",
       "mean       3.600987      7.117803      5.359395  6.149812e+05     18.849934   \n",
       "std        3.100532      3.923900      3.444409  6.442135e+05      9.751744   \n",
       "min        0.000000      0.000000      0.000000  1.750000e+01      1.000000   \n",
       "25%        2.000000      5.000000      3.000000  2.500000e+05      9.000000   \n",
       "50%        3.000000      7.000000      4.500000  3.750000e+05     22.000000   \n",
       "75%        5.000000      9.000000      7.000000  7.500000e+05     29.000000   \n",
       "max       26.000000     30.000000     28.000000  6.500000e+06     31.000000   \n",
       "\n",
       "              month          year  \n",
       "count  21977.000000  21977.000000  \n",
       "mean       7.224189   2015.750648  \n",
       "std        4.062145      0.450577  \n",
       "min        1.000000   2015.000000  \n",
       "25%        3.000000   2015.000000  \n",
       "50%        8.000000   2016.000000  \n",
       "75%       11.000000   2016.000000  \n",
       "max       12.000000   2017.000000  "
      ]
     },
     "execution_count": 73,
     "metadata": {},
     "output_type": "execute_result"
    }
   ],
   "source": [
    "df1.describe()"
   ]
  },
  {
   "cell_type": "code",
   "execution_count": 74,
   "id": "8659949c",
   "metadata": {},
   "outputs": [
    {
     "data": {
      "text/html": [
       "<div>\n",
       "<style scoped>\n",
       "    .dataframe tbody tr th:only-of-type {\n",
       "        vertical-align: middle;\n",
       "    }\n",
       "\n",
       "    .dataframe tbody tr th {\n",
       "        vertical-align: top;\n",
       "    }\n",
       "\n",
       "    .dataframe thead th {\n",
       "        text-align: right;\n",
       "    }\n",
       "</style>\n",
       "<table border=\"1\" class=\"dataframe\">\n",
       "  <thead>\n",
       "    <tr style=\"text-align: right;\">\n",
       "      <th></th>\n",
       "      <th>count</th>\n",
       "      <th>unique</th>\n",
       "      <th>top</th>\n",
       "      <th>freq</th>\n",
       "    </tr>\n",
       "  </thead>\n",
       "  <tbody>\n",
       "    <tr>\n",
       "      <th>company</th>\n",
       "      <td>21996</td>\n",
       "      <td>8469</td>\n",
       "      <td>Indian Institute of Technology Bombay</td>\n",
       "      <td>403</td>\n",
       "    </tr>\n",
       "    <tr>\n",
       "      <th>education</th>\n",
       "      <td>20004</td>\n",
       "      <td>2355</td>\n",
       "      <td>UG: Any Graduate - Any Specialization, Graduat...</td>\n",
       "      <td>2015</td>\n",
       "    </tr>\n",
       "    <tr>\n",
       "      <th>experience</th>\n",
       "      <td>21996</td>\n",
       "      <td>147</td>\n",
       "      <td>2 - 7 yrs</td>\n",
       "      <td>1712</td>\n",
       "    </tr>\n",
       "    <tr>\n",
       "      <th>industry</th>\n",
       "      <td>21995</td>\n",
       "      <td>63</td>\n",
       "      <td>IT-Software / Software Services</td>\n",
       "      <td>9216</td>\n",
       "    </tr>\n",
       "    <tr>\n",
       "      <th>jobdescription</th>\n",
       "      <td>21996</td>\n",
       "      <td>21063</td>\n",
       "      <td>Job Description   Send me Jobs like this Adver...</td>\n",
       "      <td>121</td>\n",
       "    </tr>\n",
       "    <tr>\n",
       "      <th>joblocation_address</th>\n",
       "      <td>21499</td>\n",
       "      <td>2329</td>\n",
       "      <td>Bengaluru/Bangalore</td>\n",
       "      <td>3775</td>\n",
       "    </tr>\n",
       "    <tr>\n",
       "      <th>jobtitle</th>\n",
       "      <td>22000</td>\n",
       "      <td>17564</td>\n",
       "      <td>Business Development Executive</td>\n",
       "      <td>93</td>\n",
       "    </tr>\n",
       "    <tr>\n",
       "      <th>payrate</th>\n",
       "      <td>21903</td>\n",
       "      <td>1848</td>\n",
       "      <td>Not Disclosed by Recruiter</td>\n",
       "      <td>15849</td>\n",
       "    </tr>\n",
       "    <tr>\n",
       "      <th>postdate</th>\n",
       "      <td>21977</td>\n",
       "      <td>4203</td>\n",
       "      <td>2016-05-21 08:24:31+00:00</td>\n",
       "      <td>48</td>\n",
       "    </tr>\n",
       "    <tr>\n",
       "      <th>site_name</th>\n",
       "      <td>3987</td>\n",
       "      <td>1</td>\n",
       "      <td>www.naukri.com</td>\n",
       "      <td>3987</td>\n",
       "    </tr>\n",
       "    <tr>\n",
       "      <th>skills</th>\n",
       "      <td>21472</td>\n",
       "      <td>45</td>\n",
       "      <td>IT Software - Application Programming</td>\n",
       "      <td>5989</td>\n",
       "    </tr>\n",
       "    <tr>\n",
       "      <th>uniq_id</th>\n",
       "      <td>22000</td>\n",
       "      <td>22000</td>\n",
       "      <td>16f45f5a971d49240311ec138a9d54be</td>\n",
       "      <td>1</td>\n",
       "    </tr>\n",
       "  </tbody>\n",
       "</table>\n",
       "</div>"
      ],
      "text/plain": [
       "                     count unique  \\\n",
       "company              21996   8469   \n",
       "education            20004   2355   \n",
       "experience           21996    147   \n",
       "industry             21995     63   \n",
       "jobdescription       21996  21063   \n",
       "joblocation_address  21499   2329   \n",
       "jobtitle             22000  17564   \n",
       "payrate              21903   1848   \n",
       "postdate             21977   4203   \n",
       "site_name             3987      1   \n",
       "skills               21472     45   \n",
       "uniq_id              22000  22000   \n",
       "\n",
       "                                                                   top   freq  \n",
       "company                          Indian Institute of Technology Bombay    403  \n",
       "education            UG: Any Graduate - Any Specialization, Graduat...   2015  \n",
       "experience                                                   2 - 7 yrs   1712  \n",
       "industry                               IT-Software / Software Services   9216  \n",
       "jobdescription       Job Description   Send me Jobs like this Adver...    121  \n",
       "joblocation_address                                Bengaluru/Bangalore   3775  \n",
       "jobtitle                                Business Development Executive     93  \n",
       "payrate                                     Not Disclosed by Recruiter  15849  \n",
       "postdate                                     2016-05-21 08:24:31+00:00     48  \n",
       "site_name                                               www.naukri.com   3987  \n",
       "skills                           IT Software - Application Programming   5989  \n",
       "uniq_id                               16f45f5a971d49240311ec138a9d54be      1  "
      ]
     },
     "execution_count": 74,
     "metadata": {},
     "output_type": "execute_result"
    }
   ],
   "source": [
    "# Descrirptive analysis on columns which has data type as object\n",
    "\n",
    "df1.describe(include = [\"O\"]).T\n"
   ]
  },
  {
   "cell_type": "markdown",
   "id": "db63441d",
   "metadata": {},
   "source": [
    "## Bivariate analysis"
   ]
  },
  {
   "cell_type": "code",
   "execution_count": 75,
   "id": "6ac64c75",
   "metadata": {},
   "outputs": [],
   "source": [
    "# checking for categorical columns\n",
    "\n",
    "categorical = [col for col in df.columns if df[col].dtype == 'object']"
   ]
  },
  {
   "cell_type": "code",
   "execution_count": 76,
   "id": "a4011ba6",
   "metadata": {},
   "outputs": [
    {
     "name": "stdout",
     "output_type": "stream",
     "text": [
      "['company', 'education', 'experience', 'industry', 'jobdescription', 'joblocation_address', 'jobtitle', 'payrate', 'site_name', 'skills', 'uniq_id']\n"
     ]
    }
   ],
   "source": [
    "print(categorical)"
   ]
  },
  {
   "cell_type": "code",
   "execution_count": 77,
   "id": "14560760",
   "metadata": {},
   "outputs": [],
   "source": [
    "# checking for numerical columns\n",
    "\n",
    "numerical = [col for col in df.columns if df[col].dtype != 'object']"
   ]
  },
  {
   "cell_type": "code",
   "execution_count": 78,
   "id": "e43d0f47",
   "metadata": {},
   "outputs": [
    {
     "name": "stdout",
     "output_type": "stream",
     "text": [
      "['jobid', 'numberofpositions', 'postdate', 'min_pay', 'max_pay', 'min_exp', 'max_exp', 'avg_exp', 'avg_pay', 'day', 'month', 'year']\n"
     ]
    }
   ],
   "source": [
    "print(numerical)"
   ]
  },
  {
   "cell_type": "markdown",
   "id": "15940623",
   "metadata": {},
   "source": [
    "### Performing correlation"
   ]
  },
  {
   "cell_type": "code",
   "execution_count": 79,
   "id": "180f99a4",
   "metadata": {},
   "outputs": [
    {
     "data": {
      "text/plain": [
       "<function matplotlib.pyplot.show(close=None, block=None)>"
      ]
     },
     "execution_count": 79,
     "metadata": {},
     "output_type": "execute_result"
    },
    {
     "data": {
      "image/png": "[encoded data removed]",
      "text/plain": [
       "<Figure size 864x432 with 2 Axes>"
      ]
     },
     "metadata": {
      "needs_background": "light"
     },
     "output_type": "display_data"
    }
   ],
   "source": [
    "plt.figure(figsize = (12, 6))\n",
    "sns.heatmap(df.corr(), annot = True, cmap = \"Reds\")\n",
    "plt.title(\"Heatmap of job market\")\n",
    "plt.show"
   ]
  },
  {
   "cell_type": "markdown",
   "id": "1464f27f",
   "metadata": {},
   "source": [
    "### Companies vs Number of jobs"
   ]
  },
  {
   "cell_type": "code",
   "execution_count": 80,
   "id": "ab61094d",
   "metadata": {},
   "outputs": [],
   "source": [
    "comp = df[\"company\"].value_counts().reset_index()"
   ]
  },
  {
   "cell_type": "code",
   "execution_count": 81,
   "id": "3dbb014b",
   "metadata": {},
   "outputs": [
    {
     "data": {
      "text/html": [
       "<div>\n",
       "<style scoped>\n",
       "    .dataframe tbody tr th:only-of-type {\n",
       "        vertical-align: middle;\n",
       "    }\n",
       "\n",
       "    .dataframe tbody tr th {\n",
       "        vertical-align: top;\n",
       "    }\n",
       "\n",
       "    .dataframe thead th {\n",
       "        text-align: right;\n",
       "    }\n",
       "</style>\n",
       "<table border=\"1\" class=\"dataframe\">\n",
       "  <thead>\n",
       "    <tr style=\"text-align: right;\">\n",
       "      <th></th>\n",
       "      <th>index</th>\n",
       "      <th>company</th>\n",
       "    </tr>\n",
       "  </thead>\n",
       "  <tbody>\n",
       "    <tr>\n",
       "      <th>0</th>\n",
       "      <td>Indian Institute of Technology Bombay</td>\n",
       "      <td>403</td>\n",
       "    </tr>\n",
       "    <tr>\n",
       "      <th>1</th>\n",
       "      <td>Confidential</td>\n",
       "      <td>393</td>\n",
       "    </tr>\n",
       "    <tr>\n",
       "      <th>2</th>\n",
       "      <td>National Institute of Industrial Engineering</td>\n",
       "      <td>185</td>\n",
       "    </tr>\n",
       "    <tr>\n",
       "      <th>3</th>\n",
       "      <td>Oracle India Pvt. Ltd.</td>\n",
       "      <td>151</td>\n",
       "    </tr>\n",
       "    <tr>\n",
       "      <th>4</th>\n",
       "      <td>JPMorgan Chase</td>\n",
       "      <td>135</td>\n",
       "    </tr>\n",
       "    <tr>\n",
       "      <th>...</th>\n",
       "      <td>...</td>\n",
       "      <td>...</td>\n",
       "    </tr>\n",
       "    <tr>\n",
       "      <th>8464</th>\n",
       "      <td>Brick Force Consulting Services PVT LTD</td>\n",
       "      <td>1</td>\n",
       "    </tr>\n",
       "    <tr>\n",
       "      <th>8465</th>\n",
       "      <td>MVN university</td>\n",
       "      <td>1</td>\n",
       "    </tr>\n",
       "    <tr>\n",
       "      <th>8466</th>\n",
       "      <td>Lazzaro HR Solutions Pvt. Ltd. hiring for Lead...</td>\n",
       "      <td>1</td>\n",
       "    </tr>\n",
       "    <tr>\n",
       "      <th>8467</th>\n",
       "      <td>Unicorn Denmart</td>\n",
       "      <td>1</td>\n",
       "    </tr>\n",
       "    <tr>\n",
       "      <th>8468</th>\n",
       "      <td>Azure Power India Pvt Ltd hiring for Azure Pow...</td>\n",
       "      <td>1</td>\n",
       "    </tr>\n",
       "  </tbody>\n",
       "</table>\n",
       "<p>8469 rows × 2 columns</p>\n",
       "</div>"
      ],
      "text/plain": [
       "                                                  index  company\n",
       "0                 Indian Institute of Technology Bombay      403\n",
       "1                                          Confidential      393\n",
       "2          National Institute of Industrial Engineering      185\n",
       "3                                Oracle India Pvt. Ltd.      151\n",
       "4                                        JPMorgan Chase      135\n",
       "...                                                 ...      ...\n",
       "8464            Brick Force Consulting Services PVT LTD        1\n",
       "8465                                     MVN university        1\n",
       "8466  Lazzaro HR Solutions Pvt. Ltd. hiring for Lead...        1\n",
       "8467                                    Unicorn Denmart        1\n",
       "8468  Azure Power India Pvt Ltd hiring for Azure Pow...        1\n",
       "\n",
       "[8469 rows x 2 columns]"
      ]
     },
     "execution_count": 81,
     "metadata": {},
     "output_type": "execute_result"
    }
   ],
   "source": [
    "comp"
   ]
  },
  {
   "cell_type": "code",
   "execution_count": 82,
   "id": "6528ce97",
   "metadata": {},
   "outputs": [],
   "source": [
    "comp.columns= [\"Company\", \"Number of jobs\" ]"
   ]
  },
  {
   "cell_type": "code",
   "execution_count": 83,
   "id": "d7ec14b2",
   "metadata": {},
   "outputs": [
    {
     "data": {
      "text/html": [
       "<div>\n",
       "<style scoped>\n",
       "    .dataframe tbody tr th:only-of-type {\n",
       "        vertical-align: middle;\n",
       "    }\n",
       "\n",
       "    .dataframe tbody tr th {\n",
       "        vertical-align: top;\n",
       "    }\n",
       "\n",
       "    .dataframe thead th {\n",
       "        text-align: right;\n",
       "    }\n",
       "</style>\n",
       "<table border=\"1\" class=\"dataframe\">\n",
       "  <thead>\n",
       "    <tr style=\"text-align: right;\">\n",
       "      <th></th>\n",
       "      <th>Company</th>\n",
       "      <th>Number of jobs</th>\n",
       "    </tr>\n",
       "  </thead>\n",
       "  <tbody>\n",
       "    <tr>\n",
       "      <th>0</th>\n",
       "      <td>Indian Institute of Technology Bombay</td>\n",
       "      <td>403</td>\n",
       "    </tr>\n",
       "    <tr>\n",
       "      <th>1</th>\n",
       "      <td>Confidential</td>\n",
       "      <td>393</td>\n",
       "    </tr>\n",
       "    <tr>\n",
       "      <th>2</th>\n",
       "      <td>National Institute of Industrial Engineering</td>\n",
       "      <td>185</td>\n",
       "    </tr>\n",
       "    <tr>\n",
       "      <th>3</th>\n",
       "      <td>Oracle India Pvt. Ltd.</td>\n",
       "      <td>151</td>\n",
       "    </tr>\n",
       "    <tr>\n",
       "      <th>4</th>\n",
       "      <td>JPMorgan Chase</td>\n",
       "      <td>135</td>\n",
       "    </tr>\n",
       "    <tr>\n",
       "      <th>...</th>\n",
       "      <td>...</td>\n",
       "      <td>...</td>\n",
       "    </tr>\n",
       "    <tr>\n",
       "      <th>8464</th>\n",
       "      <td>Brick Force Consulting Services PVT LTD</td>\n",
       "      <td>1</td>\n",
       "    </tr>\n",
       "    <tr>\n",
       "      <th>8465</th>\n",
       "      <td>MVN university</td>\n",
       "      <td>1</td>\n",
       "    </tr>\n",
       "    <tr>\n",
       "      <th>8466</th>\n",
       "      <td>Lazzaro HR Solutions Pvt. Ltd. hiring for Lead...</td>\n",
       "      <td>1</td>\n",
       "    </tr>\n",
       "    <tr>\n",
       "      <th>8467</th>\n",
       "      <td>Unicorn Denmart</td>\n",
       "      <td>1</td>\n",
       "    </tr>\n",
       "    <tr>\n",
       "      <th>8468</th>\n",
       "      <td>Azure Power India Pvt Ltd hiring for Azure Pow...</td>\n",
       "      <td>1</td>\n",
       "    </tr>\n",
       "  </tbody>\n",
       "</table>\n",
       "<p>8469 rows × 2 columns</p>\n",
       "</div>"
      ],
      "text/plain": [
       "                                                Company  Number of jobs\n",
       "0                 Indian Institute of Technology Bombay             403\n",
       "1                                          Confidential             393\n",
       "2          National Institute of Industrial Engineering             185\n",
       "3                                Oracle India Pvt. Ltd.             151\n",
       "4                                        JPMorgan Chase             135\n",
       "...                                                 ...             ...\n",
       "8464            Brick Force Consulting Services PVT LTD               1\n",
       "8465                                     MVN university               1\n",
       "8466  Lazzaro HR Solutions Pvt. Ltd. hiring for Lead...               1\n",
       "8467                                    Unicorn Denmart               1\n",
       "8468  Azure Power India Pvt Ltd hiring for Azure Pow...               1\n",
       "\n",
       "[8469 rows x 2 columns]"
      ]
     },
     "execution_count": 83,
     "metadata": {},
     "output_type": "execute_result"
    }
   ],
   "source": [
    "comp"
   ]
  },
  {
   "cell_type": "code",
   "execution_count": 84,
   "id": "76ebdd17",
   "metadata": {},
   "outputs": [
    {
     "data": {
      "image/png": "[encoded data removed]",
      "text/plain": [
       "<Figure size 432x288 with 1 Axes>"
      ]
     },
     "metadata": {
      "needs_background": "light"
     },
     "output_type": "display_data"
    }
   ],
   "source": [
    "# Bar chart For top 10 companies \n",
    "\n",
    "plt.bar(comp[\"Company\"][0:10], comp[\"Number of jobs\"][0:10])\n",
    "plt.xticks(rotation = 90)\n",
    "plt.show()"
   ]
  },
  {
   "cell_type": "code",
   "execution_count": 85,
   "id": "697203d3",
   "metadata": {},
   "outputs": [
    {
     "data": {
      "image/png": "[encoded data removed]",
      "text/plain": [
       "<Figure size 864x432 with 1 Axes>"
      ]
     },
     "metadata": {},
     "output_type": "display_data"
    }
   ],
   "source": [
    "# Pie chart For top 10 companies \n",
    "\n",
    "plt.figure(figsize = (12, 6))\n",
    "plt.pie(labels = comp[\"Company\"][0:10], x = comp[\"Number of jobs\"][0:10], autopct = \"%1.1f%%\")\n",
    "plt.show()"
   ]
  },
  {
   "cell_type": "markdown",
   "id": "5486f2b7",
   "metadata": {},
   "source": [
    "### Industries vs Number of jobs"
   ]
  },
  {
   "cell_type": "code",
   "execution_count": 86,
   "id": "5c28a3f9",
   "metadata": {},
   "outputs": [],
   "source": [
    "ind = df[\"industry\"].value_counts().reset_index()"
   ]
  },
  {
   "cell_type": "code",
   "execution_count": 87,
   "id": "35ea537d",
   "metadata": {},
   "outputs": [],
   "source": [
    "ind.columns = [\"Industry\", \"No. of jobs\"]"
   ]
  },
  {
   "cell_type": "code",
   "execution_count": 88,
   "id": "bc669b9a",
   "metadata": {},
   "outputs": [
    {
     "data": {
      "text/html": [
       "<div>\n",
       "<style scoped>\n",
       "    .dataframe tbody tr th:only-of-type {\n",
       "        vertical-align: middle;\n",
       "    }\n",
       "\n",
       "    .dataframe tbody tr th {\n",
       "        vertical-align: top;\n",
       "    }\n",
       "\n",
       "    .dataframe thead th {\n",
       "        text-align: right;\n",
       "    }\n",
       "</style>\n",
       "<table border=\"1\" class=\"dataframe\">\n",
       "  <thead>\n",
       "    <tr style=\"text-align: right;\">\n",
       "      <th></th>\n",
       "      <th>Industry</th>\n",
       "      <th>No. of jobs</th>\n",
       "    </tr>\n",
       "  </thead>\n",
       "  <tbody>\n",
       "    <tr>\n",
       "      <th>0</th>\n",
       "      <td>IT-Software / Software Services</td>\n",
       "      <td>9216</td>\n",
       "    </tr>\n",
       "    <tr>\n",
       "      <th>1</th>\n",
       "      <td>Education / Teaching / Training</td>\n",
       "      <td>1322</td>\n",
       "    </tr>\n",
       "    <tr>\n",
       "      <th>2</th>\n",
       "      <td>BPO / Call Centre / ITES</td>\n",
       "      <td>1254</td>\n",
       "    </tr>\n",
       "    <tr>\n",
       "      <th>3</th>\n",
       "      <td>Banking / Financial Services / Broking</td>\n",
       "      <td>1238</td>\n",
       "    </tr>\n",
       "    <tr>\n",
       "      <th>4</th>\n",
       "      <td>Recruitment / Staffing</td>\n",
       "      <td>1129</td>\n",
       "    </tr>\n",
       "    <tr>\n",
       "      <th>...</th>\n",
       "      <td>...</td>\n",
       "      <td>...</td>\n",
       "    </tr>\n",
       "    <tr>\n",
       "      <th>58</th>\n",
       "      <td>Brewery / Distillery</td>\n",
       "      <td>4</td>\n",
       "    </tr>\n",
       "    <tr>\n",
       "      <th>59</th>\n",
       "      <td>Medical Devices / Equipments</td>\n",
       "      <td>4</td>\n",
       "    </tr>\n",
       "    <tr>\n",
       "      <th>60</th>\n",
       "      <td>Pulp and Paper</td>\n",
       "      <td>2</td>\n",
       "    </tr>\n",
       "    <tr>\n",
       "      <th>61</th>\n",
       "      <td>Leather</td>\n",
       "      <td>1</td>\n",
       "    </tr>\n",
       "    <tr>\n",
       "      <th>62</th>\n",
       "      <td>Broadcasting</td>\n",
       "      <td>1</td>\n",
       "    </tr>\n",
       "  </tbody>\n",
       "</table>\n",
       "<p>63 rows × 2 columns</p>\n",
       "</div>"
      ],
      "text/plain": [
       "                                  Industry  No. of jobs\n",
       "0          IT-Software / Software Services         9216\n",
       "1          Education / Teaching / Training         1322\n",
       "2                 BPO / Call Centre / ITES         1254\n",
       "3   Banking / Financial Services / Broking         1238\n",
       "4                   Recruitment / Staffing         1129\n",
       "..                                     ...          ...\n",
       "58                    Brewery / Distillery            4\n",
       "59            Medical Devices / Equipments            4\n",
       "60                          Pulp and Paper            2\n",
       "61                                 Leather            1\n",
       "62                            Broadcasting            1\n",
       "\n",
       "[63 rows x 2 columns]"
      ]
     },
     "execution_count": 88,
     "metadata": {},
     "output_type": "execute_result"
    }
   ],
   "source": [
    "ind"
   ]
  },
  {
   "cell_type": "code",
   "execution_count": 89,
   "id": "c9dd7234",
   "metadata": {},
   "outputs": [
    {
     "data": {
      "image/png": "[encoded data removed]",
      "text/plain": [
       "<Figure size 864x432 with 1 Axes>"
      ]
     },
     "metadata": {},
     "output_type": "display_data"
    }
   ],
   "source": [
    "plt.figure(figsize = (12, 6))\n",
    "plt.pie(labels = ind[\"Industry\"][0:10], x = ind[\"No. of jobs\"][0:10], autopct = \"%1.1f%%\")\n",
    "plt.show()"
   ]
  },
  {
   "cell_type": "markdown",
   "id": "f47d3178",
   "metadata": {},
   "source": [
    "### Job title vs Number of jobs"
   ]
  },
  {
   "cell_type": "code",
   "execution_count": 90,
   "id": "c0bd3b73",
   "metadata": {},
   "outputs": [],
   "source": [
    "job_title = df[\"jobtitle\"].value_counts().reset_index()"
   ]
  },
  {
   "cell_type": "code",
   "execution_count": 91,
   "id": "8d833acb",
   "metadata": {},
   "outputs": [],
   "source": [
    "job_title.columns = [\"Job Titles\", \"No. of jobs\"]"
   ]
  },
  {
   "cell_type": "code",
   "execution_count": 92,
   "id": "d4053f96",
   "metadata": {},
   "outputs": [
    {
     "data": {
      "text/plain": [
       "<function matplotlib.pyplot.show(close=None, block=None)>"
      ]
     },
     "execution_count": 92,
     "metadata": {},
     "output_type": "execute_result"
    },
    {
     "data": {
      "image/png": "[encoded data removed]",
      "text/plain": [
       "<Figure size 864x432 with 1 Axes>"
      ]
     },
     "metadata": {},
     "output_type": "display_data"
    }
   ],
   "source": [
    "plt.figure(figsize = (12, 6))\n",
    "plt.pie(labels = job_title[\"Job Titles\"][0:10], x = job_title[\"No. of jobs\"][0:10], autopct = \"%1.1f%%\")\n",
    "plt.show"
   ]
  },
  {
   "cell_type": "markdown",
   "id": "37599118",
   "metadata": {},
   "source": [
    "### Skills vs Number of jobs"
   ]
  },
  {
   "cell_type": "code",
   "execution_count": 93,
   "id": "e1e48318",
   "metadata": {},
   "outputs": [],
   "source": [
    "skill_jobs = df[\"skills\"].value_counts().reset_index()"
   ]
  },
  {
   "cell_type": "code",
   "execution_count": 94,
   "id": "9d191807",
   "metadata": {},
   "outputs": [],
   "source": [
    "skill_jobs.columns = [\"Skills\", \"No. of jobs\"]"
   ]
  },
  {
   "cell_type": "code",
   "execution_count": 95,
   "id": "9d4a2102",
   "metadata": {},
   "outputs": [
    {
     "data": {
      "text/plain": [
       "<function matplotlib.pyplot.show(close=None, block=None)>"
      ]
     },
     "execution_count": 95,
     "metadata": {},
     "output_type": "execute_result"
    },
    {
     "data": {
      "image/png": "[encoded data removed]",
      "text/plain": [
       "<Figure size 864x432 with 1 Axes>"
      ]
     },
     "metadata": {},
     "output_type": "display_data"
    }
   ],
   "source": [
    "plt.figure(figsize = (12, 6))\n",
    "plt.pie(labels = skill_jobs[\"Skills\"][0:10], x = skill_jobs[\"No. of jobs\"][0:10], autopct = \"%1.1f%%\")\n",
    "plt.show"
   ]
  },
  {
   "cell_type": "markdown",
   "id": "2c175633",
   "metadata": {},
   "source": [
    "### Analyzing the relationship between minimum experience and minimum payrate"
   ]
  },
  {
   "cell_type": "code",
   "execution_count": 96,
   "id": "18cac1a8",
   "metadata": {},
   "outputs": [
    {
     "data": {
      "image/png": "[encoded data removed]",
      "text/plain": [
       "<Figure size 1008x432 with 1 Axes>"
      ]
     },
     "metadata": {
      "needs_background": "light"
     },
     "output_type": "display_data"
    }
   ],
   "source": [
    "plt.figure(figsize = (14, 6))\n",
    "sns.stripplot(x = 'min_exp', y = 'min_pay', data = df)\n",
    "sns.boxplot(x = 'min_exp', y = 'min_pay', data = df)\n",
    "plt.title(\"Stripplots between min_exp & min_pay\")\n",
    "plt.show()"
   ]
  },
  {
   "cell_type": "markdown",
   "id": "4f084855",
   "metadata": {},
   "source": [
    "### Analyzing the relationship between maximum experience and maximum payrate"
   ]
  },
  {
   "cell_type": "code",
   "execution_count": 97,
   "id": "0641d862",
   "metadata": {},
   "outputs": [
    {
     "data": {
      "image/png": "[encoded data removed]",
      "text/plain": [
       "<Figure size 1008x432 with 1 Axes>"
      ]
     },
     "metadata": {
      "needs_background": "light"
     },
     "output_type": "display_data"
    }
   ],
   "source": [
    "plt.figure(figsize = (14, 6))\n",
    "sns.stripplot(x = 'max_exp', y = 'max_pay', data = df)\n",
    "sns.boxplot(x = 'max_exp', y = 'max_pay', data = df)\n",
    "plt.title(\"Stripplots between max_exp & max_pay\")\n",
    "plt.show()"
   ]
  },
  {
   "cell_type": "markdown",
   "id": "3bdf5743",
   "metadata": {},
   "source": [
    "### Median of maximum pay in different industries"
   ]
  },
  {
   "cell_type": "code",
   "execution_count": 98,
   "id": "77c7c7e1",
   "metadata": {},
   "outputs": [
    {
     "data": {
      "image/png": "[encoded data removed]",
      "text/plain": [
       "<Figure size 432x288 with 1 Axes>"
      ]
     },
     "metadata": {
      "needs_background": "light"
     },
     "output_type": "display_data"
    }
   ],
   "source": [
    "df[['max_pay', 'industry']].groupby(\"industry\").median().sort_values(by = 'max_pay', ascending = False).head(10).plot.bar()\n",
    "plt.show()"
   ]
  },
  {
   "cell_type": "markdown",
   "id": "5c7b1a84",
   "metadata": {},
   "source": [
    "### Top rated skill"
   ]
  },
  {
   "cell_type": "code",
   "execution_count": 99,
   "id": "24e11b3c",
   "metadata": {
    "scrolled": false
   },
   "outputs": [
    {
     "data": {
      "text/plain": [
       "<function matplotlib.pyplot.show(close=None, block=None)>"
      ]
     },
     "execution_count": 99,
     "metadata": {},
     "output_type": "execute_result"
    },
    {
     "data": {
      "image/png": "[encoded data removed]",
      "text/plain": [
       "<Figure size 1440x720 with 1 Axes>"
      ]
     },
     "metadata": {
      "needs_background": "light"
     },
     "output_type": "display_data"
    }
   ],
   "source": [
    "# All skills \n",
    "\n",
    "plt.figure(figsize = (20, 10))\n",
    "sns.boxplot(x = 'skills', y = 'avg_pay', data = df)\n",
    "plt.xticks(rotation = 90)\n",
    "plt.show"
   ]
  },
  {
   "cell_type": "code",
   "execution_count": 100,
   "id": "cb9ba698",
   "metadata": {
    "scrolled": false
   },
   "outputs": [
    {
     "data": {
      "image/png": "[encoded data removed]",
      "text/plain": [
       "<Figure size 432x288 with 1 Axes>"
      ]
     },
     "metadata": {
      "needs_background": "light"
     },
     "output_type": "display_data"
    }
   ],
   "source": [
    "# Top 10 skills\n",
    "\n",
    "df.groupby(\"skills\")['avg_pay'].median().reset_index().sort_values(by = 'avg_pay', ascending = False).head(10).set_index('skills').plot.bar()\n",
    "plt.show()"
   ]
  },
  {
   "cell_type": "markdown",
   "id": "e656ce3e",
   "metadata": {},
   "source": [
    "### Analysing the available position in the industry"
   ]
  },
  {
   "cell_type": "code",
   "execution_count": 101,
   "id": "1e9c40ea",
   "metadata": {},
   "outputs": [
    {
     "data": {
      "text/plain": [
       "84"
      ]
     },
     "execution_count": 101,
     "metadata": {},
     "output_type": "execute_result"
    }
   ],
   "source": [
    "df[\"numberofpositions\"].nunique()"
   ]
  },
  {
   "cell_type": "code",
   "execution_count": 102,
   "id": "4c94c67d",
   "metadata": {},
   "outputs": [
    {
     "data": {
      "text/plain": [
       "<function matplotlib.pyplot.show(close=None, block=None)>"
      ]
     },
     "execution_count": 102,
     "metadata": {},
     "output_type": "execute_result"
    },
    {
     "data": {
      "image/png": "[encoded data removed]",
      "text/plain": [
       "<Figure size 1296x648 with 1 Axes>"
      ]
     },
     "metadata": {},
     "output_type": "display_data"
    }
   ],
   "source": [
    "plt.figure(figsize = (18, 9))\n",
    "df.groupby(\"industry\")[\"numberofpositions\"].sum().sort_values(ascending = False).head(10).plot.pie(autopct = \"%1.1f%%\")\n",
    "plt.title(\"Pie Chart\", fontsize = 30)\n",
    "plt.show"
   ]
  },
  {
   "cell_type": "markdown",
   "id": "be5bc693",
   "metadata": {},
   "source": [
    "# Summary/Insights\n",
    "\n",
    "    - Strong correlation between average pay and experience, which means more experienced employees gets more pay.\n",
    "    - IT industry has the maximum number of jobs.\n",
    "    - Software Engineers and Business Development Managers job titles have more jobs among other job titles. \n",
    "    - BPO / Call Centres have the maximum number of available jobs."
   ]
  }
 ],
 "metadata": {
  "kernelspec": {
   "display_name": "Python 3",
   "language": "python",
   "name": "python3"
  },
  "language_info": {
   "codemirror_mode": {
    "name": "ipython",
    "version": 3
   },
   "file_extension": ".py",
   "mimetype": "text/x-python",
   "name": "python",
   "nbconvert_exporter": "python",
   "pygments_lexer": "ipython3",
   "version": "3.8.8"
  }
 },
 "nbformat": 4,
 "nbformat_minor": 5
}
