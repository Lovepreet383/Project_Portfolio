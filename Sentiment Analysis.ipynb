{
 "cells": [
  {
   "cell_type": "markdown",
   "id": "2b4e5677",
   "metadata": {},
   "source": [
    "# Sentiment Analysis "
   ]
  },
  {
   "cell_type": "code",
   "execution_count": 1,
   "id": "0bcede37",
   "metadata": {},
   "outputs": [
    {
     "name": "stdout",
     "output_type": "stream",
     "text": [
      "Note: you may need to restart the kernel to use updated packages.\n"
     ]
    }
   ],
   "source": [
    "pip install nltk -q"
   ]
  },
  {
   "cell_type": "code",
   "execution_count": 2,
   "id": "8e5ce6c9",
   "metadata": {},
   "outputs": [],
   "source": [
    "import pandas as pd \n",
    "from nltk.sentiment.vader import SentimentIntensityAnalyzer\n",
    "import warnings\n",
    "warnings.filterwarnings(\"ignore\")\n",
    "import matplotlib.pyplot as plt \n",
    "import seaborn as sns "
   ]
  },
  {
   "cell_type": "code",
   "execution_count": 3,
   "id": "3f93d54a",
   "metadata": {},
   "outputs": [],
   "source": [
    "import nltk"
   ]
  },
  {
   "cell_type": "code",
   "execution_count": 4,
   "id": "c5e3bc5b",
   "metadata": {},
   "outputs": [
    {
     "name": "stderr",
     "output_type": "stream",
     "text": [
      "[nltk_data] Downloading package vader_lexicon to\n",
      "[nltk_data]     C:\\Users\\lovep\\AppData\\Roaming\\nltk_data...\n",
      "[nltk_data]   Package vader_lexicon is already up-to-date!\n"
     ]
    },
    {
     "data": {
      "text/plain": [
       "True"
      ]
     },
     "execution_count": 4,
     "metadata": {},
     "output_type": "execute_result"
    }
   ],
   "source": [
    "nltk.download('vader_lexicon')"
   ]
  },
  {
   "cell_type": "code",
   "execution_count": 5,
   "id": "710a43e5",
   "metadata": {},
   "outputs": [],
   "source": [
    "dataset = pd.read_excel(r\"C:\\Users\\lovep\\Downloads\\Lessons\\Excel1\\Sentiment analysis.xlsx\")"
   ]
  },
  {
   "cell_type": "code",
   "execution_count": 6,
   "id": "ac18c6e7",
   "metadata": {},
   "outputs": [
    {
     "data": {
      "text/html": [
       "<div>\n",
       "<style scoped>\n",
       "    .dataframe tbody tr th:only-of-type {\n",
       "        vertical-align: middle;\n",
       "    }\n",
       "\n",
       "    .dataframe tbody tr th {\n",
       "        vertical-align: top;\n",
       "    }\n",
       "\n",
       "    .dataframe thead th {\n",
       "        text-align: right;\n",
       "    }\n",
       "</style>\n",
       "<table border=\"1\" class=\"dataframe\">\n",
       "  <thead>\n",
       "    <tr style=\"text-align: right;\">\n",
       "      <th></th>\n",
       "      <th>Message</th>\n",
       "    </tr>\n",
       "  </thead>\n",
       "  <tbody>\n",
       "    <tr>\n",
       "      <th>0</th>\n",
       "      <td>I hate your guts</td>\n",
       "    </tr>\n",
       "    <tr>\n",
       "      <th>1</th>\n",
       "      <td>I want to marry you as soon as I get off the p...</td>\n",
       "    </tr>\n",
       "    <tr>\n",
       "      <th>2</th>\n",
       "      <td>I am disappointed with your behavior. I won't ...</td>\n",
       "    </tr>\n",
       "    <tr>\n",
       "      <th>3</th>\n",
       "      <td>Jim has a non-existent credibility with our co...</td>\n",
       "    </tr>\n",
       "    <tr>\n",
       "      <th>4</th>\n",
       "      <td>The sky is blue and the flowers are bright org...</td>\n",
       "    </tr>\n",
       "    <tr>\n",
       "      <th>5</th>\n",
       "      <td>Could you please tell me where Toronto is loca...</td>\n",
       "    </tr>\n",
       "    <tr>\n",
       "      <th>6</th>\n",
       "      <td>My phone number is 777 777 7777</td>\n",
       "    </tr>\n",
       "  </tbody>\n",
       "</table>\n",
       "</div>"
      ],
      "text/plain": [
       "                                            Message \n",
       "0                                   I hate your guts\n",
       "1  I want to marry you as soon as I get off the p...\n",
       "2  I am disappointed with your behavior. I won't ...\n",
       "3  Jim has a non-existent credibility with our co...\n",
       "4  The sky is blue and the flowers are bright org...\n",
       "5  Could you please tell me where Toronto is loca...\n",
       "6                    My phone number is 777 777 7777"
      ]
     },
     "execution_count": 6,
     "metadata": {},
     "output_type": "execute_result"
    }
   ],
   "source": [
    "dataset"
   ]
  },
  {
   "cell_type": "code",
   "execution_count": 7,
   "id": "b8cb6565",
   "metadata": {},
   "outputs": [],
   "source": [
    "sia = SentimentIntensityAnalyzer()"
   ]
  },
  {
   "cell_type": "code",
   "execution_count": 8,
   "id": "7c809cd6",
   "metadata": {},
   "outputs": [],
   "source": [
    "dataset.columns = [\"Message\"]"
   ]
  },
  {
   "cell_type": "code",
   "execution_count": 9,
   "id": "ed493722",
   "metadata": {},
   "outputs": [],
   "source": [
    "dataset[\"Polarity scores\"] = dataset[\"Message\"].apply(lambda x : sia.polarity_scores(str(x))[\"compound\"])"
   ]
  },
  {
   "cell_type": "code",
   "execution_count": 10,
   "id": "394b468c",
   "metadata": {},
   "outputs": [
    {
     "data": {
      "text/html": [
       "<style  type=\"text/css\" >\n",
       "#T_10426_row0_col1{\n",
       "            background-color:  #9e0142;\n",
       "            color:  #f1f1f1;\n",
       "        }#T_10426_row1_col1{\n",
       "            background-color:  #5e4fa2;\n",
       "            color:  #f1f1f1;\n",
       "        }#T_10426_row2_col1{\n",
       "            background-color:  #c72e4c;\n",
       "            color:  #f1f1f1;\n",
       "        }#T_10426_row3_col1{\n",
       "            background-color:  #fff2aa;\n",
       "            color:  #000000;\n",
       "        }#T_10426_row4_col1{\n",
       "            background-color:  #5eb9a9;\n",
       "            color:  #000000;\n",
       "        }#T_10426_row5_col1{\n",
       "            background-color:  #9fd8a4;\n",
       "            color:  #000000;\n",
       "        }#T_10426_row6_col1{\n",
       "            background-color:  #fafdb7;\n",
       "            color:  #000000;\n",
       "        }</style><table id=\"T_10426_\" ><thead>    <tr>        <th class=\"blank level0\" ></th>        <th class=\"col_heading level0 col0\" >Message</th>        <th class=\"col_heading level0 col1\" >Polarity scores</th>    </tr></thead><tbody>\n",
       "                <tr>\n",
       "                        <th id=\"T_10426_level0_row0\" class=\"row_heading level0 row0\" >0</th>\n",
       "                        <td id=\"T_10426_row0_col0\" class=\"data row0 col0\" >I hate your guts</td>\n",
       "                        <td id=\"T_10426_row0_col1\" class=\"data row0 col1\" >-0.571900</td>\n",
       "            </tr>\n",
       "            <tr>\n",
       "                        <th id=\"T_10426_level0_row1\" class=\"row_heading level0 row1\" >1</th>\n",
       "                        <td id=\"T_10426_row1_col0\" class=\"data row1 col0\" >I want to marry you as soon as I get off the plane. You are the love of my life. </td>\n",
       "                        <td id=\"T_10426_row1_col1\" class=\"data row1 col1\" >0.670500</td>\n",
       "            </tr>\n",
       "            <tr>\n",
       "                        <th id=\"T_10426_level0_row2\" class=\"row_heading level0 row2\" >2</th>\n",
       "                        <td id=\"T_10426_row2_col0\" class=\"data row2 col0\" >I am disappointed with your behavior. I won't stand for it anymore. </td>\n",
       "                        <td id=\"T_10426_row2_col1\" class=\"data row2 col1\" >-0.476700</td>\n",
       "            </tr>\n",
       "            <tr>\n",
       "                        <th id=\"T_10426_level0_row3\" class=\"row_heading level0 row3\" >3</th>\n",
       "                        <td id=\"T_10426_row3_col0\" class=\"data row3 col0\" >Jim has a non-existent credibility with our company. </td>\n",
       "                        <td id=\"T_10426_row3_col1\" class=\"data row3 col1\" >0.000000</td>\n",
       "            </tr>\n",
       "            <tr>\n",
       "                        <th id=\"T_10426_level0_row4\" class=\"row_heading level0 row4\" >4</th>\n",
       "                        <td id=\"T_10426_row4_col0\" class=\"data row4 col0\" >The sky is blue and the flowers are bright organge.</td>\n",
       "                        <td id=\"T_10426_row4_col1\" class=\"data row4 col1\" >0.440400</td>\n",
       "            </tr>\n",
       "            <tr>\n",
       "                        <th id=\"T_10426_level0_row5\" class=\"row_heading level0 row5\" >5</th>\n",
       "                        <td id=\"T_10426_row5_col0\" class=\"data row5 col0\" >Could you please tell me where Toronto is located.</td>\n",
       "                        <td id=\"T_10426_row5_col1\" class=\"data row5 col1\" >0.318200</td>\n",
       "            </tr>\n",
       "            <tr>\n",
       "                        <th id=\"T_10426_level0_row6\" class=\"row_heading level0 row6\" >6</th>\n",
       "                        <td id=\"T_10426_row6_col0\" class=\"data row6 col0\" >My phone number is 777 777 7777</td>\n",
       "                        <td id=\"T_10426_row6_col1\" class=\"data row6 col1\" >0.077200</td>\n",
       "            </tr>\n",
       "    </tbody></table>"
      ],
      "text/plain": [
       "<pandas.io.formats.style.Styler at 0x20e06b06c40>"
      ]
     },
     "execution_count": 10,
     "metadata": {},
     "output_type": "execute_result"
    }
   ],
   "source": [
    "dataset.style.background_gradient(cmap = \"Spectral\")"
   ]
  },
  {
   "cell_type": "markdown",
   "id": "f615e8b8",
   "metadata": {},
   "source": [
    "# Summary\n",
    "    - Negatives comments or messages have polarity scores in negative.\n",
    "    - The comments which are neutral having the polarity score either 0 or close to 0. "
   ]
  }
 ],
 "metadata": {
  "kernelspec": {
   "display_name": "Python 3",
   "language": "python",
   "name": "python3"
  },
  "language_info": {
   "codemirror_mode": {
    "name": "ipython",
    "version": 3
   },
   "file_extension": ".py",
   "mimetype": "text/x-python",
   "name": "python",
   "nbconvert_exporter": "python",
   "pygments_lexer": "ipython3",
   "version": "3.8.8"
  }
 },
 "nbformat": 4,
 "nbformat_minor": 5
}
